{
 "cells": [
  {
   "cell_type": "markdown",
   "metadata": {},
   "source": [
    "# 拼接测试数据和仿真数据\n",
    "\n",
    "选取test 的14个真实数据的噪声声音， 拼入仿真数据中"
   ]
  },
  {
   "cell_type": "code",
   "execution_count": 37,
   "metadata": {},
   "outputs": [],
   "source": [
    "import numpy as np\n",
    "import pickle\n",
    "\n",
    "file_to_read = open('train_low_None_.pickle', 'rb')\n",
    "tmp = pickle.load(file_to_read)\n",
    "data = tmp.values\n"
   ]
  },
  {
   "cell_type": "code",
   "execution_count": 38,
   "metadata": {},
   "outputs": [],
   "source": [
    "data = data[:, :-1]"
   ]
  },
  {
   "cell_type": "markdown",
   "metadata": {},
   "source": [
    "读取测试数据"
   ]
  },
  {
   "cell_type": "code",
   "execution_count": 4,
   "metadata": {},
   "outputs": [],
   "source": [
    "file_to_read = open('test__None_.pickle', 'rb')\n",
    "tmp1 = pickle.load(file_to_read)\n",
    "test_data = tmp1.values\n",
    "test_data = test_data[2:, :-1]\n"
   ]
  },
  {
   "cell_type": "markdown",
   "metadata": {},
   "source": [
    "# 使用numpy partition 和广播机制解决这个问题"
   ]
  },
  {
   "cell_type": "markdown",
   "metadata": {},
   "source": [
    "先去test数据的前800小"
   ]
  },
  {
   "cell_type": "code",
   "execution_count": 5,
   "metadata": {},
   "outputs": [
    {
     "name": "stdout",
     "output_type": "stream",
     "text": [
      "[0.07019129229416528, 0.07421625079974699, 0.05484086371389453, 0.022481062962028467, 0.011769476347996344, 0.018685468400203582, 0.11328404511645135, 0.02101827676240194, 0.01835347620963363, 0.015580181861808184, 0.08958327051506093, 0.08395128634173753]\n"
     ]
    }
   ],
   "source": [
    "mask_list = []\n",
    "for i in range(12):\n",
    "    mask2 = np.partition(test_data[i], -200)[-200]\n",
    "    mask_list.append(mask2)\n",
    "    test_data[i] = test_data[i] *(test_data[i] < mask2)\n",
    "print(mask_list)    "
   ]
  },
  {
   "cell_type": "code",
   "execution_count": 39,
   "metadata": {},
   "outputs": [],
   "source": [
    "\n",
    "\n",
    "for i in range(5):\n",
    "    mask1 = np.partition(data[i], -201)[-201]\n",
    "    #print(mask1)\n",
    "    \n",
    "    data[i] = data[i] *(data[i] >= mask1)\n",
    "    #print(data[i])\n",
    "    #break\n",
    "\n"
   ]
  },
  {
   "cell_type": "code",
   "execution_count": 14,
   "metadata": {},
   "outputs": [
    {
     "data": {
      "text/plain": [
       "800"
      ]
     },
     "execution_count": 14,
     "metadata": {},
     "output_type": "execute_result"
    }
   ],
   "source": [
    "count = 0\n",
    "test_data1 = test_data[1].tolist()\n",
    "for i in range(len(test_data[1])):\n",
    "    if test_data1[i] > 0:\n",
    "        count += 1 \n",
    "count        "
   ]
  },
  {
   "cell_type": "code",
   "execution_count": 40,
   "metadata": {},
   "outputs": [
    {
     "data": {
      "text/plain": [
       "800"
      ]
     },
     "execution_count": 40,
     "metadata": {},
     "output_type": "execute_result"
    }
   ],
   "source": [
    "count2= 0\n",
    "data2 = data[0].tolist()\n",
    "for i in range(len(data[0])):\n",
    "    if data2[i] == 0:\n",
    "        count2 += 1 \n",
    "count2  "
   ]
  },
  {
   "cell_type": "code",
   "execution_count": 41,
   "metadata": {},
   "outputs": [
    {
     "name": "stdout",
     "output_type": "stream",
     "text": [
      "800\n"
     ]
    }
   ],
   "source": [
    "a = np.array(data2)\n",
    "b = np.array(test_data1)\n",
    "x = b[b >0]\n",
    "print(len(x))\n",
    "a[a <= 0.0001] = x"
   ]
  },
  {
   "cell_type": "code",
   "execution_count": 44,
   "metadata": {},
   "outputs": [
    {
     "data": {
      "image/png": "[encoded data removed]",
      "text/plain": [
       "<Figure size 432x288 with 1 Axes>"
      ]
     },
     "metadata": {
      "needs_background": "light"
     },
     "output_type": "display_data"
    }
   ],
   "source": [
    "import matplotlib.pyplot as plt\n",
    "x1 = np.linspace(0, 1001,num=1001)\n",
    "y1 = a\n",
    "#y1.shape\n",
    "plt.plot(x1, y1)\n",
    "plt.show()"
   ]
  },
  {
   "cell_type": "code",
   "execution_count": 15,
   "metadata": {},
   "outputs": [
    {
     "name": "stdout",
     "output_type": "stream",
     "text": [
      "[0.0 0.0 0.0 ... 0.011775016914755418 0.02224155251981437\n",
      " 0.02616669553280636]\n"
     ]
    },
    {
     "ename": "ValueError",
     "evalue": "NumPy boolean array indexing assignment cannot assign 1001 input values to the 801 output values where the mask is true",
     "output_type": "error",
     "traceback": [
      "\u001b[0;31m---------------------------------------------------------------------------\u001b[0m",
      "\u001b[0;31mValueError\u001b[0m                                Traceback (most recent call last)",
      "\u001b[0;32m<ipython-input-15-771738a56be5>\u001b[0m in \u001b[0;36m<module>\u001b[0;34m\u001b[0m\n\u001b[1;32m      8\u001b[0m     \u001b[0mb\u001b[0m \u001b[0;34m=\u001b[0m \u001b[0mtest_data\u001b[0m\u001b[0;34m[\u001b[0m\u001b[0mindex\u001b[0m\u001b[0;34m]\u001b[0m\u001b[0;34m\u001b[0m\u001b[0;34m\u001b[0m\u001b[0m\n\u001b[1;32m      9\u001b[0m     \u001b[0mprint\u001b[0m\u001b[0;34m(\u001b[0m\u001b[0mb\u001b[0m\u001b[0;34m)\u001b[0m\u001b[0;34m\u001b[0m\u001b[0;34m\u001b[0m\u001b[0m\n\u001b[0;32m---> 10\u001b[0;31m     \u001b[0ma\u001b[0m\u001b[0;34m[\u001b[0m\u001b[0ma\u001b[0m \u001b[0;34m<\u001b[0m \u001b[0;36m0.001\u001b[0m\u001b[0;34m]\u001b[0m \u001b[0;34m=\u001b[0m \u001b[0mb\u001b[0m\u001b[0;34m[\u001b[0m\u001b[0mb\u001b[0m \u001b[0;34m<\u001b[0m \u001b[0mmask_list\u001b[0m\u001b[0;34m[\u001b[0m\u001b[0mindex\u001b[0m\u001b[0;34m]\u001b[0m\u001b[0;34m]\u001b[0m\u001b[0;34m\u001b[0m\u001b[0;34m\u001b[0m\u001b[0m\n\u001b[0m\u001b[1;32m     11\u001b[0m \u001b[0;34m\u001b[0m\u001b[0m\n\u001b[1;32m     12\u001b[0m \u001b[0;31m#end = time.clock()\u001b[0m\u001b[0;34m\u001b[0m\u001b[0;34m\u001b[0m\u001b[0;34m\u001b[0m\u001b[0m\n",
      "\u001b[0;31mValueError\u001b[0m: NumPy boolean array indexing assignment cannot assign 1001 input values to the 801 output values where the mask is true"
     ]
    }
   ],
   "source": [
    "#import time\n",
    "#start = time.clock()\n",
    "\n",
    "for i in range(13):\n",
    "    a = data[i]\n",
    "    index = int(np.random.randint(0,12,size = 1))\n",
    "    \n",
    "    b = test_data[index]\n",
    "    #print(b)\n",
    "    #a[a < 0.001] = b[b < mask_list[index]]\n",
    "    \n",
    "        \n",
    "            \n",
    "                \n",
    "\n",
    "#end = time.clock()\n",
    "#print(str(end-start))"
   ]
  },
  {
   "cell_type": "markdown",
   "metadata": {},
   "source": [
    "# 代码简单例子， 注意>=, <等符号"
   ]
  },
  {
   "cell_type": "code",
   "execution_count": 18,
   "metadata": {},
   "outputs": [
    {
     "name": "stdout",
     "output_type": "stream",
     "text": [
      "[ 5  6  7  1  4  8  9  3  2 10] 9\n",
      "[5 6 7 1 4 8 0 3 2 0] 9\n",
      "0.0010079999999987876\n"
     ]
    }
   ],
   "source": [
    "import time\n",
    "start = time.clock()\n",
    "\n",
    "A = np.array([5,6,7,1,4,8,9,3,2,10])\n",
    "B = np.array([5,6,7,1,4,8,9,3,2,10])\n",
    "\n",
    "mask1 = np.partition(A,-2)[-2] #取出前2大\n",
    "A = A * (A >= mask1)\n",
    "\n",
    "mask2 = np.partition(B,-2)[-2] #取出比第2大的小的8个数\n",
    "B =B * (B < mask2)\n",
    "\n",
    "A[A<7.999] = B[B>0]\n",
    "\n",
    "print(A, mask1)\n",
    "print(B, mask2)\n",
    "\n",
    "\n",
    "\n",
    "end = time.clock()\n",
    "\n",
    "print(str(end-start))"
   ]
  },
  {
   "cell_type": "code",
   "execution_count": 62,
   "metadata": {},
   "outputs": [
    {
     "name": "stdout",
     "output_type": "stream",
     "text": [
      "[ 5  6  1  7  4  8  9  3 10  2]\n"
     ]
    }
   ],
   "source": [
    "a = np.array([0,0,1,0,4,0,0,0,0,2])\n",
    "b = np.array([5,6,7,0,0,8,9,3,0,10])\n",
    "\n",
    "\n",
    "a[a<1] = b[b>=3]\n",
    "print(a)\n",
    "print(A, mask1)\n",
    "print(B, mask2)\n",
    "\n",
    "\n",
    "#print(a[a<1] = b[b>5])"
   ]
  },
  {
   "cell_type": "code",
   "execution_count": 228,
   "metadata": {},
   "outputs": [
    {
     "name": "stdout",
     "output_type": "stream",
     "text": [
      "88 [33 11 44 66 77 88 99] [ 0  0  0  0  0 99  0]\n"
     ]
    }
   ],
   "source": [
    "a = np.array([44, 33, 88, 77, 66, 99, 11])\n",
    "print(np.partition(a, -2)[-2],np.partition(a, -2), a*(a > np.partition(a, -2)[-2]))\n",
    "\n",
    "\n"
   ]
  },
  {
   "cell_type": "markdown",
   "metadata": {},
   "source": [
    "选出测试数据的关键features"
   ]
  },
  {
   "cell_type": "code",
   "execution_count": null,
   "metadata": {},
   "outputs": [],
   "source": [
    "for i in range(186*800):\n",
    "    mask = np.partition(test_data[i].flatten(), -200)[-200]\n",
    "    test_data[i] = test_data[i] *(test_data[i] < mask)"
   ]
  },
  {
   "cell_type": "code",
   "execution_count": 11,
   "metadata": {},
   "outputs": [
    {
     "data": {
      "text/plain": [
       "60"
      ]
     },
     "execution_count": 11,
     "metadata": {},
     "output_type": "execute_result"
    }
   ],
   "source": [
    "k = np.array([[ 35,  48,  63],\n",
    "...        [ 60,  77,  96],\n",
    "...        [ 91, 112, 135]])\n",
    "\n",
    "np.partition(k.flatten(), -2)[-2]\n",
    "np.partition(k.flatten(), 2)[2]"
   ]
  },
  {
   "cell_type": "markdown",
   "metadata": {},
   "source": [
    "选取测试数据中最小的number_to_keep点作为噪声"
   ]
  },
  {
   "cell_type": "code",
   "execution_count": 36,
   "metadata": {},
   "outputs": [
    {
     "data": {
      "text/plain": [
       "(14, 800)"
      ]
     },
     "execution_count": 36,
     "metadata": {},
     "output_type": "execute_result"
    }
   ],
   "source": [
    "number_to_keep = 800\n",
    "\n",
    "test_noise = np.zeros((14,number_to_keep))\n",
    "\n",
    "import heapq\n",
    "\n",
    "for i in range(len(test_data)):\n",
    "    tmp = test_data[i,:-1]  #remove label\n",
    "    #print(tmp)\n",
    "    test_noise[i, :number_to_keep] = heapq.nsmallest(number_to_keep, tmp)\n",
    "test_noise.shape    \n",
    "    \n",
    "#test_noise[-1, -1]"
   ]
  },
  {
   "cell_type": "code",
   "execution_count": 51,
   "metadata": {},
   "outputs": [
    {
     "ename": "IndexError",
     "evalue": "index 70 is out of bounds for axis 0 with size 1",
     "output_type": "error",
     "traceback": [
      "\u001b[1;31m---------------------------------------------------------------------------\u001b[0m",
      "\u001b[1;31mIndexError\u001b[0m                                Traceback (most recent call last)",
      "\u001b[1;32m<ipython-input-51-adad84978d14>\u001b[0m in \u001b[0;36m<module>\u001b[1;34m\u001b[0m\n\u001b[0;32m      9\u001b[0m \u001b[1;33m\u001b[0m\u001b[0m\n\u001b[0;32m     10\u001b[0m \u001b[1;32mfor\u001b[0m \u001b[0mj\u001b[0m \u001b[1;32min\u001b[0m \u001b[0mrange\u001b[0m\u001b[1;33m(\u001b[0m\u001b[0mlen\u001b[0m\u001b[1;33m(\u001b[0m\u001b[0mmax_num_index_list\u001b[0m\u001b[1;33m)\u001b[0m\u001b[1;33m)\u001b[0m\u001b[1;33m:\u001b[0m\u001b[1;33m\u001b[0m\u001b[1;33m\u001b[0m\u001b[0m\n\u001b[1;32m---> 11\u001b[1;33m     \u001b[0mtrain_noise\u001b[0m\u001b[1;33m[\u001b[0m\u001b[0mmax_num_index_list\u001b[0m\u001b[1;33m[\u001b[0m\u001b[0mj\u001b[0m\u001b[1;33m]\u001b[0m\u001b[1;33m]\u001b[0m \u001b[1;33m=\u001b[0m \u001b[0mmax_num_list\u001b[0m\u001b[1;33m[\u001b[0m\u001b[0mj\u001b[0m\u001b[1;33m]\u001b[0m\u001b[1;33m\u001b[0m\u001b[1;33m\u001b[0m\u001b[0m\n\u001b[0m\u001b[0;32m     12\u001b[0m \u001b[1;33m\u001b[0m\u001b[0m\n\u001b[0;32m     13\u001b[0m \u001b[1;31m#x1 = np.linspace(0, 1001,num=1001)\u001b[0m\u001b[1;33m\u001b[0m\u001b[1;33m\u001b[0m\u001b[1;33m\u001b[0m\u001b[0m\n",
      "\u001b[1;31mIndexError\u001b[0m: index 70 is out of bounds for axis 0 with size 1"
     ]
    }
   ],
   "source": [
    "# 提取一个光滑的仿真数据最大200个点 + 随机800个噪音\n",
    "\n",
    "\n",
    "tmp_data = list(data[0,:-1])\n",
    "train_noise = np.zeros((1,1001))\n",
    "\n",
    "max_num_index_list = list(map(tmp_data.index, heapq.nlargest(200, tmp_data)))\n",
    "max_num_list = heapq.nlargest(200, tmp_data)\n",
    "\n",
    "for j in range(len(max_num_index_list)):\n",
    "    train_noise[max_num_index_list[j]] = max_num_list[j]\n",
    "\n",
    "#x1 = np.linspace(0, 1001,num=1001)\n",
    "#y1 = tmp_data\n",
    "#y1.shape\n",
    "#plt.plot(x1, y1)\n",
    "#plt.show()"
   ]
  },
  {
   "cell_type": "code",
   "execution_count": 44,
   "metadata": {},
   "outputs": [
    {
     "data": {
      "text/plain": [
       "array([0., 0., 0., ..., 0., 0., 0.])"
      ]
     },
     "execution_count": 44,
     "metadata": {},
     "output_type": "execute_result"
    }
   ],
   "source": [
    "#测试代码\n",
    "n_features = 200\n",
    "\n",
    "test_noise = np.zeros((14,1001))\n",
    "\n",
    "for i in range(len(test_data)):\n",
    "    tmp_data = list(data[i,:-1])  #remove the label\n",
    "    \n",
    "    max_num_index_list = list(map(tmp_data.index, heapq.nlargest(200, tmp_data)))\n",
    "    max_num_list = heapq.nlargest(200, tmp_data)\n",
    "    \n",
    "    for j in range(len(max_num_index_list)):\n",
    "        test_noise[i][max_num_index_list[j]] = max_num_list[j]\n",
    "        \n",
    "test_noise[1]"
   ]
  },
  {
   "cell_type": "markdown",
   "metadata": {},
   "source": [
    "选取仿真数据中最大的n_features点作为特征"
   ]
  },
  {
   "cell_type": "code",
   "execution_count": 40,
   "metadata": {},
   "outputs": [
    {
     "ename": "KeyboardInterrupt",
     "evalue": "",
     "output_type": "error",
     "traceback": [
      "\u001b[1;31m---------------------------------------------------------------------------\u001b[0m",
      "\u001b[1;31mKeyboardInterrupt\u001b[0m                         Traceback (most recent call last)",
      "\u001b[1;32m<ipython-input-40-841322afc436>\u001b[0m in \u001b[0;36m<module>\u001b[1;34m\u001b[0m\n\u001b[0;32m      7\u001b[0m \u001b[1;33m\u001b[0m\u001b[0m\n\u001b[0;32m      8\u001b[0m     \u001b[0mmax_num_index_list\u001b[0m \u001b[1;33m=\u001b[0m \u001b[0mlist\u001b[0m\u001b[1;33m(\u001b[0m\u001b[0mmap\u001b[0m\u001b[1;33m(\u001b[0m\u001b[0mtmp_data\u001b[0m\u001b[1;33m.\u001b[0m\u001b[0mindex\u001b[0m\u001b[1;33m,\u001b[0m \u001b[0mheapq\u001b[0m\u001b[1;33m.\u001b[0m\u001b[0mnlargest\u001b[0m\u001b[1;33m(\u001b[0m\u001b[1;36m200\u001b[0m\u001b[1;33m,\u001b[0m \u001b[0mtmp_data\u001b[0m\u001b[1;33m)\u001b[0m\u001b[1;33m)\u001b[0m\u001b[1;33m)\u001b[0m\u001b[1;33m\u001b[0m\u001b[1;33m\u001b[0m\u001b[0m\n\u001b[1;32m----> 9\u001b[1;33m     \u001b[0mmax_num_list\u001b[0m \u001b[1;33m=\u001b[0m \u001b[0mheapq\u001b[0m\u001b[1;33m.\u001b[0m\u001b[0mnlargest\u001b[0m\u001b[1;33m(\u001b[0m\u001b[1;36m200\u001b[0m\u001b[1;33m,\u001b[0m \u001b[0mtmp_data\u001b[0m\u001b[1;33m)\u001b[0m\u001b[1;33m\u001b[0m\u001b[1;33m\u001b[0m\u001b[0m\n\u001b[0m\u001b[0;32m     10\u001b[0m \u001b[1;33m\u001b[0m\u001b[0m\n\u001b[0;32m     11\u001b[0m     \u001b[1;32mfor\u001b[0m \u001b[0mj\u001b[0m \u001b[1;32min\u001b[0m \u001b[0mrange\u001b[0m\u001b[1;33m(\u001b[0m\u001b[0mlen\u001b[0m\u001b[1;33m(\u001b[0m\u001b[0mmax_num_index_list\u001b[0m\u001b[1;33m)\u001b[0m\u001b[1;33m)\u001b[0m\u001b[1;33m:\u001b[0m\u001b[1;33m\u001b[0m\u001b[1;33m\u001b[0m\u001b[0m\n",
      "\u001b[1;32m~\\Anaconda3\\envs\\py36-tensorflow\\lib\\heapq.py\u001b[0m in \u001b[0;36mnlargest\u001b[1;34m(n, iterable, key)\u001b[0m\n\u001b[0;32m    554\u001b[0m             \u001b[1;32mreturn\u001b[0m \u001b[0mresult\u001b[0m\u001b[1;33m\u001b[0m\u001b[1;33m\u001b[0m\u001b[0m\n\u001b[0;32m    555\u001b[0m         \u001b[0mheapify\u001b[0m\u001b[1;33m(\u001b[0m\u001b[0mresult\u001b[0m\u001b[1;33m)\u001b[0m\u001b[1;33m\u001b[0m\u001b[1;33m\u001b[0m\u001b[0m\n\u001b[1;32m--> 556\u001b[1;33m         \u001b[0mtop\u001b[0m \u001b[1;33m=\u001b[0m \u001b[0mresult\u001b[0m\u001b[1;33m[\u001b[0m\u001b[1;36m0\u001b[0m\u001b[1;33m]\u001b[0m\u001b[1;33m[\u001b[0m\u001b[1;36m0\u001b[0m\u001b[1;33m]\u001b[0m\u001b[1;33m\u001b[0m\u001b[1;33m\u001b[0m\u001b[0m\n\u001b[0m\u001b[0;32m    557\u001b[0m         \u001b[0morder\u001b[0m \u001b[1;33m=\u001b[0m \u001b[1;33m-\u001b[0m\u001b[0mn\u001b[0m\u001b[1;33m\u001b[0m\u001b[1;33m\u001b[0m\u001b[0m\n\u001b[0;32m    558\u001b[0m         \u001b[0m_heapreplace\u001b[0m \u001b[1;33m=\u001b[0m \u001b[0mheapreplace\u001b[0m\u001b[1;33m\u001b[0m\u001b[1;33m\u001b[0m\u001b[0m\n",
      "\u001b[1;31mKeyboardInterrupt\u001b[0m: "
     ]
    }
   ],
   "source": [
    "n_features = 200\n",
    "\n",
    "train_data_0 = np.zeros((186*800,1001))\n",
    "\n",
    "for i in range(len(data)):\n",
    "    tmp_data = list(data[i,:-1])  #remove the label\n",
    "    \n",
    "    max_num_index_list = list(map(tmp_data.index, heapq.nlargest(200, tmp_data)))\n",
    "    max_num_list = heapq.nlargest(200, tmp_data)\n",
    "    \n",
    "    for j in range(len(max_num_index_list)):\n",
    "        train_data_0[i][max_num_index_list[j]] = max_num_list[j]\n",
    "        \n",
    "train_data_0.shape        \n"
   ]
  },
  {
   "cell_type": "code",
   "execution_count": 35,
   "metadata": {},
   "outputs": [
    {
     "data": {
      "text/plain": [
       "(148800, 1001)"
      ]
     },
     "execution_count": 35,
     "metadata": {},
     "output_type": "execute_result"
    }
   ],
   "source": [
    "test_noise = np.zeros((186*800,1001))\n",
    "test_noise.shape"
   ]
  },
  {
   "cell_type": "code",
   "execution_count": null,
   "metadata": {},
   "outputs": [],
   "source": [
    "nums = [1, 8, 2, 23, 7, -4, 18, 23, 24, 37, 2]\n",
    "# 最大的3个数的索引\n",
    "max_num_index_list = map(nums.index, heapq.nlargest(3, nums))\n",
    "max_num_list = heapq.nlargest(3, nums)\n",
    "\n",
    "print(list(max_num_index_list),max_num_list)\n"
   ]
  }
 ],
 "metadata": {
  "kernelspec": {
   "display_name": "Python 3",
   "language": "python",
   "name": "python3"
  },
  "language_info": {
   "codemirror_mode": {
    "name": "ipython",
    "version": 3
   },
   "file_extension": ".py",
   "mimetype": "text/x-python",
   "name": "python",
   "nbconvert_exporter": "python",
   "pygments_lexer": "ipython3",
   "version": "3.6.8"
  }
 },
 "nbformat": 4,
 "nbformat_minor": 2
}
