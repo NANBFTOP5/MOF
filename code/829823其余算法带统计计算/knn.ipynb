{
 "cells": [
  {
   "cell_type": "code",
   "execution_count": 1,
   "metadata": {},
   "outputs": [],
   "source": [
    "import numpy as np # linear algebra\n",
    "import pandas as pd # data processing, CSV file I/O (e.g. pd.read_csv)\n",
    "import pickle\n",
    "#import keras\n",
    "\n",
    "from sklearn import svm\n",
    "import random\n",
    "import os\n",
    "from math import floor\n",
    "import warnings\n",
    "\n",
    "from sklearn.preprocessing import StandardScaler, MinMaxScaler"
   ]
  },
  {
   "cell_type": "code",
   "execution_count": 2,
   "metadata": {},
   "outputs": [],
   "source": [
    "# If you want to train the model by yourself\n",
    "\n",
    "# train data\n",
    "with open('829823out.pickle', 'rb') as f:\n",
    "    Data = pickle.load(f)\n",
    "    Data = pd.DataFrame(Data)\n",
    "\n",
    "numtrain = 829 * 6 * 12\n",
    "numval = int(numtrain * 0.2)\n",
    "\n",
    "\n",
    "# Train validation split\n",
    "idx = random.sample(range(numtrain), numval) # 80% for training\n",
    "all_index = list(np.setdiff1d(range(numtrain), idx))\n",
    "\n",
    "# Getting X_train, X_val, y_train and scale them\n",
    "\n",
    "X_train = Data.iloc[all_index,:].drop(2251, axis = 1)\n",
    "X_val = Data.iloc[idx,:].drop(2251, axis = 1)\n",
    "y_train = pd.get_dummies(Data.iloc[all_index,:][2251])\n",
    "#print(y_train)\n",
    "\n",
    "names = y_train.columns\n",
    "mapping = {}\n",
    "i = 0\n",
    "for n in names:\n",
    "    mapping[i] = n\n",
    "    i+=1\n",
    "#print(mapping)\n",
    "\n",
    "y_train = Data.iloc[all_index,:][2251]\n",
    "\n",
    "scaler = MinMaxScaler()\n",
    "X_train = scaler.fit_transform(X_train)\n",
    "X_val = scaler.transform(X_val)"
   ]
  },
  {
   "cell_type": "code",
   "execution_count": 3,
   "metadata": {},
   "outputs": [
    {
     "data": {
      "text/plain": [
       "KNeighborsClassifier(algorithm='auto', leaf_size=30, metric='minkowski',\n",
       "                     metric_params=None, n_jobs=None, n_neighbors=140, p=2,\n",
       "                     weights='uniform')"
      ]
     },
     "execution_count": 3,
     "metadata": {},
     "output_type": "execute_result"
    }
   ],
   "source": [
    "from sklearn.neighbors import KNeighborsClassifier\n",
    "model = KNeighborsClassifier(n_neighbors=140)\n",
    "model.fit(X_train, y_train)"
   ]
  },
  {
   "cell_type": "code",
   "execution_count": 11,
   "metadata": {},
   "outputs": [
    {
     "name": "stdout",
     "output_type": "stream",
     "text": [
      "['COMXUZ', 'JARMEU10', 'JARMEU', 'BUYNAL', 'PYDSCU10', 'ZIF-71', 'JOSNAG', 'JUZXIL', 'JUMDAY', 'JUHYUI', 'JUHYOC']\n",
      "['COMXUZ', 'JARMEU10', 'JARMEU', 'BUYNAL', 'PYDSCU10', 'ZIF-71', 'BUBWEC', 'JOKYOX10', 'JUMDAY', 'JUHYUI', 'JUHYOC']\n",
      "['COMXUZ', 'JARMEU10', 'JARMEU', 'BUYNAL', 'PYDSCU10', 'JOKYOX10', 'JUZXIL', 'JUMDAY', 'JUHYUI', 'JUHYOC', 'JUFHID']\n",
      "['GOSSEM01', 'HEGCEB', 'REJPIH', 'LIKRAZ', 'XANLUV', 'JOKYOX10', 'JUMDAY', 'JUHYUI', 'JUHYOC', 'JUFHID', 'JUFGOI']\n",
      "['HEGCEB', 'GOSSEM01', 'LIKRAZ', 'REJPIH', 'XANLUV', 'JOKYOX10', 'JUMDAY', 'JUHYUI', 'JUHYOC', 'JUFHID', 'JUFGOI']\n",
      "['HEGCEB', 'GOSSEM01', 'REJPIH', 'LIKRAZ', 'XANLUV', 'JOKYOX10', 'JUMDAY', 'JUHYUI', 'JUHYOC', 'JUFHID', 'JUFGOI']\n",
      "['FUDGOC', 'ROJYEW', 'ZIF-90', 'TEFWIL', 'ZIF-65', 'DUT-23', 'JUMDAY', 'JOKXOW10', 'JOKXOW', 'JUHYUI', 'JUHYOC']\n",
      "['FUDGOC', 'ROJYEW', 'ZIF-65', 'MESTOU', 'ZIF-90', 'JOKYIR', 'JUHYUI', 'JUHYOC', 'JUFHID', 'JUFGOI', 'JUBHIX']\n",
      "['FUDGOC', 'QOHKEE', 'MESTOU', 'PODKUQ', 'MOXDOT', 'JOKYOX', 'JUMDAY', 'JUHYUI', 'JUHYOC', 'JUFHID', 'JUFGOI']\n",
      "['FUDGOC', 'MESTOU', 'ROJYEW', 'ZIF-90', 'ZIF-65', 'JOKYIR', 'JUHYUI', 'JUHYOC', 'JUFHID', 'JUFGOI', 'JUBHIX']\n",
      "['FUDGOC', 'ZIF-90', 'TEFWIL', 'JUMDAY', 'DUT-23', 'ROJYEW', 'MOXDOT', 'ZIF-65', 'JOKYOX', 'JOKYOX10', 'JOSNAG']\n",
      "['FUDGOC', 'ZIF-90', 'ROJYEW', 'ZIF-65', 'TEFWIL', 'DUT-23', 'MESTOU', 'JOSNAG', 'JOKYOX', 'JOKYOX10', 'ZUYWAR']\n",
      "['ZIF-7', 'ZIF-9', 'NODTEH', 'VUDPIV', 'OXALAB', 'PUQDIQ', 'JOKYOX10', 'JUMDAY', 'JUHYUI', 'JUHYOC', 'JUFHID']\n",
      "['ZIF-9', 'ZIF-7', 'VUDPIV', 'ZIF-71', 'ZUYWAR', 'JOKYIR10', 'JUHYUI', 'JUHYOC', 'JUFHID', 'JUFGOI', 'JUBHIX']\n",
      "['ZIF-7', 'ZIF-9', 'NODTEH', 'VUDPIV', 'OXALAB', 'ZUYWAR', 'JOKYOX10', 'JUMDAY', 'JUHYUI', 'JUHYOC', 'JUFHID']\n",
      "['EXEHEV02', 'NIMJUP', 'RASGAT', 'COCDOP', 'GOSSEM01', 'UCOQIO', 'DUPXIW', 'OGUTOA', 'NOHSOU', 'LOTMOY02', 'QEFNAQ']\n",
      "['LOTMOY02', 'OMORUE', 'ZUJKAS', 'GURFIJ', 'NIJTOP01', 'AFEHUO', 'GOSSEM01', 'OGUTOA', 'JOKYAJ', 'JOKYAJ10', 'JUZXIL']\n",
      "['NIMJUP', 'ZUJKAS', 'EXEHEV02', 'GOSSEM01', 'RASGAT', 'OGUTOA', 'LOTMOY02', 'GURFIJ', 'COCDOP', 'OMORUE', 'NOHSOU']\n",
      "['MITSAK', 'VAQBIY02', 'UCOPUZ', 'OVEDUP', 'UGUQOC', 'LITHUR', 'SUPZAG', 'OYOSUR', 'JOKYIR', 'JUFGOI', 'JUBHIX']\n",
      "['ZIF-81', 'ZEDGEW', 'MIBQAR19', 'KUWCEM', 'LAWGEW', 'VATXIZ', 'JOCLAP', 'DAVVAZ', 'SOHNAF', 'KOPHOO', 'ZECKOJ']\n",
      "['UHAXUW', 'JOKYIR10', 'JOKXEM10', 'LAMFEK', 'JOKYIR', 'JOKXEM', 'JOKYEN', 'UKAZEM', 'JOKYEN10', 'OLUCON', 'JOKXOW10']\n",
      "['RAFRAS', 'VUJLET', 'HOJJOH', 'QEQBEU', 'QAZLIO', 'HOCHAI', 'NIDDIP', 'JOKYOX10', 'JUMDAY', 'JUHYUI', 'JUHYOC']\n",
      "['QEQBEU', 'RAFRAS', 'VUJLET', 'SOHNAF', 'HOCHAI', 'ENISUQ', 'VATXIZ', 'DAVVAZ', 'ZIF-3', 'JUFGOI', 'JOKYOX']\n",
      "['VUJLET', 'RAFRAS', 'QEQBEU', 'HOCHAI', 'DANQIS', 'JOKXUC10', 'JOKYAJ', 'JUZXIL', 'JUMDAY', 'JUHYUI', 'JUHYOC']\n",
      "['SIBCOV', 'MOF-199', 'NAYJEE', 'AJOKUF', 'TOVJIX', 'VUJLET', 'KUWCEM', 'EBETEM', 'NIDDIP', 'ZIF-6', 'QEQBEU']\n",
      "['AJOKUF', 'TOVJIX', 'MOF-199', 'XUDPIX', 'SIBCOV', 'RIWGEL', 'FALJEJ', 'KUWCEM', 'NAYJEE', 'PAZSOZ', 'LUKLIN']\n",
      "['SIBCOV', 'TOVJIX', 'AJOKUF', 'FALJEJ', 'RIWGEL', 'PAZSOZ', 'NAYJEE', 'MITRUD', 'DEYNUR', 'XUDPIX', 'LUKLIN']\n",
      "['MOF-2', 'LOSCON', 'PUTYEI', 'LEJCAG', 'NEDWIE', 'JOKXUC', 'JOKYOX10', 'JUZXIL', 'JUMDAY', 'JUHYUI', 'JUHYOC']\n",
      "['MOF-2', 'LOSCON', 'PUTYEI', 'NEDWIE', 'LEJCAG', 'JOKXUC10', 'JOKYAJ', 'JUZXIL', 'JUMDAY', 'JUHYUI', 'JUHYOC']\n",
      "['MOF-2', 'LOSCON', 'PUTYEI', 'LEJCAG', 'NEDWIE', 'JOKXUC', 'JOKYOX10', 'JUZXIL', 'JUMDAY', 'JUHYUI', 'JUHYOC']\n"
     ]
    }
   ],
   "source": [
    "Test = pd.read_csv('test_data_30.csv')\n",
    "Test_filter = Test.fillna(method='ffill')\n",
    "\n",
    "X_test = scaler.transform(Test_filter.iloc[:,1:])\n",
    "#pred = clf.predict(X_test)\n",
    "\n",
    "probas = model.predict_proba(X_test)\n",
    "top_n_predictions = np.argsort(probas, axis = 1)[:,-11:]\n",
    "\n",
    "result = []\n",
    "for pre in top_n_predictions:\n",
    "    pre_list = []\n",
    "    for index in pre:\n",
    "        pre_list.append(mapping[index])\n",
    "    result.append(pre_list)\n",
    "\n",
    "    \n",
    "for plist in result:\n",
    "    plist.reverse()\n",
    "    print(plist)"
   ]
  },
  {
   "cell_type": "code",
   "execution_count": 25,
   "metadata": {},
   "outputs": [
    {
     "name": "stdout",
     "output_type": "stream",
     "text": [
      "['COMXUZ', 'JARMEU10', 'JARMEU', 'BUYNAL', 'PYDSCU10']\n",
      "['COMXUZ', 'JARMEU10', 'JARMEU', 'BUYNAL', 'PYDSCU10']\n",
      "['COMXUZ', 'JARMEU10', 'JARMEU', 'BUYNAL', 'PYDSCU10']\n",
      "['GOSSEM01', 'HEGCEB', 'REJPIH', 'LIKRAZ', 'XANLUV']\n",
      "['HEGCEB', 'GOSSEM01', 'LIKRAZ', 'REJPIH', 'XANLUV']\n",
      "['HEGCEB', 'GOSSEM01', 'REJPIH', 'LIKRAZ', 'XANLUV']\n",
      "['FUDGOC', 'ROJYEW', 'ZIF-90', 'TEFWIL', 'ZIF-65']\n",
      "['FUDGOC', 'ROJYEW', 'ZIF-65', 'MESTOU', 'ZIF-90']\n",
      "['FUDGOC', 'QOHKEE', 'MESTOU', 'PODKUQ', 'MOXDOT']\n",
      "['FUDGOC', 'MESTOU', 'ROJYEW', 'ZIF-90', 'ZIF-65']\n",
      "['FUDGOC', 'ZIF-90', 'TEFWIL', 'JUMDAY', 'DUT-23']\n",
      "['FUDGOC', 'ZIF-90', 'ROJYEW', 'ZIF-65', 'TEFWIL']\n",
      "['ZIF-7', 'ZIF-9', 'NODTEH', 'VUDPIV', 'OXALAB']\n",
      "['ZIF-9', 'ZIF-7', 'VUDPIV', 'ZIF-71', 'ZUYWAR']\n",
      "['ZIF-7', 'ZIF-9', 'NODTEH', 'VUDPIV', 'OXALAB']\n",
      "['EXEHEV02', 'NIMJUP', 'RASGAT', 'COCDOP', 'GOSSEM01']\n",
      "['LOTMOY02', 'OMORUE', 'ZUJKAS', 'GURFIJ', 'NIJTOP01']\n",
      "['NIMJUP', 'ZUJKAS', 'EXEHEV02', 'GOSSEM01', 'RASGAT']\n",
      "['MITSAK', 'VAQBIY02', 'UCOPUZ', 'OVEDUP', 'UGUQOC']\n",
      "['ZIF-81', 'ZEDGEW', 'MIBQAR19', 'KUWCEM', 'LAWGEW']\n",
      "['UHAXUW', 'JOKYIR10', 'JOKXEM10', 'LAMFEK', 'JOKYIR']\n",
      "['RAFRAS', 'VUJLET', 'HOJJOH', 'QEQBEU', 'QAZLIO']\n",
      "['QEQBEU', 'RAFRAS', 'VUJLET', 'SOHNAF', 'HOCHAI']\n",
      "['VUJLET', 'RAFRAS', 'QEQBEU', 'HOCHAI', 'DANQIS']\n",
      "['SIBCOV', 'MOF-199', 'NAYJEE', 'AJOKUF', 'TOVJIX']\n",
      "['AJOKUF', 'TOVJIX', 'MOF-199', 'XUDPIX', 'SIBCOV']\n",
      "['SIBCOV', 'TOVJIX', 'AJOKUF', 'FALJEJ', 'RIWGEL']\n",
      "['MOF-2', 'LOSCON', 'PUTYEI', 'LEJCAG', 'NEDWIE']\n",
      "['MOF-2', 'LOSCON', 'PUTYEI', 'NEDWIE', 'LEJCAG']\n",
      "['MOF-2', 'LOSCON', 'PUTYEI', 'LEJCAG', 'NEDWIE']\n"
     ]
    }
   ],
   "source": [
    "top_n_predictions = np.argsort(probas, axis = 1)[:,-5:]\n",
    "\n",
    "result = []\n",
    "for pre in top_n_predictions:\n",
    "    pre_list = []\n",
    "    for index in pre:\n",
    "        pre_list.append(mapping[index])\n",
    "    result.append(pre_list)\n",
    "\n",
    "    \n",
    "for plist in result:\n",
    "    plist.reverse()\n",
    "    print(plist)"
   ]
  },
  {
   "cell_type": "code",
   "execution_count": 26,
   "metadata": {},
   "outputs": [
    {
     "name": "stdout",
     "output_type": "stream",
     "text": [
      "top1 accuracy:0.16666666666666666\n",
      "5\n",
      "top2 accuracy:0.3\n",
      "9\n",
      "top3 accuracy:0.3333333333333333\n",
      "10\n",
      "top4 accuracy:0.36666666666666664\n",
      "11\n",
      "top5 accuracy:0.36666666666666664\n",
      "11\n"
     ]
    }
   ],
   "source": [
    "for i in range(1,6):    \n",
    "    top_n_predictions = np.argsort(probas, axis = 1)[:,-i:]\n",
    "\n",
    "    result = []\n",
    "    for pre in top_n_predictions:\n",
    "        pre_list = []\n",
    "        for index in pre:\n",
    "            pre_list.append(mapping[index])\n",
    "        result.append(pre_list)\n",
    "\n",
    "    \n",
    "    count = 0\n",
    "    for p in result[:3]:\n",
    "        if 'ZIF-67' in p:\n",
    "            count += 1\n",
    "    for p in result[3:6]:\n",
    "        if 'ZIF-71' in p:\n",
    "            count += 1\n",
    "    for p in result[6:9]:\n",
    "        if 'ZIF-8' in p:\n",
    "            count += 1\n",
    "    for p in result[9:12]:\n",
    "        if 'ZIF-90' in p:\n",
    "            count += 1\n",
    "    for p in result[12:15]:\n",
    "        if 'ZIF-7' in p:\n",
    "            count += 1\n",
    "    for p in result[15:18]:\n",
    "        if 'ZIF-9' in p:\n",
    "            count += 1\n",
    "    for p in result[18:21]:\n",
    "        if 'MOF-5' in p:\n",
    "            count += 1\n",
    "    for p in result[21:24]:\n",
    "        if 'MOF-74' in p:\n",
    "            count += 1\n",
    "    for p in result[24:27]:\n",
    "        if 'MOF-199' in p:\n",
    "            count += 1\n",
    "    for p in result[27:30]:\n",
    "        if 'MOF-2' in p:\n",
    "            count += 1\n",
    "\n",
    "    accuracy = count/30\n",
    "    print('top' + str(i) + ' ' + 'accuracy:' +str(accuracy))\n",
    "    print(count)"
   ]
  },
  {
   "cell_type": "code",
   "execution_count": null,
   "metadata": {},
   "outputs": [],
   "source": []
  }
 ],
 "metadata": {
  "kernelspec": {
   "display_name": "Python 3",
   "language": "python",
   "name": "python3"
  },
  "language_info": {
   "codemirror_mode": {
    "name": "ipython",
    "version": 3
   },
   "file_extension": ".py",
   "mimetype": "text/x-python",
   "name": "python",
   "nbconvert_exporter": "python",
   "pygments_lexer": "ipython3",
   "version": "3.7.3"
  }
 },
 "nbformat": 4,
 "nbformat_minor": 2
}
