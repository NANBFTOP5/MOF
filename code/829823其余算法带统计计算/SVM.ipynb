{
 "cells": [
  {
   "cell_type": "code",
   "execution_count": 1,
   "metadata": {},
   "outputs": [],
   "source": [
    "import numpy as np # linear algebra\n",
    "import pandas as pd # data processing, CSV file I/O (e.g. pd.read_csv)\n",
    "import pickle\n",
    "#import keras\n",
    "\n",
    "from sklearn import svm\n",
    "import random\n",
    "import os\n",
    "from math import floor\n",
    "import warnings\n",
    "\n",
    "from sklearn.preprocessing import StandardScaler, MinMaxScaler\n"
   ]
  },
  {
   "cell_type": "code",
   "execution_count": 2,
   "metadata": {},
   "outputs": [],
   "source": [
    "# If you want to train the model by yourself\n",
    "\n",
    "# train data\n",
    "with open('829823out.pickle', 'rb') as f:\n",
    "    Data = pickle.load(f)\n",
    "    Data = pd.DataFrame(Data)\n",
    "\n",
    "numtrain = 829 * 6 * 12\n",
    "numval = int(numtrain * 0.2)\n",
    "\n",
    "\n",
    "# Train validation split\n",
    "idx = random.sample(range(numtrain), numval) # 80% for training\n",
    "all_index = list(np.setdiff1d(range(numtrain), idx))\n",
    "\n",
    "# Getting X_train, X_val, y_train and scale them\n",
    "\n",
    "X_train = Data.iloc[all_index,:].drop(2251, axis = 1)\n",
    "X_val = Data.iloc[idx,:].drop(2251, axis = 1)\n",
    "y_train = pd.get_dummies(Data.iloc[all_index,:][2251])\n",
    "#print(y_train)\n",
    "\n",
    "names = y_train.columns\n",
    "mapping = {}\n",
    "i = 0\n",
    "for n in names:\n",
    "    mapping[i] = n\n",
    "    i+=1\n",
    "#print(mapping)\n",
    "\n",
    "y_train = Data.iloc[all_index,:][2251]\n",
    "\n",
    "scaler = MinMaxScaler()\n",
    "X_train = scaler.fit_transform(X_train)\n",
    "X_val = scaler.transform(X_val)"
   ]
  },
  {
   "cell_type": "code",
   "execution_count": 3,
   "metadata": {},
   "outputs": [
    {
     "name": "stderr",
     "output_type": "stream",
     "text": [
      "C:\\Users\\Hong\\Anaconda3\\envs\\tensorflow_gpu_1.12_py37\\lib\\site-packages\\sklearn\\svm\\base.py:193: FutureWarning: The default value of gamma will change from 'auto' to 'scale' in version 0.22 to account better for unscaled features. Set gamma explicitly to 'auto' or 'scale' to avoid this warning.\n",
      "  \"avoid this warning.\", FutureWarning)\n"
     ]
    },
    {
     "data": {
      "text/plain": [
       "SVC(C=1.0, cache_size=200, class_weight=None, coef0=0.0,\n",
       "    decision_function_shape='ovr', degree=3, gamma='auto_deprecated',\n",
       "    kernel='rbf', max_iter=-1, probability=True, random_state=None,\n",
       "    shrinking=True, tol=0.001, verbose=False)"
      ]
     },
     "execution_count": 3,
     "metadata": {},
     "output_type": "execute_result"
    }
   ],
   "source": [
    "clf = svm.SVC(probability=True)  # class \n",
    "clf.fit(X_train, y_train)  # training the svc model"
   ]
  },
  {
   "cell_type": "code",
   "execution_count": 5,
   "metadata": {},
   "outputs": [
    {
     "name": "stdout",
     "output_type": "stream",
     "text": [
      "['JARMEU', 'BEWCUD', 'HEGCEB', 'NODTEH', 'PUQDIQ', 'ZIF-11', 'RARBES', 'NASZOW', 'VUDPIV', 'IBIHEI', 'ZOFSEU']\n",
      "['JARMEU', 'BEWCUD', 'HEGCEB', 'ZIF-11', 'RARBES', 'PUQDIQ', 'VUDPIV', 'NASZOW', 'IBIHEI', 'ZOFSEU', 'NODTEH']\n",
      "['JARMEU', 'BEWCUD', 'HEGCEB', 'PUQDIQ', 'NASZOW', 'ZIF-11', 'VUDPIV', 'RARBES', 'NODTEH', 'IBIHEI', 'ZOFSEU']\n",
      "['HEGCEB', 'AQUNAC', 'MARFIW', 'PUFRIT', 'OGUTOA', 'KUNTAQ03', 'NIMJUP', 'ZIF-9', 'EQOYIS', 'GEPYIK', 'JARMEU']\n",
      "['HEGCEB', 'PUFRIT', 'AQUNAC', 'MARFIW', 'OGUTOA', 'JARMEU', 'NIMJUP', 'KUNTAQ03', 'LOTMOY02', 'ZIF-9', 'GEPYIK']\n",
      "['HEGCEB', 'PUFRIT', 'MARFIW', 'AQUNAC', 'OGUTOA', 'NIMJUP', 'JARMEU', 'KUNTAQ03', 'ZIF-9', 'LOTMOY02', 'GEPYIK']\n",
      "['ABIKAZ', 'QIJLAW', 'FIRNIF', 'PIZJEN', 'DUKMEC', 'LARDAL', 'BAGFUM', 'PUZLOM', 'TEWMIS', 'UTIZUT', 'JEJWOL']\n",
      "['QIJLAW', 'ABIKAZ', 'FIRNIF', 'DUKMEC', 'PIZJEN', 'LARDAL', 'JEJWOL', 'BAGFUM', 'CORZOA', 'UTIZUT', 'PUZLOM']\n",
      "['QIJLAW', 'JEJWOL', 'DUKMEC', 'ABIKAZ', 'CORZOA', 'HIGMOA', 'LARDAL', 'FIRNIF', 'PIZJEN', 'NASZOW', 'UTIZUT']\n",
      "['QIJLAW', 'ABIKAZ', 'FIRNIF', 'DUKMEC', 'PIZJEN', 'LARDAL', 'JEJWOL', 'BAGFUM', 'PUZLOM', 'CORZOA', 'UTIZUT']\n",
      "['QIJLAW', 'ABIKAZ', 'PIZJEN', 'FIRNIF', 'UTIZUT', 'JEJWOL', 'XEDCIT', 'BAGFUM', 'TEWMIS', 'FUDGOC', 'AFIXES']\n",
      "['QIJLAW', 'ABIKAZ', 'FIRNIF', 'PIZJEN', 'LARDAL', 'DUKMEC', 'BAGFUM', 'PUZLOM', 'TEWMIS', 'CORZOA', 'FUDGOC']\n",
      "['NODTEH', 'HEGCEB', 'JARMEU', 'VUDPIV', 'PUFRIT', 'DUKMEC', 'LARDAL', 'NASZOW', 'BEWCUD', 'ZIF-9', 'ZIF-11']\n",
      "['JARMEU', 'NODTEH', 'BEWCUD', 'HEGCEB', 'VUDPIV', 'NASZOW', 'PUFRIT', 'RARBES', 'ZIF-11', 'ZIF-9', 'PUQDIQ']\n",
      "['JARMEU', 'NODTEH', 'BEWCUD', 'HEGCEB', 'VUDPIV', 'NASZOW', 'DUKMEC', 'ZIF-11', 'RARBES', 'PUFRIT', 'ZIF-9']\n",
      "['HEGCEB', 'XAYMUF', 'NOHSOU', 'NIMJUP', 'OGUTOA', 'LOTMOY02', 'PUFRIT', 'EXEHEV02', 'GEWMOM', 'ONESAC', 'KUNTAQ03']\n",
      "['HEGCEB', 'NIMJUP', 'OGUTOA', 'FEWBUG', 'XOPHUG', 'RASGAT', 'LOTMOY02', 'SOHMEI', 'IBUHUK', 'EXEHEV02', 'GURFIJ']\n",
      "['HEGCEB', 'XAYMUF', 'NIMJUP', 'NOHSOU', 'OGUTOA', 'EXEHEV02', 'LOTMOY02', 'RASGAT', 'KUNTAQ03', 'PUFRIT', 'AQUNAC']\n",
      "['LITHUR', 'ITUVEZ', 'SUDBOI', 'MAXFIA', 'GUGVUB', 'SUPZAG', 'CAWLOD', 'OYOSUR', 'UCOPUZ', 'OJOTAI01', 'VAQBIY02']\n",
      "['MAXFIA', 'MOF-5', 'HOJJOH', 'ITUVEZ', 'XEDCIT', 'ZIF-69', 'KUNTAQ03', 'ZIF-81', 'UGUJUC', 'JOCLAP', 'KUWCEM']\n",
      "['JOKYIR', 'JOKXEM10', 'UKAZEM', 'XAYMUF', 'JOKXEM', 'JOKYIR10', 'JOKXAI10', 'JOKXOW', 'IYUWUV', 'UHAXUW', 'JOKXOW10']\n",
      "['HOJJOH', 'QIJLAW', 'HAJZOJ', 'HIGMOA', 'FEWBUG', 'QARRAE', 'IBUHUK', 'REGREC', 'MAXFIA', 'ZIF-69', 'AQUNAC']\n",
      "['HOJJOH', 'FEWBUG', 'REGREC', 'ITUVEZ', 'UGUJUC', 'KUNTAQ03', 'IBUHUK', 'KUWCEM', 'JOCLAP', 'ZIF-10', 'SOLMUD']\n",
      "['HOJJOH', 'FEWBUG', 'IBUHUK', 'QIJLAW', 'SOLMUD', 'REGREC', 'ITUVEZ', 'SIBCOV', 'MINCIX', 'ZIF-10', 'PUZBIW']\n",
      "['HOJJOH', 'ITUVEZ', 'FEWBUG', 'IBUHUK', 'SIBCOV', 'QARRAE', 'HAJZOJ', 'PUZBIW', 'AQUNAC', 'QIJLAW', 'KUWCEM']\n",
      "['HOJJOH', 'RIWGEL', 'DEYNUR', 'SUDBOI', 'HIGMOA', 'MAXFIA', 'SIBCOV', 'QARRAE', 'JOSNAG01', 'ITUVEZ', 'AQUNAC']\n",
      "['RIWGEL', 'DEYNUR', 'HOJJOH', 'FALJEJ', 'MITRUD', 'MAXFIA', 'JOSNAG01', 'HIGMOA', 'SIBCOV', 'SUDBOI', 'ITUVEZ']\n",
      "['MOF-2', 'F-MOF-11', 'DUKMEC', 'MAXFIA', 'BEWCUD', 'BIMDIL', 'CITHOD', 'IDIWIB', 'UGUJUC', 'ONESAC', 'HAJZOJ']\n",
      "['MOF-2', 'F-MOF-11', 'BEWCUD', 'DUKMEC', 'MAXFIA', 'ONESAC', 'BIMDIL', 'IDIWIB', 'HAJZOJ', 'CITHOD', 'UGUJUC']\n",
      "['MOF-2', 'F-MOF-11', 'BEWCUD', 'DUKMEC', 'MAXFIA', 'IDIWIB', 'BIMDIL', 'ONESAC', 'HAJZOJ', 'CITHOD', 'UGUJUC']\n"
     ]
    }
   ],
   "source": [
    "Test = pd.read_csv('test_data_30.csv')\n",
    "Test_filter = Test.fillna(method='ffill')\n",
    "\n",
    "X_test = scaler.transform(Test_filter.iloc[:,1:])\n",
    "#pred = clf.predict(X_test)\n",
    "\n",
    "probas = clf.predict_proba(X_test)\n",
    "top_n_predictions = np.argsort(probas, axis = 1)[:,-11:]\n",
    "\n",
    "result = []\n",
    "for pre in top_n_predictions:\n",
    "    pre_list = []\n",
    "    for index in pre:\n",
    "        pre_list.append(mapping[index])\n",
    "    result.append(pre_list)\n",
    "\n",
    "    \n",
    "for plist in result:\n",
    "    plist.reverse()\n",
    "    print(plist)"
   ]
  },
  {
   "cell_type": "code",
   "execution_count": 6,
   "metadata": {},
   "outputs": [
    {
     "name": "stdout",
     "output_type": "stream",
     "text": [
      "['JARMEU', 'BEWCUD', 'HEGCEB', 'NODTEH', 'PUQDIQ']\n",
      "['JARMEU', 'BEWCUD', 'HEGCEB', 'ZIF-11', 'RARBES']\n",
      "['JARMEU', 'BEWCUD', 'HEGCEB', 'PUQDIQ', 'NASZOW']\n",
      "['HEGCEB', 'AQUNAC', 'MARFIW', 'PUFRIT', 'OGUTOA']\n",
      "['HEGCEB', 'PUFRIT', 'AQUNAC', 'MARFIW', 'OGUTOA']\n",
      "['HEGCEB', 'PUFRIT', 'MARFIW', 'AQUNAC', 'OGUTOA']\n",
      "['ABIKAZ', 'QIJLAW', 'FIRNIF', 'PIZJEN', 'DUKMEC']\n",
      "['QIJLAW', 'ABIKAZ', 'FIRNIF', 'DUKMEC', 'PIZJEN']\n",
      "['QIJLAW', 'JEJWOL', 'DUKMEC', 'ABIKAZ', 'CORZOA']\n",
      "['QIJLAW', 'ABIKAZ', 'FIRNIF', 'DUKMEC', 'PIZJEN']\n",
      "['QIJLAW', 'ABIKAZ', 'PIZJEN', 'FIRNIF', 'UTIZUT']\n",
      "['QIJLAW', 'ABIKAZ', 'FIRNIF', 'PIZJEN', 'LARDAL']\n",
      "['NODTEH', 'HEGCEB', 'JARMEU', 'VUDPIV', 'PUFRIT']\n",
      "['JARMEU', 'NODTEH', 'BEWCUD', 'HEGCEB', 'VUDPIV']\n",
      "['JARMEU', 'NODTEH', 'BEWCUD', 'HEGCEB', 'VUDPIV']\n",
      "['HEGCEB', 'XAYMUF', 'NOHSOU', 'NIMJUP', 'OGUTOA']\n",
      "['HEGCEB', 'NIMJUP', 'OGUTOA', 'FEWBUG', 'XOPHUG']\n",
      "['HEGCEB', 'XAYMUF', 'NIMJUP', 'NOHSOU', 'OGUTOA']\n",
      "['LITHUR', 'ITUVEZ', 'SUDBOI', 'MAXFIA', 'GUGVUB']\n",
      "['MAXFIA', 'MOF-5', 'HOJJOH', 'ITUVEZ', 'XEDCIT']\n",
      "['JOKYIR', 'JOKXEM10', 'UKAZEM', 'XAYMUF', 'JOKXEM']\n",
      "['HOJJOH', 'QIJLAW', 'HAJZOJ', 'HIGMOA', 'FEWBUG']\n",
      "['HOJJOH', 'FEWBUG', 'REGREC', 'ITUVEZ', 'UGUJUC']\n",
      "['HOJJOH', 'FEWBUG', 'IBUHUK', 'QIJLAW', 'SOLMUD']\n",
      "['HOJJOH', 'ITUVEZ', 'FEWBUG', 'IBUHUK', 'SIBCOV']\n",
      "['HOJJOH', 'RIWGEL', 'DEYNUR', 'SUDBOI', 'HIGMOA']\n",
      "['RIWGEL', 'DEYNUR', 'HOJJOH', 'FALJEJ', 'MITRUD']\n",
      "['MOF-2', 'F-MOF-11', 'DUKMEC', 'MAXFIA', 'BEWCUD']\n",
      "['MOF-2', 'F-MOF-11', 'BEWCUD', 'DUKMEC', 'MAXFIA']\n",
      "['MOF-2', 'F-MOF-11', 'BEWCUD', 'DUKMEC', 'MAXFIA']\n"
     ]
    }
   ],
   "source": [
    "top_n_predictions = np.argsort(probas, axis = 1)[:,-5:]\n",
    "\n",
    "result = []\n",
    "for pre in top_n_predictions:\n",
    "    pre_list = []\n",
    "    for index in pre:\n",
    "        pre_list.append(mapping[index])\n",
    "    result.append(pre_list)\n",
    "\n",
    "    \n",
    "for plist in result:\n",
    "    plist.reverse()\n",
    "    print(plist)"
   ]
  },
  {
   "cell_type": "code",
   "execution_count": 7,
   "metadata": {},
   "outputs": [
    {
     "name": "stdout",
     "output_type": "stream",
     "text": [
      "top1 accuracy:0.1\n",
      "3\n",
      "top2 accuracy:0.13333333333333333\n",
      "4\n",
      "top3 accuracy:0.13333333333333333\n",
      "4\n",
      "top4 accuracy:0.13333333333333333\n",
      "4\n",
      "top5 accuracy:0.13333333333333333\n",
      "4\n"
     ]
    }
   ],
   "source": [
    "for i in range(1,6):    \n",
    "    top_n_predictions = np.argsort(probas, axis = 1)[:,-i:]\n",
    "\n",
    "    result = []\n",
    "    for pre in top_n_predictions:\n",
    "        pre_list = []\n",
    "        for index in pre:\n",
    "            pre_list.append(mapping[index])\n",
    "        result.append(pre_list)\n",
    "\n",
    "    \n",
    "    count = 0\n",
    "    for p in result[:3]:\n",
    "        if 'ZIF-67' in p:\n",
    "            count += 1\n",
    "    for p in result[3:6]:\n",
    "        if 'ZIF-71' in p:\n",
    "            count += 1\n",
    "    for p in result[6:9]:\n",
    "        if 'ZIF-8' in p:\n",
    "            count += 1\n",
    "    for p in result[9:12]:\n",
    "        if 'ZIF-90' in p:\n",
    "            count += 1\n",
    "    for p in result[12:15]:\n",
    "        if 'ZIF-7' in p:\n",
    "            count += 1\n",
    "    for p in result[15:18]:\n",
    "        if 'ZIF-9' in p:\n",
    "            count += 1\n",
    "    for p in result[18:21]:\n",
    "        if 'MOF-5' in p:\n",
    "            count += 1\n",
    "    for p in result[21:24]:\n",
    "        if 'MOF-74' in p:\n",
    "            count += 1\n",
    "    for p in result[24:27]:\n",
    "        if 'MOF-199' in p:\n",
    "            count += 1\n",
    "    for p in result[27:30]:\n",
    "        if 'MOF-2' in p:\n",
    "            count += 1\n",
    "\n",
    "    accuracy = count/30\n",
    "    print('top' + str(i) + ' ' + 'accuracy:' +str(accuracy))\n",
    "    print(count)"
   ]
  },
  {
   "cell_type": "code",
   "execution_count": null,
   "metadata": {},
   "outputs": [],
   "source": []
  }
 ],
 "metadata": {
  "kernelspec": {
   "display_name": "Python 3",
   "language": "python",
   "name": "python3"
  },
  "language_info": {
   "codemirror_mode": {
    "name": "ipython",
    "version": 3
   },
   "file_extension": ".py",
   "mimetype": "text/x-python",
   "name": "python",
   "nbconvert_exporter": "python",
   "pygments_lexer": "ipython3",
   "version": "3.7.3"
  }
 },
 "nbformat": 4,
 "nbformat_minor": 2
}
