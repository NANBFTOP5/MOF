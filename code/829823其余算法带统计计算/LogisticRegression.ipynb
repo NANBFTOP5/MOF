{
 "cells": [
  {
   "cell_type": "code",
   "execution_count": 1,
   "metadata": {},
   "outputs": [],
   "source": [
    "import numpy as np # linear algebra\n",
    "import pandas as pd # data processing, CSV file I/O (e.g. pd.read_csv)\n",
    "import pickle\n",
    "#import keras\n",
    "\n",
    "from sklearn import svm\n",
    "import random\n",
    "import os\n",
    "from math import floor\n",
    "import warnings\n",
    "\n",
    "from sklearn.preprocessing import StandardScaler, MinMaxScaler"
   ]
  },
  {
   "cell_type": "code",
   "execution_count": 2,
   "metadata": {},
   "outputs": [],
   "source": [
    "# If you want to train the model by yourself\n",
    "\n",
    "# train data\n",
    "with open('829823out.pickle', 'rb') as f:\n",
    "    Data = pickle.load(f)\n",
    "    Data = pd.DataFrame(Data)\n",
    "\n",
    "numtrain = 829 * 6 * 12\n",
    "numval = int(numtrain * 0.2)\n",
    "\n",
    "\n",
    "# Train validation split\n",
    "idx = random.sample(range(numtrain), numval) # 80% for training\n",
    "all_index = list(np.setdiff1d(range(numtrain), idx))\n",
    "\n",
    "# Getting X_train, X_val, y_train and scale them\n",
    "\n",
    "X_train = Data.iloc[all_index,:].drop(2251, axis = 1)\n",
    "X_val = Data.iloc[idx,:].drop(2251, axis = 1)\n",
    "y_train = pd.get_dummies(Data.iloc[all_index,:][2251])\n",
    "#print(y_train)\n",
    "\n",
    "names = y_train.columns\n",
    "mapping = {}\n",
    "i = 0\n",
    "for n in names:\n",
    "    mapping[i] = n\n",
    "    i+=1\n",
    "#print(mapping)\n",
    "\n",
    "y_train = Data.iloc[all_index,:][2251]\n",
    "\n",
    "scaler = MinMaxScaler()\n",
    "X_train = scaler.fit_transform(X_train)\n",
    "X_val = scaler.transform(X_val)"
   ]
  },
  {
   "cell_type": "code",
   "execution_count": 3,
   "metadata": {},
   "outputs": [
    {
     "name": "stderr",
     "output_type": "stream",
     "text": [
      "C:\\Users\\Hong\\Anaconda3\\envs\\tensorflow_gpu_1.12_py37\\lib\\site-packages\\sklearn\\linear_model\\logistic.py:432: FutureWarning: Default solver will be changed to 'lbfgs' in 0.22. Specify a solver to silence this warning.\n",
      "  FutureWarning)\n",
      "C:\\Users\\Hong\\Anaconda3\\envs\\tensorflow_gpu_1.12_py37\\lib\\site-packages\\sklearn\\linear_model\\logistic.py:469: FutureWarning: Default multi_class will be changed to 'auto' in 0.22. Specify the multi_class option to silence this warning.\n",
      "  \"this warning.\", FutureWarning)\n"
     ]
    },
    {
     "data": {
      "text/plain": [
       "LogisticRegression(C=1.0, class_weight=None, dual=False, fit_intercept=True,\n",
       "                   intercept_scaling=1, l1_ratio=None, max_iter=100,\n",
       "                   multi_class='warn', n_jobs=None, penalty='l2',\n",
       "                   random_state=None, solver='warn', tol=0.0001, verbose=0,\n",
       "                   warm_start=False)"
      ]
     },
     "execution_count": 3,
     "metadata": {},
     "output_type": "execute_result"
    }
   ],
   "source": [
    "from sklearn.linear_model import LogisticRegression\n",
    "model = LogisticRegression(penalty='l2')\n",
    "model.fit(X_train, y_train)"
   ]
  },
  {
   "cell_type": "code",
   "execution_count": 4,
   "metadata": {},
   "outputs": [
    {
     "name": "stdout",
     "output_type": "stream",
     "text": [
      "['PUQDIQ', 'VUDPIV', 'MIBMER', 'PYDSCU10', 'FOHJAP', 'NODTEH', 'DIRPIF', 'PUFQUE', 'BUBWEC', 'BAXQAU', 'BUYNAL']\n",
      "['PUQDIQ', 'VUDPIV', 'FOHJAP', 'MIBMER', 'PYDSCU10', 'DIRPIF', 'NODTEH', 'PUFQUE', 'BUBWEC', 'ODIXAC', 'BAXQAU']\n",
      "['PUQDIQ', 'VUDPIV', 'MIBMER', 'FOHJAP', 'PYDSCU10', 'DIRPIF', 'NODTEH', 'BUBWEC', 'PUFQUE', 'BUYNAL', 'JARMEU']\n",
      "['MARFIW', 'GOSSEM01', 'SIJPAD', 'HEGCEB', 'GEPYIK', 'EQOYIS', 'QUPJAO', 'ZIF-9', 'DUT-12', 'BUKRUW03', 'TIXXOP']\n",
      "['GOSSEM01', 'HEGCEB', 'MARFIW', 'SIJPAD', 'QUPJAO', 'GEPYIK', 'BOHYCU', 'EQOYIS', 'ZIF-9', 'BUKRUW03', 'TIXXOP']\n",
      "['GOSSEM01', 'HEGCEB', 'MARFIW', 'SIJPAD', 'QUPJAO', 'EQOYIS', 'BOHYCU', 'ZIF-9', 'GEPYIK', 'BUKRUW03', 'DUT-12']\n",
      "['FUDGOC', 'ZIF-90', 'ZIF-8', 'ROJYEW', 'ZIF-65', 'MESTOU', 'NATBAL', 'FURVEU', 'CUFFEP', 'JEJWOL', 'QOHKEE']\n",
      "['FUDGOC', 'ZIF-90', 'MESTOU', 'ZIF-8', 'NATBAL', 'CUFFEP', 'QOHKEE', 'JEJWOL', 'MOXDOT', 'PODKUQ', 'QIJLAW']\n",
      "['QIJLAW', 'NATBAL', 'FUDGOC', 'JEJWOL', 'CUFFEP', 'MESTOU', 'QOHKEE', 'MOXDOT', 'PODKUQ', 'IVESOS', 'IYUWOP']\n",
      "['FUDGOC', 'MESTOU', 'ZIF-90', 'CUFFEP', 'QOHKEE', 'NATBAL', 'ZIF-8', 'PODKUQ', 'MOXDOT', 'VIKDID', 'JEJWOL']\n",
      "['FUDGOC', 'MOXDOT', 'PEVQAK', 'ZIF-90', 'QOHKEE', 'PODKUQ', 'QIJLAW', 'PIZJEN', 'CUFFEP', 'MESTOU', 'JEJWOL']\n",
      "['FUDGOC', 'ZIF-90', 'MESTOU', 'QOHKEE', 'NATBAL', 'CUFFEP', 'MOXDOT', 'PODKUQ', 'FURVEU', 'ZIF-65', 'ROJYEW']\n",
      "['ZIF-7', 'NODTEH', 'VUDPIV', 'QIJLAW', 'OXALAB', 'EBEWOZ', 'PUQDIQ', 'NASZOW', 'ZIF-71', 'FORKUU', 'ZIF-9']\n",
      "['ZIF-7', 'VUDPIV', 'NODTEH', 'PUQDIQ', 'ZIF-71', 'MIBMER', 'OXALAB', 'FOHJAP', 'EBEWOZ', 'ZIF-12', 'NASZOW']\n",
      "['ZIF-7', 'NODTEH', 'VUDPIV', 'EBEWOZ', 'QIJLAW', 'ZIF-71', 'ZIF-12', 'PUQDIQ', 'MIBMER', 'OXALAB', 'KUNTAQ02']\n",
      "['HEGCEB', 'LOTMOY01', 'MOXDOT', 'VUDPIV', 'LOTMOY02', 'LIQSEK', 'UCOQIO', 'BUKRUW03', 'ZIF-81', 'XAYMUF', 'LIVKEI']\n",
      "['MOXDOT', 'RASGAT', 'ZUJKAS', 'OMORUE', 'XOPHUG', 'XANLUV', 'DAVVAZ', 'GOSSEM01', 'RAFRUL', 'NIMJUP', 'GURFIJ']\n",
      "['MOXDOT', 'HEGCEB', 'LOTMOY02', 'DAVVAZ', 'XAYMUF', 'RASGAT', 'ZUJKAS', 'NIMJUP', 'QIJLAW', 'BUKRUW03', 'GOSSEM01']\n",
      "['VAQBIY02', 'MITSAK', 'JOCLAP', 'XUDPIX', 'NIDDIP', 'SUPZAG', 'OYOSUR', 'OVEDUP', 'UCOPUZ', 'UGUQOC', 'XUFGUB']\n",
      "['ZEDGEW', 'XANXUF', 'LAWGEW', 'DAVVAZ', 'MESTOU', 'ICALOP', 'ZIF-81', 'MOF-5', 'JOCLAP', 'FORKUU', 'KOPHOO']\n",
      "['IGAVUJ', 'QIJLAW', 'JOKYEN10', 'ZEDGEW', 'UHAXUW', 'XAYMUF', 'PUZLOM', 'JOCLAP', 'ZIF-74', 'KUWCEM', 'CEQFOB']\n",
      "['QIJLAW', 'MAHSOE', 'HOJJOH', 'VUJLET', 'QAZLIO', 'RAFRAS', 'QEQBEU', 'DAVVAZ', 'GEPYIK', 'CUDPOI', 'VIKDID']\n",
      "['QEQBEU', 'NAYJEE', 'VUJLET', 'RAFRAS', 'DAVVAZ', 'SIBCOV', 'ENISUQ', 'CUDPOI', 'HOCHAI', 'HOJJOH', 'ZIF-3']\n",
      "['QEQBEU', 'VUJLET', 'RAFRAS', 'NAYJEE', 'CUDPOI', 'NIDDIP', 'DANQIS', 'VIKDID', 'SIBCOV', 'QAZLIO', 'HOJJOH']\n",
      "['SIBCOV', 'AJOKUF', 'HOJJOH', 'TOVJIX', 'QOTVIF', 'VUJLET', 'KUWCEM', 'FALJEJ', 'QIJLAW', 'ZIF-6', 'FEWBUG']\n",
      "['SIBCOV', 'TOVJIX', 'AJOKUF', 'HOJJOH', 'QIJLAW', 'MAHSOE', 'XUDPIX', 'NAYMAC', 'FALLOT', 'FALJEJ', 'NEXVET']\n",
      "['SIBCOV', 'TOVJIX', 'QIJLAW', 'AJOKUF', 'NAYMAC', 'HOJJOH', 'FALJEJ', 'NEXVET', 'MAHSOE', 'LIVKEI', 'DEYNUR']\n",
      "['MOF-2', 'CEQFOB', 'LOSCON', 'GOSSEM01', 'PUTYEI', 'ILAKUC', 'PUFYEW', 'GURFIJ', 'LEJCAG', 'NUKTIM', 'WOJZEA']\n",
      "['MOF-2', 'CEQFOB', 'LOSCON', 'GOSSEM01', 'PUTYEI', 'ILAKUC', 'GURFIJ', 'PUFYEW', 'LEJCAG', 'NATBAL', 'WOJZEA']\n",
      "['MOF-2', 'CEQFOB', 'GOSSEM01', 'LOSCON', 'PUTYEI', 'ILAKUC', 'GURFIJ', 'LEJCAG', 'PUFYEW', 'WOJZEA', 'NUKTIM']\n"
     ]
    }
   ],
   "source": [
    "Test = pd.read_csv('test_data_30.csv')\n",
    "Test_filter = Test.fillna(method='ffill')\n",
    "\n",
    "X_test = scaler.transform(Test_filter.iloc[:,1:])\n",
    "#pred = clf.predict(X_test)\n",
    "\n",
    "probas = model.predict_proba(X_test)\n",
    "top_n_predictions = np.argsort(probas, axis = 1)[:,-11:]\n",
    "\n",
    "result = []\n",
    "for pre in top_n_predictions:\n",
    "    pre_list = []\n",
    "    for index in pre:\n",
    "        pre_list.append(mapping[index])\n",
    "    result.append(pre_list)\n",
    "\n",
    "    \n",
    "for plist in result:\n",
    "    plist.reverse()\n",
    "    print(plist)"
   ]
  },
  {
   "cell_type": "code",
   "execution_count": 5,
   "metadata": {},
   "outputs": [
    {
     "name": "stdout",
     "output_type": "stream",
     "text": [
      "['PUQDIQ', 'VUDPIV', 'MIBMER', 'PYDSCU10', 'FOHJAP']\n",
      "['PUQDIQ', 'VUDPIV', 'FOHJAP', 'MIBMER', 'PYDSCU10']\n",
      "['PUQDIQ', 'VUDPIV', 'MIBMER', 'FOHJAP', 'PYDSCU10']\n",
      "['MARFIW', 'GOSSEM01', 'SIJPAD', 'HEGCEB', 'GEPYIK']\n",
      "['GOSSEM01', 'HEGCEB', 'MARFIW', 'SIJPAD', 'QUPJAO']\n",
      "['GOSSEM01', 'HEGCEB', 'MARFIW', 'SIJPAD', 'QUPJAO']\n",
      "['FUDGOC', 'ZIF-90', 'ZIF-8', 'ROJYEW', 'ZIF-65']\n",
      "['FUDGOC', 'ZIF-90', 'MESTOU', 'ZIF-8', 'NATBAL']\n",
      "['QIJLAW', 'NATBAL', 'FUDGOC', 'JEJWOL', 'CUFFEP']\n",
      "['FUDGOC', 'MESTOU', 'ZIF-90', 'CUFFEP', 'QOHKEE']\n",
      "['FUDGOC', 'MOXDOT', 'PEVQAK', 'ZIF-90', 'QOHKEE']\n",
      "['FUDGOC', 'ZIF-90', 'MESTOU', 'QOHKEE', 'NATBAL']\n",
      "['ZIF-7', 'NODTEH', 'VUDPIV', 'QIJLAW', 'OXALAB']\n",
      "['ZIF-7', 'VUDPIV', 'NODTEH', 'PUQDIQ', 'ZIF-71']\n",
      "['ZIF-7', 'NODTEH', 'VUDPIV', 'EBEWOZ', 'QIJLAW']\n",
      "['HEGCEB', 'LOTMOY01', 'MOXDOT', 'VUDPIV', 'LOTMOY02']\n",
      "['MOXDOT', 'RASGAT', 'ZUJKAS', 'OMORUE', 'XOPHUG']\n",
      "['MOXDOT', 'HEGCEB', 'LOTMOY02', 'DAVVAZ', 'XAYMUF']\n",
      "['VAQBIY02', 'MITSAK', 'JOCLAP', 'XUDPIX', 'NIDDIP']\n",
      "['ZEDGEW', 'XANXUF', 'LAWGEW', 'DAVVAZ', 'MESTOU']\n",
      "['IGAVUJ', 'QIJLAW', 'JOKYEN10', 'ZEDGEW', 'UHAXUW']\n",
      "['QIJLAW', 'MAHSOE', 'HOJJOH', 'VUJLET', 'QAZLIO']\n",
      "['QEQBEU', 'NAYJEE', 'VUJLET', 'RAFRAS', 'DAVVAZ']\n",
      "['QEQBEU', 'VUJLET', 'RAFRAS', 'NAYJEE', 'CUDPOI']\n",
      "['SIBCOV', 'AJOKUF', 'HOJJOH', 'TOVJIX', 'QOTVIF']\n",
      "['SIBCOV', 'TOVJIX', 'AJOKUF', 'HOJJOH', 'QIJLAW']\n",
      "['SIBCOV', 'TOVJIX', 'QIJLAW', 'AJOKUF', 'NAYMAC']\n",
      "['MOF-2', 'CEQFOB', 'LOSCON', 'GOSSEM01', 'PUTYEI']\n",
      "['MOF-2', 'CEQFOB', 'LOSCON', 'GOSSEM01', 'PUTYEI']\n",
      "['MOF-2', 'CEQFOB', 'GOSSEM01', 'LOSCON', 'PUTYEI']\n"
     ]
    }
   ],
   "source": [
    "top_n_predictions = np.argsort(probas, axis = 1)[:,-5:]\n",
    "\n",
    "result = []\n",
    "for pre in top_n_predictions:\n",
    "    pre_list = []\n",
    "    for index in pre:\n",
    "        pre_list.append(mapping[index])\n",
    "    result.append(pre_list)\n",
    "\n",
    "    \n",
    "for plist in result:\n",
    "    plist.reverse()\n",
    "    print(plist)"
   ]
  },
  {
   "cell_type": "code",
   "execution_count": 6,
   "metadata": {},
   "outputs": [
    {
     "name": "stdout",
     "output_type": "stream",
     "text": [
      "top1 accuracy:0.2\n",
      "6\n",
      "top2 accuracy:0.23333333333333334\n",
      "7\n",
      "top3 accuracy:0.3\n",
      "9\n",
      "top4 accuracy:0.36666666666666664\n",
      "11\n",
      "top5 accuracy:0.36666666666666664\n",
      "11\n"
     ]
    }
   ],
   "source": [
    "for i in range(1,6):    \n",
    "    top_n_predictions = np.argsort(probas, axis = 1)[:,-i:]\n",
    "\n",
    "    result = []\n",
    "    for pre in top_n_predictions:\n",
    "        pre_list = []\n",
    "        for index in pre:\n",
    "            pre_list.append(mapping[index])\n",
    "        result.append(pre_list)\n",
    "\n",
    "    \n",
    "    count = 0\n",
    "    for p in result[:3]:\n",
    "        if 'ZIF-67' in p:\n",
    "            count += 1\n",
    "    for p in result[3:6]:\n",
    "        if 'ZIF-71' in p:\n",
    "            count += 1\n",
    "    for p in result[6:9]:\n",
    "        if 'ZIF-8' in p:\n",
    "            count += 1\n",
    "    for p in result[9:12]:\n",
    "        if 'ZIF-90' in p:\n",
    "            count += 1\n",
    "    for p in result[12:15]:\n",
    "        if 'ZIF-7' in p:\n",
    "            count += 1\n",
    "    for p in result[15:18]:\n",
    "        if 'ZIF-9' in p:\n",
    "            count += 1\n",
    "    for p in result[18:21]:\n",
    "        if 'MOF-5' in p:\n",
    "            count += 1\n",
    "    for p in result[21:24]:\n",
    "        if 'MOF-74' in p:\n",
    "            count += 1\n",
    "    for p in result[24:27]:\n",
    "        if 'MOF-199' in p:\n",
    "            count += 1\n",
    "    for p in result[27:30]:\n",
    "        if 'MOF-2' in p:\n",
    "            count += 1\n",
    "\n",
    "    accuracy = count/30\n",
    "    print('top' + str(i) + ' ' + 'accuracy:' +str(accuracy))\n",
    "    print(count)"
   ]
  }
 ],
 "metadata": {
  "kernelspec": {
   "display_name": "Python 3",
   "language": "python",
   "name": "python3"
  },
  "language_info": {
   "codemirror_mode": {
    "name": "ipython",
    "version": 3
   },
   "file_extension": ".py",
   "mimetype": "text/x-python",
   "name": "python",
   "nbconvert_exporter": "python",
   "pygments_lexer": "ipython3",
   "version": "3.7.3"
  }
 },
 "nbformat": 4,
 "nbformat_minor": 2
}
