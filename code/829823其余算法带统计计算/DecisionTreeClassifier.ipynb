{
 "cells": [
  {
   "cell_type": "code",
   "execution_count": 1,
   "metadata": {},
   "outputs": [],
   "source": [
    "import numpy as np # linear algebra\n",
    "import pandas as pd # data processing, CSV file I/O (e.g. pd.read_csv)\n",
    "import pickle\n",
    "#import keras\n",
    "\n",
    "from sklearn import svm\n",
    "import random\n",
    "import os\n",
    "from math import floor\n",
    "import warnings\n",
    "\n",
    "from sklearn.preprocessing import StandardScaler, MinMaxScaler"
   ]
  },
  {
   "cell_type": "code",
   "execution_count": 2,
   "metadata": {},
   "outputs": [],
   "source": [
    "# If you want to train the model by yourself\n",
    "\n",
    "# train data\n",
    "with open('482488train_data.pickle', 'rb') as f:\n",
    "    Data = pickle.load(f)\n",
    "    Data = pd.DataFrame(Data)\n",
    "\n",
    "numtrain = 488 * 6 * 12\n",
    "numval = 2678\n",
    "\n",
    "\n",
    "# Train validation split\n",
    "idx = random.sample(range(numtrain), numval) # 80% for training\n",
    "all_index = list(np.setdiff1d(range(numtrain), idx))\n",
    "\n",
    "# Getting X_train, X_val, y_train and scale them\n",
    "\n",
    "X_train = Data.iloc[all_index,:].drop(2251, axis = 1)\n",
    "X_val = Data.iloc[idx,:].drop(2251, axis = 1)\n",
    "y_train = pd.get_dummies(Data.iloc[all_index,:][2251])\n",
    "#print(y_train)\n",
    "\n",
    "names = y_train.columns\n",
    "mapping = {}\n",
    "i = 0\n",
    "for n in names:\n",
    "    mapping[i] = n\n",
    "    i+=1\n",
    "#print(mapping)\n",
    "\n",
    "y_train = Data.iloc[all_index,:][2251]\n",
    "\n",
    "scaler = MinMaxScaler()\n",
    "X_train = scaler.fit_transform(X_train)\n",
    "X_val = scaler.transform(X_val)"
   ]
  },
  {
   "cell_type": "code",
   "execution_count": 3,
   "metadata": {},
   "outputs": [
    {
     "data": {
      "text/plain": [
       "DecisionTreeClassifier(class_weight=None, criterion='gini', max_depth=None,\n",
       "                       max_features=None, max_leaf_nodes=None,\n",
       "                       min_impurity_decrease=0.0, min_impurity_split=None,\n",
       "                       min_samples_leaf=1, min_samples_split=2,\n",
       "                       min_weight_fraction_leaf=0.0, presort=False,\n",
       "                       random_state=None, splitter='best')"
      ]
     },
     "execution_count": 3,
     "metadata": {},
     "output_type": "execute_result"
    }
   ],
   "source": [
    "from sklearn import tree\n",
    "model = tree.DecisionTreeClassifier()\n",
    "model.fit(X_train, y_train)"
   ]
  },
  {
   "cell_type": "code",
   "execution_count": 4,
   "metadata": {},
   "outputs": [],
   "source": [
    "Test = pd.read_csv('24test_dadta.csv')\n",
    "\n",
    "X_test = scaler.transform(Test.iloc[:,1:])\n",
    "#pred = clf.predict(X_test)\n",
    "\n",
    "probas = model.predict_proba(X_test)"
   ]
  },
  {
   "cell_type": "code",
   "execution_count": 5,
   "metadata": {},
   "outputs": [
    {
     "name": "stdout",
     "output_type": "stream",
     "text": [
      "['JOSNAG', 'JOKYOX10', 'JOKYOX', 'JOKYIR10', 'JOKYIR', 'JOKYEN10', 'JOKYEN', 'JOKYAJ10', 'KOPHOO', 'ZUYWAR', 'FOHJAP']\n",
      "['JOSNAG', 'JOKYOX10', 'JOKYOX', 'JOKYIR10', 'JOKYIR', 'JOKYEN10', 'JOKYEN', 'JOKYAJ10', 'KOPHOO', 'ZUYWAR', 'FOHJAP']\n",
      "['JOSNAG', 'JOKYOX10', 'JOKYOX', 'JOKYIR10', 'JOKYIR', 'JOKYEN10', 'JOKYEN', 'JOKYAJ10', 'KOPHOO', 'ZUYWAR', 'FOHJAP']\n",
      "['JOSNAG', 'JOKYOX10', 'JOKYOX', 'JOKYIR10', 'JOKYIR', 'JOKYEN10', 'JOKYEN', 'JOKYAJ10', 'JOKYAJ', 'JOKXUC10', 'GEPYIK']\n",
      "['JOSNAG', 'JOKYOX10', 'JOKYOX', 'JOKYIR10', 'JOKYIR', 'JOKYEN10', 'JOKYEN', 'JOKYAJ10', 'JOKYAJ', 'JOKXUC10', 'GEPYIK']\n",
      "['JOSNAG', 'JOKYOX10', 'JOKYOX', 'JOKYIR10', 'JOKYIR', 'JOKYEN10', 'JOKYEN', 'JOKYAJ10', 'JOKYAJ', 'JOKXUC10', 'GEPYIK']\n",
      "['JOSNAG', 'JOKYOX10', 'JOKYOX', 'JOKYIR10', 'JOKYIR', 'JOKYEN10', 'JOKYEN', 'JOKYAJ10', 'KACZIZ', 'ZUYWAR', 'PUZLOM']\n",
      "['JOSNAG', 'JOKYOX10', 'JOKYOX', 'JOKYIR10', 'JOKYIR', 'JOKYEN10', 'JOKYEN', 'JOKYAJ10', 'HUYKIV', 'ZUYWAR', 'RARBES']\n",
      "['JOKYOX10', 'JOKYOX', 'JOKYIR10', 'JOKYIR', 'JOKYEN10', 'JOKYEN', 'JOKYAJ10', 'JOKYAJ', 'JUZXIL', 'ZUYWAR', 'ZIF-3']\n",
      "['JOSNAG', 'JOKYOX10', 'JOKYOX', 'JOKYIR10', 'JOKYIR', 'JOKYEN10', 'JOKYEN', 'JOKYAJ10', 'KOPHOO', 'ZUYWAR', 'PEVQAK']\n",
      "['JOSNAG', 'JOKYOX10', 'JOKYOX', 'JOKYIR10', 'JOKYIR', 'JOKYEN10', 'JOKYEN', 'JOKYAJ10', 'JOKYAJ', 'KOPHOO', 'MESTOU']\n",
      "['JOSNAG', 'JOKYOX10', 'JOKYOX', 'JOKYIR10', 'JOKYIR', 'JOKYEN10', 'JOKYEN', 'JOKYAJ10', 'KOPHOO', 'ZUYWAR', 'PEVQAK']\n",
      "['JOKYOX10', 'JOKYOX', 'JOKYIR10', 'JOKYIR', 'JOKYEN10', 'JOKYEN', 'JOKYAJ10', 'JOKYAJ', 'KACZIZ', 'ZUYWAR', 'ZIF-77']\n",
      "['JOSNAG', 'JOKYOX10', 'JOKYOX', 'JOKYIR10', 'JOKYIR', 'JOKYEN10', 'JOKYEN', 'JOKYAJ10', 'KOPHOO', 'ZUYWAR', 'FOHJAP']\n",
      "['JOSNAG', 'JOKYOX10', 'JOKYOX', 'JOKYIR10', 'JOKYIR', 'JOKYEN10', 'JOKYEN', 'JOKYAJ10', 'KOPHOO', 'ZUYWAR', 'FOHJAP']\n",
      "['JOSNAG01', 'JOSNAG', 'JOKYOX10', 'JOKYOX', 'JOKYIR10', 'JOKYIR', 'JOKYEN10', 'JOKYEN', 'JOKYAJ10', 'JOKXUC10', 'MILDER']\n",
      "['JOSNAG01', 'JOSNAG', 'JOKYOX10', 'JOKYOX', 'JOKYIR10', 'JOKYIR', 'JOKYEN10', 'JOKYEN', 'JOKYAJ10', 'JOKXUC10', 'MILDER']\n",
      "['JOSNAG', 'JOKYOX10', 'JOKYOX', 'JOKYIR10', 'JOKYIR', 'JOKYEN10', 'JOKYEN', 'JOKYAJ10', 'KOPHOO', 'ZUYWAR', 'FUMGOL']\n",
      "['JOKYOX10', 'JOKYOX', 'JOKYIR10', 'JOKYIR', 'JOKYEN10', 'JOKYEN', 'JOKYAJ10', 'JOKYAJ', 'JUZXIL', 'ZUYWAR', 'ZIF-4']\n",
      "['JOKYOX10', 'JOKYOX', 'JOKYIR10', 'JOKYIR', 'JOKYEN10', 'JOKYEN', 'JOKYAJ10', 'JOKYAJ', 'JUZXIL', 'ZUYWAR', 'ZIF-4']\n",
      "['JOKYOX10', 'JOKYOX', 'JOKYIR10', 'JOKYIR', 'JOKYEN10', 'JOKYEN', 'JOKYAJ10', 'JOKYAJ', 'JUZXIL', 'ZUYWAR', 'ZIF-4']\n",
      "['JOSNAG', 'JOKYOX10', 'JOKYOX', 'JOKYIR10', 'JOKYIR', 'JOKYEN10', 'JOKYEN', 'JOKYAJ10', 'KOPHOO', 'ZUYWAR', 'LUYNAU']\n",
      "['JOKYOX10', 'JOKYOX', 'JOKYIR10', 'JOKYIR', 'JOKYEN10', 'JOKYEN', 'JOKYAJ10', 'JOKYAJ', 'JUZXIL', 'ZUYWAR', 'XANXUF']\n",
      "['JOSNAG', 'JOKYOX10', 'JOKYOX', 'JOKYIR10', 'JOKYIR', 'JOKYEN10', 'JOKYEN', 'JOKYAJ10', 'KACZIZ', 'ZUYWAR', 'NORPER']\n"
     ]
    }
   ],
   "source": [
    "top_n_predictions = np.argsort(probas, axis = 1)[:,-11:]\n",
    "\n",
    "result = []\n",
    "for pre in top_n_predictions:\n",
    "    pre_list = []\n",
    "    for index in pre:\n",
    "        pre_list.append(mapping[index])\n",
    "    result.append(pre_list)\n",
    "\n",
    "    \n",
    "for plist in result:\n",
    "    print(plist)"
   ]
  },
  {
   "cell_type": "code",
   "execution_count": null,
   "metadata": {},
   "outputs": [],
   "source": []
  }
 ],
 "metadata": {
  "kernelspec": {
   "display_name": "Python 3",
   "language": "python",
   "name": "python3"
  },
  "language_info": {
   "codemirror_mode": {
    "name": "ipython",
    "version": 3
   },
   "file_extension": ".py",
   "mimetype": "text/x-python",
   "name": "python",
   "nbconvert_exporter": "python",
   "pygments_lexer": "ipython3",
   "version": "3.7.3"
  }
 },
 "nbformat": 4,
 "nbformat_minor": 2
}
