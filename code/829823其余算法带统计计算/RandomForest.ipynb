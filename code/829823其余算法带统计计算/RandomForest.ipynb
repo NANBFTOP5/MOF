{
 "cells": [
  {
   "cell_type": "code",
   "execution_count": 1,
   "metadata": {},
   "outputs": [],
   "source": [
    "import numpy as np # linear algebra\n",
    "import pandas as pd # data processing, CSV file I/O (e.g. pd.read_csv)\n",
    "import pickle\n",
    "#import keras\n",
    "\n",
    "from sklearn import svm\n",
    "import random\n",
    "import os\n",
    "from math import floor\n",
    "import warnings\n",
    "\n",
    "from sklearn.preprocessing import StandardScaler, MinMaxScaler"
   ]
  },
  {
   "cell_type": "code",
   "execution_count": 2,
   "metadata": {},
   "outputs": [],
   "source": [
    "# If you want to train the model by yourself\n",
    "\n",
    "# train data\n",
    "with open('829823out.pickle', 'rb') as f:\n",
    "    Data = pickle.load(f)\n",
    "    Data = pd.DataFrame(Data)\n",
    "\n",
    "numtrain = 829 * 6 * 12\n",
    "numval = int(numtrain * 0.2)\n",
    "\n",
    "\n",
    "# Train validation split\n",
    "idx = random.sample(range(numtrain), numval) # 80% for training\n",
    "all_index = list(np.setdiff1d(range(numtrain), idx))\n",
    "\n",
    "# Getting X_train, X_val, y_train and scale them\n",
    "\n",
    "X_train = Data.iloc[all_index,:].drop(2251, axis = 1)\n",
    "X_val = Data.iloc[idx,:].drop(2251, axis = 1)\n",
    "y_train = pd.get_dummies(Data.iloc[all_index,:][2251])\n",
    "#print(y_train)\n",
    "\n",
    "names = y_train.columns\n",
    "mapping = {}\n",
    "i = 0\n",
    "for n in names:\n",
    "    mapping[i] = n\n",
    "    i+=1\n",
    "#print(mapping)\n",
    "\n",
    "y_train = Data.iloc[all_index,:][2251]\n",
    "\n",
    "scaler = MinMaxScaler()\n",
    "X_train = scaler.fit_transform(X_train)\n",
    "X_val = scaler.transform(X_val)"
   ]
  },
  {
   "cell_type": "code",
   "execution_count": 3,
   "metadata": {},
   "outputs": [
    {
     "data": {
      "text/plain": [
       "RandomForestClassifier(bootstrap=True, class_weight=None, criterion='gini',\n",
       "                       max_depth=None, max_features='auto', max_leaf_nodes=None,\n",
       "                       min_impurity_decrease=0.0, min_impurity_split=None,\n",
       "                       min_samples_leaf=1, min_samples_split=2,\n",
       "                       min_weight_fraction_leaf=0.0, n_estimators=100,\n",
       "                       n_jobs=None, oob_score=False, random_state=None,\n",
       "                       verbose=0, warm_start=False)"
      ]
     },
     "execution_count": 3,
     "metadata": {},
     "output_type": "execute_result"
    }
   ],
   "source": [
    "from sklearn.ensemble import RandomForestClassifier\n",
    "model = RandomForestClassifier(n_estimators=100)\n",
    "model.fit(X_train, y_train)\n"
   ]
  },
  {
   "cell_type": "code",
   "execution_count": 4,
   "metadata": {},
   "outputs": [
    {
     "name": "stdout",
     "output_type": "stream",
     "text": [
      "['BUBWEC', 'BAXQAU', 'ZIF-71', 'FOHJAP', 'JARMEU', 'LOTMOY', 'PYDSCU10', 'BEWCUD', 'DIRPIF', 'MARFIW', 'JARMEU10']\n",
      "['BUBWEC', 'ZIF-71', 'BAXQAU', 'LOTMOY', 'JARMEU', 'FOHJAP', 'PYDSCU10', 'BEWCUD', 'ZIF-11', 'COMXUZ', 'BUYNAL']\n",
      "['BUBWEC', 'ZIF-71', 'JARMEU10', 'BAXQAU', 'LOTMOY', 'PYDSCU10', 'FOHJAP', 'ZIF-11', 'NASZOW', 'BUYNAL', 'BEWCUD']\n",
      "['HEGCEB', 'BOHYCU', 'GEPYIK', 'LIQDAS', 'LIKRAZ', 'REJPIH', 'ZIF-73', 'NOHSOU', 'UFASIE', 'VUDPIV', 'BAXQAU']\n",
      "['HEGCEB', 'BOHYCU', 'GEPYIK', 'LIQDAS', 'REJPIH', 'ZIF-73', 'LIKRAZ', 'NOHSOU', 'UFASIE', 'BAXQAU', 'FIRNAX01']\n",
      "['HEGCEB', 'BOHYCU', 'GEPYIK', 'ZIF-73', 'REJPIH', 'LIQDAS', 'UFASIE', 'LIKRAZ', 'VUDPIV', 'FIRNAX01', 'BAXQAU']\n",
      "['ROJYEW', 'DUT-23', 'JUMDAY', 'TEFWIL', 'ABIKAZ', 'FUDGOC', 'ZIF-65', 'OXAPUZ', 'YOZNAE', 'ZIF-90', 'FURVEU']\n",
      "['ROJYEW', 'DUT-23', 'ABIKAZ', 'JUMDAY', 'PUZMED', 'TEFWIL', 'MOXDOT', 'ZIF-65', 'FURVEU', 'FUDGOC', 'ZIF-90']\n",
      "['JUMDAY', 'DUT-23', 'MOXDOT', 'YOZNAE', 'TEFWIL', 'AGOVID', 'IZOWEA', 'OXAPUZ', 'JEJWOL', 'XAYMUF', 'IVESOS']\n",
      "['DUT-23', 'JUMDAY', 'TEFWIL', 'ABIKAZ', 'FUDGOC', 'MESTOU', 'ZIF-90', 'ZIF-65', 'PUZMED', 'TEWMIS', 'FURVEU']\n",
      "['JUMDAY', 'MOXDOT', 'FUDGOC', 'TEFWIL', 'FURVEU', 'XABKIW01', 'DUT-23', 'PODKUQ', 'XAYMUF', 'MIBQAR08', 'IVESOS']\n",
      "['DUT-23', 'JUMDAY', 'TEFWIL', 'ABIKAZ', 'FUDGOC', 'ZIF-90', 'MESTOU', 'YOZNAE', 'PUZMED', 'ZIF-65', 'ROJYEW']\n",
      "['ZIF-77', 'ZIF-7', 'ZIF-11', 'FOHJAP', 'RECMIV', 'NASZOW', 'BAXQAU', 'BEWCUD', 'ZEDYEO', 'RORQIA', 'ZIF-71']\n",
      "['RARBES', 'BAXQAU', 'ZIF-12', 'FOHJAP', 'JARMEU', 'BUBWEC', 'ZIF-11', 'COMXUZ', 'JARMEU10', 'NODTEH', 'BUKTAE']\n",
      "['ZIF-71', 'ZIF-11', 'NASZOW', 'FOHJAP', 'ODIXAC', 'ZIF-9', 'BAXQAU', 'LOTMOY', 'ZIF-12', 'BUBWEC', 'RORQIA']\n",
      "['COCDOP', 'GOSSEM01', 'MARFIW', 'NIJTOP01', 'AFEHUO', 'ZIF-77', 'LOTMOY02', 'ZUJKAS', 'QEFNAQ', 'OGUTOA', 'VAWXAS01']\n",
      "['NIJTOP01', 'XOPHUG', 'AFEHUO', 'ZUJKAS', 'GURFIJ', 'LOTMOY02', 'IBUHUK', 'OMORUE', 'GOSSEM01', 'OGUTOA', 'COCDOP']\n",
      "['NIJTOP01', 'LOTMOY02', 'XOPHUG', 'ZUJKAS', 'GOSSEM01', 'ZIF-77', 'OMORUE', 'COCDOP', 'GURFIJ', 'IBUHUK', 'AFEHUO']\n",
      "['QAYTOZ', 'VUVPOR', 'MITSAK', 'OYOSUR', 'UCOPUZ', 'OVEDUP', 'AGOVID', 'SEFXAE', 'SUPZAG', 'JOKYIR10', 'UGUQOC']\n",
      "['MOF-74', 'FORKUU', 'ZIF-69', 'ZIF-62', 'UFASIE', 'WICQUV', 'JUZXIL', 'JOCLAP', 'QUQPOI', 'MIBQAR19', 'DIDDOK']\n",
      "['MIKVOR', 'XAFFIV', 'LAMHAI', 'SOMFAC', 'PUWZIR', 'QAYTOZ', 'QOJKAB', 'VUVPOR', 'YUBRUI', 'NOYNIU', 'VIFFOG']\n",
      "['QEQBEU', 'ZIF-3', 'REGREC', 'RAFRAS', 'HOJJOH', 'MAHSOE', 'FORKUU', 'OYOTIG', 'HOCHAI', 'ZIF-10', 'ENISUQ']\n",
      "['ENISUQ', 'RAFRAS', 'HOCHAI', 'REGREC', 'QEQBEU', 'DAVVAZ', 'ZIF-3', 'ZIF-10', 'HOJJOH', 'DUT-12', 'OYOTIG']\n",
      "['ZIF-3', 'QEQBEU', 'ZIF-10', 'RAFRAS', 'OYOTIG', 'HOJJOH', 'HOCHAI', 'ZOVQOS', 'DAVVAZ', 'NODTEH', 'QAZLIO']\n",
      "['AJOKUF', 'PAZSOZ', 'SIBCOV', 'TOVJIX', 'TALJAS', 'FALJEJ', 'PEYRES', 'LATFUI', 'ABIKAZ', 'KUTNEU', 'QOJVAM']\n",
      "['AJOKUF', 'SIBCOV', 'PAZSOZ', 'FALJEJ', 'RIWGEL', 'TOVJIX', 'QOJVAM', 'ABIKAZ', 'ATOMAX', 'TALJAS', 'FUMGOL']\n",
      "['PAZSOZ', 'AJOKUF', 'FALJEJ', 'SIBCOV', 'TALJAS', 'TOVJIX', 'RIWGEL', 'NUKTIM', 'ATOMAX', 'XUDPIX', 'BAHGUN01']\n",
      "['PUTYEI', 'ZIF-4', 'LEJCAG', 'LOSCON', 'NEDWIE', 'ONESAC', 'OBEZAX', 'METPAC', 'TIMSUE', 'KUTNEU', 'IDIWIB']\n",
      "['PUTYEI', 'LOSCON', 'GIYJAB', 'ZIF-4', 'LEJCAG', 'ONESAC', 'NATBAL', 'NIGBOW', 'NEDWIE', 'OBEZAX', 'IDIWIB']\n",
      "['PUTYEI', 'LOSCON', 'LEJCAG', 'IDIWIB', 'ZIF-4', 'OBEZAX', 'NIGBOW', 'ONESAC', 'TIMSUE', 'ZUMWUZ', 'QAYTOZ']\n"
     ]
    }
   ],
   "source": [
    "Test = pd.read_csv('test_data_30.csv')\n",
    "Test_filter = Test.fillna(method='ffill')\n",
    "\n",
    "X_test = scaler.transform(Test_filter.iloc[:,1:])\n",
    "#pred = clf.predict(X_test)\n",
    "\n",
    "probas = model.predict_proba(X_test)\n",
    "top_n_predictions = np.argsort(probas, axis = 1)[:,-11:]\n",
    "\n",
    "result = []\n",
    "for pre in top_n_predictions:\n",
    "    pre_list = []\n",
    "    for index in pre:\n",
    "        pre_list.append(mapping[index])\n",
    "    result.append(pre_list)\n",
    "\n",
    "    \n",
    "for plist in result:\n",
    "    plist.reverse()\n",
    "    print(plist)"
   ]
  },
  {
   "cell_type": "code",
   "execution_count": 5,
   "metadata": {},
   "outputs": [
    {
     "name": "stdout",
     "output_type": "stream",
     "text": [
      "['BUBWEC', 'BAXQAU', 'ZIF-71', 'FOHJAP', 'JARMEU']\n",
      "['BUBWEC', 'ZIF-71', 'BAXQAU', 'LOTMOY', 'JARMEU']\n",
      "['BUBWEC', 'ZIF-71', 'JARMEU10', 'BAXQAU', 'LOTMOY']\n",
      "['HEGCEB', 'BOHYCU', 'GEPYIK', 'LIQDAS', 'LIKRAZ']\n",
      "['HEGCEB', 'BOHYCU', 'GEPYIK', 'LIQDAS', 'REJPIH']\n",
      "['HEGCEB', 'BOHYCU', 'GEPYIK', 'ZIF-73', 'REJPIH']\n",
      "['ROJYEW', 'DUT-23', 'JUMDAY', 'TEFWIL', 'ABIKAZ']\n",
      "['ROJYEW', 'DUT-23', 'ABIKAZ', 'JUMDAY', 'PUZMED']\n",
      "['JUMDAY', 'DUT-23', 'MOXDOT', 'YOZNAE', 'TEFWIL']\n",
      "['DUT-23', 'JUMDAY', 'TEFWIL', 'ABIKAZ', 'FUDGOC']\n",
      "['JUMDAY', 'MOXDOT', 'FUDGOC', 'TEFWIL', 'FURVEU']\n",
      "['DUT-23', 'JUMDAY', 'TEFWIL', 'ABIKAZ', 'FUDGOC']\n",
      "['ZIF-77', 'ZIF-7', 'ZIF-11', 'FOHJAP', 'RECMIV']\n",
      "['RARBES', 'BAXQAU', 'ZIF-12', 'FOHJAP', 'JARMEU']\n",
      "['ZIF-71', 'ZIF-11', 'NASZOW', 'FOHJAP', 'ODIXAC']\n",
      "['COCDOP', 'GOSSEM01', 'MARFIW', 'NIJTOP01', 'AFEHUO']\n",
      "['NIJTOP01', 'XOPHUG', 'AFEHUO', 'ZUJKAS', 'GURFIJ']\n",
      "['NIJTOP01', 'LOTMOY02', 'XOPHUG', 'ZUJKAS', 'GOSSEM01']\n",
      "['QAYTOZ', 'VUVPOR', 'MITSAK', 'OYOSUR', 'UCOPUZ']\n",
      "['MOF-74', 'FORKUU', 'ZIF-69', 'ZIF-62', 'UFASIE']\n",
      "['MIKVOR', 'XAFFIV', 'LAMHAI', 'SOMFAC', 'PUWZIR']\n",
      "['QEQBEU', 'ZIF-3', 'REGREC', 'RAFRAS', 'HOJJOH']\n",
      "['ENISUQ', 'RAFRAS', 'HOCHAI', 'REGREC', 'QEQBEU']\n",
      "['ZIF-3', 'QEQBEU', 'ZIF-10', 'RAFRAS', 'OYOTIG']\n",
      "['AJOKUF', 'PAZSOZ', 'SIBCOV', 'TOVJIX', 'TALJAS']\n",
      "['AJOKUF', 'SIBCOV', 'PAZSOZ', 'FALJEJ', 'RIWGEL']\n",
      "['PAZSOZ', 'AJOKUF', 'FALJEJ', 'SIBCOV', 'TALJAS']\n",
      "['PUTYEI', 'ZIF-4', 'LEJCAG', 'LOSCON', 'NEDWIE']\n",
      "['PUTYEI', 'LOSCON', 'GIYJAB', 'ZIF-4', 'LEJCAG']\n",
      "['PUTYEI', 'LOSCON', 'LEJCAG', 'IDIWIB', 'ZIF-4']\n"
     ]
    }
   ],
   "source": [
    "top_n_predictions = np.argsort(probas, axis = 1)[:,-5:]\n",
    "\n",
    "result = []\n",
    "for pre in top_n_predictions:\n",
    "    pre_list = []\n",
    "    for index in pre:\n",
    "        pre_list.append(mapping[index])\n",
    "    result.append(pre_list)\n",
    "\n",
    "    \n",
    "for plist in result:\n",
    "    plist.reverse()\n",
    "    print(plist)"
   ]
  },
  {
   "cell_type": "code",
   "execution_count": 6,
   "metadata": {},
   "outputs": [
    {
     "name": "stdout",
     "output_type": "stream",
     "text": [
      "top1 accuracy:0.0\n",
      "0\n",
      "top2 accuracy:0.03333333333333333\n",
      "1\n",
      "top3 accuracy:0.03333333333333333\n",
      "1\n",
      "top4 accuracy:0.03333333333333333\n",
      "1\n",
      "top5 accuracy:0.03333333333333333\n",
      "1\n"
     ]
    }
   ],
   "source": [
    "for i in range(1,6):    \n",
    "    top_n_predictions = np.argsort(probas, axis = 1)[:,-i:]\n",
    "\n",
    "    result = []\n",
    "    for pre in top_n_predictions:\n",
    "        pre_list = []\n",
    "        for index in pre:\n",
    "            pre_list.append(mapping[index])\n",
    "        result.append(pre_list)\n",
    "\n",
    "    \n",
    "    count = 0\n",
    "    for p in result[:3]:\n",
    "        if 'ZIF-67' in p:\n",
    "            count += 1\n",
    "    for p in result[3:6]:\n",
    "        if 'ZIF-71' in p:\n",
    "            count += 1\n",
    "    for p in result[6:9]:\n",
    "        if 'ZIF-8' in p:\n",
    "            count += 1\n",
    "    for p in result[9:12]:\n",
    "        if 'ZIF-90' in p:\n",
    "            count += 1\n",
    "    for p in result[12:15]:\n",
    "        if 'ZIF-7' in p:\n",
    "            count += 1\n",
    "    for p in result[15:18]:\n",
    "        if 'ZIF-9' in p:\n",
    "            count += 1\n",
    "    for p in result[18:21]:\n",
    "        if 'MOF-5' in p:\n",
    "            count += 1\n",
    "    for p in result[21:24]:\n",
    "        if 'MOF-74' in p:\n",
    "            count += 1\n",
    "    for p in result[24:27]:\n",
    "        if 'MOF-199' in p:\n",
    "            count += 1\n",
    "    for p in result[27:30]:\n",
    "        if 'MOF-2' in p:\n",
    "            count += 1\n",
    "\n",
    "    accuracy = count/30\n",
    "    print('top' + str(i) + ' ' + 'accuracy:' +str(accuracy))\n",
    "    print(count)"
   ]
  },
  {
   "cell_type": "code",
   "execution_count": null,
   "metadata": {},
   "outputs": [],
   "source": []
  }
 ],
 "metadata": {
  "kernelspec": {
   "display_name": "Python 3",
   "language": "python",
   "name": "python3"
  },
  "language_info": {
   "codemirror_mode": {
    "name": "ipython",
    "version": 3
   },
   "file_extension": ".py",
   "mimetype": "text/x-python",
   "name": "python",
   "nbconvert_exporter": "python",
   "pygments_lexer": "ipython3",
   "version": "3.7.3"
  }
 },
 "nbformat": 4,
 "nbformat_minor": 2
}
