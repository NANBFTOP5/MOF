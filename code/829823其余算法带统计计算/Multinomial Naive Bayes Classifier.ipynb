{
 "cells": [
  {
   "cell_type": "code",
   "execution_count": 1,
   "metadata": {},
   "outputs": [],
   "source": [
    "import numpy as np # linear algebra\n",
    "import pandas as pd # data processing, CSV file I/O (e.g. pd.read_csv)\n",
    "import pickle\n",
    "#import keras\n",
    "\n",
    "from sklearn import svm\n",
    "import random\n",
    "import os\n",
    "from math import floor\n",
    "import warnings\n",
    "\n",
    "from sklearn.preprocessing import StandardScaler, MinMaxScaler"
   ]
  },
  {
   "cell_type": "code",
   "execution_count": 2,
   "metadata": {},
   "outputs": [],
   "source": [
    "# If you want to train the model by yourself\n",
    "\n",
    "# train data\n",
    "with open('829823out.pickle', 'rb') as f:\n",
    "    Data = pickle.load(f)\n",
    "    Data = pd.DataFrame(Data)\n",
    "\n",
    "numtrain = 829 * 6 * 12\n",
    "numval = int(numtrain * 0.2)\n",
    "\n",
    "\n",
    "# Train validation split\n",
    "idx = random.sample(range(numtrain), numval) # 80% for training\n",
    "all_index = list(np.setdiff1d(range(numtrain), idx))\n",
    "\n",
    "# Getting X_train, X_val, y_train and scale them\n",
    "\n",
    "X_train = Data.iloc[all_index,:].drop(2251, axis = 1)\n",
    "X_val = Data.iloc[idx,:].drop(2251, axis = 1)\n",
    "y_train = pd.get_dummies(Data.iloc[all_index,:][2251])\n",
    "#print(y_train)\n",
    "\n",
    "names = y_train.columns\n",
    "mapping = {}\n",
    "i = 0\n",
    "for n in names:\n",
    "    mapping[i] = n\n",
    "    i+=1\n",
    "#print(mapping)\n",
    "\n",
    "y_train = Data.iloc[all_index,:][2251]\n",
    "\n",
    "scaler = MinMaxScaler()\n",
    "X_train = scaler.fit_transform(X_train)\n",
    "X_val = scaler.transform(X_val)"
   ]
  },
  {
   "cell_type": "code",
   "execution_count": 3,
   "metadata": {},
   "outputs": [
    {
     "data": {
      "text/plain": [
       "MultinomialNB(alpha=0.01, class_prior=None, fit_prior=True)"
      ]
     },
     "execution_count": 3,
     "metadata": {},
     "output_type": "execute_result"
    }
   ],
   "source": [
    "\n",
    "from sklearn.naive_bayes import MultinomialNB\n",
    "model = MultinomialNB(alpha=0.01)\n",
    "model.fit(X_train, y_train)\n"
   ]
  },
  {
   "cell_type": "code",
   "execution_count": 4,
   "metadata": {},
   "outputs": [
    {
     "name": "stdout",
     "output_type": "stream",
     "text": [
      "['PUQDIQ', 'DIRPIF', 'VUDPIV', 'BUYNAL', 'JARMEU10', 'ODIXAC', 'PYDSCU10', 'COMXUZ', 'ZIF-71', 'FOHJAP', 'ZIF-12']\n",
      "['VUDPIV', 'PUQDIQ', 'DIRPIF', 'BUYNAL', 'FOHJAP', 'BUBWEC', 'PYDSCU10', 'MIBMER', 'JARMEU10', 'ODIXAC', 'ZIF-12']\n",
      "['PUQDIQ', 'DIRPIF', 'BUYNAL', 'ODIXAC', 'JARMEU10', 'VUDPIV', 'PYDSCU10', 'COMXUZ', 'ZIF-71', 'FOHJAP', 'MIBMER']\n",
      "['MARFIW', 'EQOYIS', 'AGOVID', 'GEPYIK', 'SIJPAD', 'DUT-12', 'MIBMER', 'NAYMAC', 'TIXXOP', 'GOSSEM01', 'XANLUV']\n",
      "['MARFIW', 'EQOYIS', 'GOSSEM01', 'XANLUV', 'REJPIH', 'AGOVID', 'SIJPAD', 'LIKRAZ', 'GEPYIK', 'DUT-12', 'MIBMER']\n",
      "['MARFIW', 'EQOYIS', 'GOSSEM01', 'AGOVID', 'XANLUV', 'DUT-12', 'SIJPAD', 'REJPIH', 'MIBMER', 'GEPYIK', 'LIKRAZ']\n",
      "['ZIF-65', 'ZIF-90', 'ROJYEW', 'FUDGOC', 'NATBAL', 'JUMDAY', 'MOXDOT', 'MESTOU', 'JEJWOL', 'TEFWIL', 'ABIKAZ']\n",
      "['NATBAL', 'FUDGOC', 'MESTOU', 'ZIF-65', 'ZIF-90', 'MOXDOT', 'ROJYEW', 'QOHKEE', 'CUFFEP', 'TEFWIL', 'PODKUQ']\n",
      "['NATBAL', 'MESTOU', 'MOXDOT', 'FUDGOC', 'ZIF-65', 'CUFFEP', 'ZIF-90', 'ABIKAZ', 'QOHKEE', 'IYUWOP', 'TEFWIL']\n",
      "['NATBAL', 'FUDGOC', 'MESTOU', 'ZIF-65', 'MOXDOT', 'ZIF-90', 'QOHKEE', 'ROJYEW', 'CUFFEP', 'PODKUQ', 'TEFWIL']\n",
      "['MOXDOT', 'FUDGOC', 'QOHKEE', 'JEJWOL', 'ZIF-65', 'ZIF-90', 'NATBAL', 'JUMDAY', 'MESTOU', 'ROJYEW', 'TEFWIL']\n",
      "['FUDGOC', 'NATBAL', 'ZIF-65', 'MESTOU', 'ZIF-90', 'MOXDOT', 'QOHKEE', 'ROJYEW', 'JUMDAY', 'TEFWIL', 'CUFFEP']\n",
      "['ZIF-7', 'ZIF-9', 'BUYNAL', 'AXINAX01', 'ZIF-71', 'KUNTAQ02', 'ZIF-12', 'ODIXAC', 'FORKUU', 'CUFFEP', 'ZIF-11']\n",
      "['ZIF-7', 'ZIF-9', 'BUYNAL', 'AXINAX01', 'ZIF-71', 'VUDPIV', 'BUBWEC', 'BAXQAU', 'ODIXAC', 'ZIF-12', 'ZIF-11']\n",
      "['ZIF-7', 'ZIF-9', 'BUYNAL', 'AXINAX01', 'ZIF-71', 'ZIF-12', 'CUFFEP', 'KUNTAQ02', 'ODIXAC', 'ZIF-11', 'BAXQAU']\n",
      "['OGUTOA', 'LOTMOY02', 'COCDOP', 'XANLUV', 'REJPIH', 'BUYNAL', 'LIKRAZ', 'OMORUE', 'MOXDOT', 'LEJCAG', 'GURFIJ']\n",
      "['LOTMOY02', 'OGUTOA', 'XANLUV', 'COCDOP', 'MOXDOT', 'ZUJKAS', 'GOSSEM01', 'OMORUE', 'NIJTOP01', 'GURFIJ', 'AFEHUO']\n",
      "['XANLUV', 'MOXDOT', 'LOTMOY02', 'BUYNAL', 'OGUTOA', 'REJPIH', 'GOSSEM01', 'COCDOP', 'OMORUE', 'GURFIJ', 'LIKRAZ']\n",
      "['MITSAK', 'VAQBIY02', 'UCOPUZ', 'NIDDIP', 'JOCLAP', 'UNEQUA', 'WIBNOL', 'YIPGUA', 'OHEQUP05', 'ZIF-6', 'UGUQOC']\n",
      "['CIDNIM', 'LAWGEW', 'JOCLAP', 'ZEDGEW', 'MOF-5', 'ZECKOJ', 'KOPHOO', 'MIBQAR19', 'MIBQAR03', 'MIBQAR01', 'VUJVAZ']\n",
      "['JOCLAP', 'DAVVAZ', 'SOQSAU', 'YIPGUA', 'MITSAK', 'ENISUQ', 'MAHSOE', 'DANQIS', 'HOCHAI', 'ZEDGEW', 'MOF-5']\n",
      "['QAZLIO', 'HOJJOH', 'MAHSOE', 'HOCHAI', 'QEQBEU', 'VAGMIB', 'REGREC', 'LOTMOY01', 'VATXIZ', 'RAFRAS', 'VUJLET']\n",
      "['HOJJOH', 'NAYJEE', 'MOF-199', 'OYOTIG', 'SIBCOV', 'HOCHAI', 'VUJLET', 'QAZLIO', 'QEQBEU', 'RAFRAS', 'CUDPOI']\n",
      "['FEWBUG', 'IBUHUK', 'HOCHAI', 'QEQBEU', 'VUJLET', 'HOJJOH', 'SIBCOV', 'DANQIS', 'QAZLIO', 'QARRAE', 'VAGMIB']\n",
      "['SIBCOV', 'NAYJEE', 'MOF-199', 'AJOKUF', 'KUWCEM', 'FEWBUG', 'ZIF-6', 'IBUHUK', 'TOVJIX', 'QARRAE', 'XIBHOG']\n",
      "['SIBCOV', 'AJOKUF', 'NAYJEE', 'MOF-199', 'TOVJIX', 'CAXBIO', 'QARRAE', 'KUWCEM', 'IBUHUK', 'FEWBUG', 'LUWJEU']\n",
      "['AJOKUF', 'SIBCOV', 'NAYJEE', 'MOF-199', 'TOVJIX', 'CAXBIO', 'LUWJEU', 'QARRAE', 'KUWCEM', 'MAHSOE', 'FEWBUG']\n",
      "['MOF-2', 'WOJZEA', 'LEJCAG', 'PUTYEI', 'LOSCON', 'NEDWIE', 'GOSSEM01', 'BEWCUD', 'ETELEV', 'JETXAI', 'CISMOH']\n",
      "['MOF-2', 'LEJCAG', 'WOJZEA', 'PUTYEI', 'LOSCON', 'NEDWIE', 'GOSSEM01', 'BEWCUD', 'JETXAI', 'ETELEV', 'MUNXIC']\n",
      "['MOF-2', 'LEJCAG', 'WOJZEA', 'PUTYEI', 'LOSCON', 'NEDWIE', 'GOSSEM01', 'BEWCUD', 'ETELEV', 'MUNXIC', 'NIJTOP']\n"
     ]
    }
   ],
   "source": [
    "Test = pd.read_csv('test_data_30.csv')\n",
    "Test_filter = Test.fillna(method='ffill')\n",
    "\n",
    "X_test = scaler.transform(Test_filter.iloc[:,1:])\n",
    "#pred = clf.predict(X_test)\n",
    "\n",
    "probas = model.predict_proba(X_test)\n",
    "top_n_predictions = np.argsort(probas, axis = 1)[:,-11:]\n",
    "\n",
    "result = []\n",
    "for pre in top_n_predictions:\n",
    "    pre_list = []\n",
    "    for index in pre:\n",
    "        pre_list.append(mapping[index])\n",
    "    result.append(pre_list)\n",
    "\n",
    "    \n",
    "for plist in result:\n",
    "    plist.reverse()\n",
    "    print(plist)"
   ]
  },
  {
   "cell_type": "code",
   "execution_count": 5,
   "metadata": {},
   "outputs": [
    {
     "name": "stdout",
     "output_type": "stream",
     "text": [
      "['PUQDIQ', 'DIRPIF', 'VUDPIV', 'BUYNAL', 'JARMEU10']\n",
      "['VUDPIV', 'PUQDIQ', 'DIRPIF', 'BUYNAL', 'FOHJAP']\n",
      "['PUQDIQ', 'DIRPIF', 'BUYNAL', 'ODIXAC', 'JARMEU10']\n",
      "['MARFIW', 'EQOYIS', 'AGOVID', 'GEPYIK', 'SIJPAD']\n",
      "['MARFIW', 'EQOYIS', 'GOSSEM01', 'XANLUV', 'REJPIH']\n",
      "['MARFIW', 'EQOYIS', 'GOSSEM01', 'AGOVID', 'XANLUV']\n",
      "['ZIF-65', 'ZIF-90', 'ROJYEW', 'FUDGOC', 'NATBAL']\n",
      "['NATBAL', 'FUDGOC', 'MESTOU', 'ZIF-65', 'ZIF-90']\n",
      "['NATBAL', 'MESTOU', 'MOXDOT', 'FUDGOC', 'ZIF-65']\n",
      "['NATBAL', 'FUDGOC', 'MESTOU', 'ZIF-65', 'MOXDOT']\n",
      "['MOXDOT', 'FUDGOC', 'QOHKEE', 'JEJWOL', 'ZIF-65']\n",
      "['FUDGOC', 'NATBAL', 'ZIF-65', 'MESTOU', 'ZIF-90']\n",
      "['ZIF-7', 'ZIF-9', 'BUYNAL', 'AXINAX01', 'ZIF-71']\n",
      "['ZIF-7', 'ZIF-9', 'BUYNAL', 'AXINAX01', 'ZIF-71']\n",
      "['ZIF-7', 'ZIF-9', 'BUYNAL', 'AXINAX01', 'ZIF-71']\n",
      "['OGUTOA', 'LOTMOY02', 'COCDOP', 'XANLUV', 'REJPIH']\n",
      "['LOTMOY02', 'OGUTOA', 'XANLUV', 'COCDOP', 'MOXDOT']\n",
      "['XANLUV', 'MOXDOT', 'LOTMOY02', 'BUYNAL', 'OGUTOA']\n",
      "['MITSAK', 'VAQBIY02', 'UCOPUZ', 'NIDDIP', 'JOCLAP']\n",
      "['CIDNIM', 'LAWGEW', 'JOCLAP', 'ZEDGEW', 'MOF-5']\n",
      "['JOCLAP', 'DAVVAZ', 'SOQSAU', 'YIPGUA', 'MITSAK']\n",
      "['QAZLIO', 'HOJJOH', 'MAHSOE', 'HOCHAI', 'QEQBEU']\n",
      "['HOJJOH', 'NAYJEE', 'MOF-199', 'OYOTIG', 'SIBCOV']\n",
      "['FEWBUG', 'IBUHUK', 'HOCHAI', 'QEQBEU', 'VUJLET']\n",
      "['SIBCOV', 'NAYJEE', 'MOF-199', 'AJOKUF', 'KUWCEM']\n",
      "['SIBCOV', 'AJOKUF', 'NAYJEE', 'MOF-199', 'TOVJIX']\n",
      "['AJOKUF', 'SIBCOV', 'NAYJEE', 'MOF-199', 'TOVJIX']\n",
      "['MOF-2', 'WOJZEA', 'LEJCAG', 'PUTYEI', 'LOSCON']\n",
      "['MOF-2', 'LEJCAG', 'WOJZEA', 'PUTYEI', 'LOSCON']\n",
      "['MOF-2', 'LEJCAG', 'WOJZEA', 'PUTYEI', 'LOSCON']\n"
     ]
    }
   ],
   "source": [
    "top_n_predictions = np.argsort(probas, axis = 1)[:,-5:]\n",
    "\n",
    "result = []\n",
    "for pre in top_n_predictions:\n",
    "    pre_list = []\n",
    "    for index in pre:\n",
    "        pre_list.append(mapping[index])\n",
    "    result.append(pre_list)\n",
    "\n",
    "    \n",
    "for plist in result:\n",
    "    plist.reverse()\n",
    "    print(plist)"
   ]
  },
  {
   "cell_type": "code",
   "execution_count": 6,
   "metadata": {},
   "outputs": [
    {
     "name": "stdout",
     "output_type": "stream",
     "text": [
      "top1 accuracy:0.2\n",
      "6\n",
      "top2 accuracy:0.2\n",
      "6\n",
      "top3 accuracy:0.23333333333333334\n",
      "7\n",
      "top4 accuracy:0.3\n",
      "9\n",
      "top5 accuracy:0.36666666666666664\n",
      "11\n"
     ]
    }
   ],
   "source": [
    "for i in range(1,6):    \n",
    "    top_n_predictions = np.argsort(probas, axis = 1)[:,-i:]\n",
    "\n",
    "    result = []\n",
    "    for pre in top_n_predictions:\n",
    "        pre_list = []\n",
    "        for index in pre:\n",
    "            pre_list.append(mapping[index])\n",
    "        result.append(pre_list)\n",
    "\n",
    "    \n",
    "    count = 0\n",
    "    for p in result[:3]:\n",
    "        if 'ZIF-67' in p:\n",
    "            count += 1\n",
    "    for p in result[3:6]:\n",
    "        if 'ZIF-71' in p:\n",
    "            count += 1\n",
    "    for p in result[6:9]:\n",
    "        if 'ZIF-8' in p:\n",
    "            count += 1\n",
    "    for p in result[9:12]:\n",
    "        if 'ZIF-90' in p:\n",
    "            count += 1\n",
    "    for p in result[12:15]:\n",
    "        if 'ZIF-7' in p:\n",
    "            count += 1\n",
    "    for p in result[15:18]:\n",
    "        if 'ZIF-9' in p:\n",
    "            count += 1\n",
    "    for p in result[18:21]:\n",
    "        if 'MOF-5' in p:\n",
    "            count += 1\n",
    "    for p in result[21:24]:\n",
    "        if 'MOF-74' in p:\n",
    "            count += 1\n",
    "    for p in result[24:27]:\n",
    "        if 'MOF-199' in p:\n",
    "            count += 1\n",
    "    for p in result[27:30]:\n",
    "        if 'MOF-2' in p:\n",
    "            count += 1\n",
    "\n",
    "    accuracy = count/30\n",
    "    print('top' + str(i) + ' ' + 'accuracy:' +str(accuracy))\n",
    "    print(count)"
   ]
  },
  {
   "cell_type": "code",
   "execution_count": null,
   "metadata": {},
   "outputs": [],
   "source": []
  }
 ],
 "metadata": {
  "kernelspec": {
   "display_name": "Python 3",
   "language": "python",
   "name": "python3"
  },
  "language_info": {
   "codemirror_mode": {
    "name": "ipython",
    "version": 3
   },
   "file_extension": ".py",
   "mimetype": "text/x-python",
   "name": "python",
   "nbconvert_exporter": "python",
   "pygments_lexer": "ipython3",
   "version": "3.7.3"
  }
 },
 "nbformat": 4,
 "nbformat_minor": 2
}
