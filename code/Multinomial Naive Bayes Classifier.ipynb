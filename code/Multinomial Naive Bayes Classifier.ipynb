{
 "cells": [
  {
   "cell_type": "code",
   "execution_count": 1,
   "metadata": {},
   "outputs": [],
   "source": [
    "import numpy as np # linear algebra\n",
    "import pandas as pd # data processing, CSV file I/O (e.g. pd.read_csv)\n",
    "import pickle\n",
    "#import keras\n",
    "\n",
    "from sklearn import svm\n",
    "import random\n",
    "import os\n",
    "from math import floor\n",
    "import warnings\n",
    "\n",
    "from sklearn.preprocessing import StandardScaler, MinMaxScaler"
   ]
  },
  {
   "cell_type": "code",
   "execution_count": 2,
   "metadata": {},
   "outputs": [],
   "source": [
    "# If you want to train the model by yourself\n",
    "\n",
    "# train data\n",
    "with open('new_data_filter0.pickle', 'rb') as f:\n",
    "    Data = pickle.load(f)\n",
    "    Data = pd.DataFrame(Data)\n",
    "\n",
    "numtrain = 186 * 6 * 12\n",
    "numval = 2678\n",
    "\n",
    "\n",
    "# Train validation split\n",
    "idx = random.sample(range(numtrain), numval) # 80% for training\n",
    "all_index = list(np.setdiff1d(range(numtrain), idx))\n",
    "\n",
    "# Getting X_train, X_val, y_train and scale them\n",
    "\n",
    "X_train = Data.iloc[all_index,:].drop(2251, axis = 1)\n",
    "X_val = Data.iloc[idx,:].drop(2251, axis = 1)\n",
    "y_train = pd.get_dummies(Data.iloc[all_index,:][2251])\n",
    "#print(y_train)\n",
    "\n",
    "names = y_train.columns\n",
    "mapping = {}\n",
    "i = 0\n",
    "for n in names:\n",
    "    mapping[i] = n\n",
    "    i+=1\n",
    "#print(mapping)\n",
    "\n",
    "y_train = Data.iloc[all_index,:][2251]\n",
    "\n",
    "scaler = MinMaxScaler()\n",
    "X_train = scaler.fit_transform(X_train)\n",
    "X_val = scaler.transform(X_val)"
   ]
  },
  {
   "cell_type": "code",
   "execution_count": 6,
   "metadata": {},
   "outputs": [
    {
     "data": {
      "text/plain": [
       "MultinomialNB(alpha=0.01, class_prior=None, fit_prior=True)"
      ]
     },
     "execution_count": 6,
     "metadata": {},
     "output_type": "execute_result"
    }
   ],
   "source": [
    "\n",
    "from sklearn.naive_bayes import MultinomialNB\n",
    "model = MultinomialNB(alpha=0.01)\n",
    "model.fit(X_train, y_train)\n"
   ]
  },
  {
   "cell_type": "code",
   "execution_count": 7,
   "metadata": {},
   "outputs": [],
   "source": [
    "Test = pd.read_csv('test_data_19.csv')\n",
    "\n",
    "X_test = scaler.transform(Test.iloc[:,1:])\n",
    "#pred = clf.predict(X_test)\n",
    "\n",
    "probas = model.predict_proba(X_test)"
   ]
  },
  {
   "cell_type": "code",
   "execution_count": 8,
   "metadata": {},
   "outputs": [
    {
     "name": "stdout",
     "output_type": "stream",
     "text": [
      "['DUT-12', 'ZIF-9', 'ZIF-7', 'ZIF-67', 'ZIF-8', 'NUMMOX', 'ZIF-11', 'ZIF-12', 'ZIF-71', 'JARMEU', 'JARMEU10']\n",
      "['ZIF-9', 'NUMMOX', 'ZIF-7', 'DUT-12', 'ZIF-67', 'ZIF-8', 'ZIF-71', 'ZIF-12', 'ZIF-11', 'JARMEU', 'JARMEU10']\n",
      "['DUT-12', 'ZIF-7', 'NUMMOX', 'ZIF-9', 'ZIF-8', 'ZIF-67', 'ZIF-11', 'ZIF-12', 'ZIF-71', 'JARMEU10', 'JARMEU']\n",
      "['ZIF-68', 'ZIF-70', 'DUT-23', 'ZIF-7', 'JARMEU', 'JARMEU10', 'AFEHUO', 'ZIF-9', 'ZIF-71', 'DUT-10', 'DUT-12']\n",
      "['ZIF-70', 'QEFNAQ', 'DUT-23', 'ZIF-7', 'JARMEU10', 'JARMEU', 'DUT-10', 'ZIF-9', 'AFEHUO', 'ZIF-71', 'DUT-12']\n",
      "['ZIF-70', 'QEFNAQ', 'DUT-23', 'JARMEU10', 'JARMEU', 'ZIF-7', 'DUT-10', 'AFEHUO', 'ZIF-9', 'ZIF-71', 'DUT-12']\n",
      "['ZIF-7', 'MOF-5', 'ZIF-9', 'ZIF-67', 'AFIXAO', 'AFIXES', 'PIZJEN', 'ZIF-8', 'DUT-23', 'ZIF-65', 'ZIF-90']\n",
      "['CIDNIM', 'ZIF-9', 'MOF-5', 'AFIXAO', 'ZIF-67', 'AFIXES', 'PIZJEN', 'ZIF-8', 'DUT-23', 'ZIF-65', 'ZIF-90']\n",
      "['ZIF-81', 'ZIF-3', 'MOF-5', 'CIDNIM', 'AFIXES', 'ZIF-67', 'ZIF-8', 'PIZJEN', 'DUT-23', 'ZIF-65', 'ZIF-90']\n",
      "['CIDNIM', 'ZIF-9', 'MOF-5', 'AFIXAO', 'ZIF-67', 'AFIXES', 'PIZJEN', 'ZIF-8', 'DUT-23', 'ZIF-65', 'ZIF-90']\n",
      "['ZIF-3', 'ZIF-67', 'CIDNIM', 'ZIF-8', 'MOF-5', 'AFIXAO', 'AFIXES', 'DUT-23', 'PIZJEN', 'ZIF-65', 'ZIF-90']\n",
      "['ZIF-3', 'ZIF-9', 'MOF-5', 'ZIF-67', 'AFIXAO', 'ZIF-8', 'AFIXES', 'PIZJEN', 'DUT-23', 'ZIF-65', 'ZIF-90']\n",
      "['ZIF-3', 'CIDNIM', 'ZIF-67', 'MOF-5', 'ZIF-8', 'AFIXAO', 'AFIXES', 'PIZJEN', 'DUT-23', 'ZIF-65', 'ZIF-90']\n",
      "['QEFNAQ', 'CIDNIM', 'ZIF-14', 'BIMDIL', 'ZIF-12', 'ZIF-71', 'AFEHUO', 'JARMEU', 'JARMEU10', 'ZIF-7', 'ZIF-9']\n",
      "['CIDNIM', 'BIMDIL', 'ZIF-14', 'ZIF-11', 'AFEHUO', 'ZIF-12', 'ZIF-71', 'JARMEU', 'JARMEU10', 'ZIF-9', 'ZIF-7']\n",
      "['PUTYEI', 'JARMEU10', 'JARMEU', 'ZIF-14', 'DUT-23', 'DUT-12', 'ZIF-3', 'ZIF-9', 'HUYKIV', 'QEFNAQ', 'AFEHUO']\n",
      "['TENQOS', 'ZIF-71', 'DUT-23', 'DUT-10', 'ZIF-9', 'ZIF-14', 'RAFRUL', 'DUT-12', 'RASGAT', 'QEFNAQ', 'AFEHUO']\n",
      "['ZIF-11', 'ZIF-9', 'JARMEU', 'JARMEU10', 'ZIF-12', 'QEFNAQ', 'DUT-23', 'ZIF-71', 'ZIF-14', 'DUT-12', 'AFEHUO']\n",
      "['ZIF-12', 'ZIF-71', 'DUT-10', 'DUT-23', 'ZIF-9', 'RAFRUL', 'RASGAT', 'ZIF-14', 'QEFNAQ', 'DUT-12', 'AFEHUO']\n"
     ]
    }
   ],
   "source": [
    "top_n_predictions = np.argsort(probas, axis = 1)[:,-11:]\n",
    "\n",
    "result = []\n",
    "for pre in top_n_predictions:\n",
    "    pre_list = []\n",
    "    for index in pre:\n",
    "        pre_list.append(mapping[index])\n",
    "    result.append(pre_list)\n",
    "\n",
    "    \n",
    "for plist in result:\n",
    "    print(plist)"
   ]
  },
  {
   "cell_type": "code",
   "execution_count": null,
   "metadata": {},
   "outputs": [],
   "source": []
  }
 ],
 "metadata": {
  "kernelspec": {
   "display_name": "Python 3",
   "language": "python",
   "name": "python3"
  },
  "language_info": {
   "codemirror_mode": {
    "name": "ipython",
    "version": 3
   },
   "file_extension": ".py",
   "mimetype": "text/x-python",
   "name": "python",
   "nbconvert_exporter": "python",
   "pygments_lexer": "ipython3",
   "version": "3.6.7"
  }
 },
 "nbformat": 4,
 "nbformat_minor": 2
}
