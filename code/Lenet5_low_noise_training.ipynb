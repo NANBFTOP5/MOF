{
 "cells": [
  {
   "cell_type": "code",
   "execution_count": 1,
   "metadata": {},
   "outputs": [
    {
     "name": "stdout",
     "output_type": "stream",
     "text": [
      "Found GPU at: /device:GPU:0\n"
     ]
    },
    {
     "name": "stderr",
     "output_type": "stream",
     "text": [
      "Using TensorFlow backend.\n"
     ]
    }
   ],
   "source": [
    "import tensorflow as tf\n",
    "device_name = tf.test.gpu_device_name()\n",
    "if device_name != '/device:GPU:0':\n",
    "  raise SystemError('GPU device not found')\n",
    "print('Found GPU at: {}'.format(device_name))\n",
    "\n",
    "import tensorflow as tf\n",
    "import numpy as np # linear algebra\n",
    "import pandas as pd # data processing, CSV file I/O (e.g. pd.read_csv)\n",
    "import pickle\n",
    "import keras\n",
    "import random\n",
    "from keras.models import Sequential\n",
    "from keras.layers.core import Dense, Activation, Dropout\n",
    "from keras.preprocessing.sequence import pad_sequences\n",
    "from keras.layers import Dense, Input, LSTM, Embedding, Dropout, Activation, CuDNNGRU, Conv1D, CuDNNLSTM, Flatten\n",
    "from keras.layers import AveragePooling1D, MaxPooling1D, Bidirectional, GlobalMaxPool1D, Concatenate, GlobalAveragePooling1D, GlobalMaxPooling1D,concatenate\n",
    "from keras.layers import SpatialDropout1D\n",
    "from keras.models import Sequential\n",
    "from keras.callbacks import Callback\n",
    "from sklearn.preprocessing import StandardScaler, MinMaxScaler\n",
    "\n",
    "import os\n",
    "from math import floor\n",
    "import warnings\n",
    "from keras import backend as K\n",
    "warnings.filterwarnings('ignore')\n",
    "\n",
    "config = tf.ConfigProto()\n",
    "config.gpu_options.allow_growth = True\n",
    "sess = tf.Session(config=config)\n",
    "\n",
    "os.environ['PYTHONHASHSEED'] = '0'\n",
    "np.random.seed(42)\n",
    "random.seed(12345)\n"
   ]
  },
  {
   "cell_type": "code",
   "execution_count": 2,
   "metadata": {},
   "outputs": [],
   "source": [
    "# If you want to train the model by yourself\n",
    "\n",
    "# train data\n",
    "with open('new_data_filter0.pickle', 'rb') as f:\n",
    "    Data = pickle.load(f)\n",
    "    Data = pd.DataFrame(Data)\n",
    "\n",
    "numtrain = 186 * 6 * 12\n",
    "numval = 2678\n",
    "\n",
    "# Train validation split\n",
    "idx = random.sample(range(numtrain), numval) # 80% for training\n",
    "all_index = list(np.setdiff1d(range(numtrain), idx))\n",
    "\n",
    "# Getting X_train, X_val, y_train and scale them\n",
    "\n",
    "X_train = Data.iloc[all_index,:].drop(2251, axis = 1)\n",
    "X_val = Data.iloc[idx,:].drop(2251, axis = 1)\n",
    "y_train = pd.get_dummies(Data.iloc[all_index,:][2251])\n",
    "\n",
    "names = y_train.columns\n",
    "mapping = {}\n",
    "i = 0\n",
    "for n in names:\n",
    "    mapping[i] = n\n",
    "    i+=1\n",
    "\n",
    "scaler = MinMaxScaler()\n",
    "X_train = scaler.fit_transform(X_train)\n",
    "X_val = scaler.transform(X_val)"
   ]
  },
  {
   "cell_type": "code",
   "execution_count": 48,
   "metadata": {},
   "outputs": [
    {
     "data": {
      "text/plain": [
       "(10714, 2251)"
      ]
     },
     "execution_count": 48,
     "metadata": {},
     "output_type": "execute_result"
    }
   ],
   "source": [
    "X_train.shape"
   ]
  },
  {
   "cell_type": "code",
   "execution_count": 73,
   "metadata": {},
   "outputs": [],
   "source": [
    "# Construct CNN layers\n",
    "# more para-LeNet-5\n",
    "cnn_model = Sequential()\n",
    "cnn_model.add(Conv1D(6, 5, strides = 1, activation = 'relu', input_shape = (2251, 1)))\n",
    "cnn_model.add(MaxPooling1D(2, strides = 2))\n",
    "cnn_model.add(Dropout(0.2))\n",
    "\n",
    "cnn_model.add(Conv1D(16, 5, strides = 1, activation = 'relu'))\n",
    "cnn_model.add(Conv1D(16, 5, strides = 1, activation = 'relu'))\n",
    "cnn_model.add(MaxPooling1D(2, strides = 2))\n",
    "cnn_model.add(Dropout(0.2))\n",
    "\n",
    "cnn_model.add(Conv1D(32, 5, strides = 1, activation = 'relu'))\n",
    "cnn_model.add(Conv1D(32, 5, strides = 1, activation = 'relu'))\n",
    "cnn_model.add(MaxPooling1D(2, strides = 2))\n",
    "cnn_model.add(Dropout(0.2))\n",
    "\n",
    "cnn_model.add(Conv1D(64, 5, strides = 1, activation = 'relu'))\n",
    "cnn_model.add(Conv1D(64, 5, strides = 1, activation = 'relu'))\n",
    "# cnn_model.add(Conv1D(64, 5, strides = 1, activation = 'relu'))\n",
    "cnn_model.add(MaxPooling1D(2, strides = 2))\n",
    "cnn_model.add(Dropout(0.2))\n",
    "\n",
    "# cnn_model.add(Conv1D(128, 5, strides = 1, activation = 'relu'))\n",
    "# cnn_model.add(Conv1D(128, 5, strides = 1, activation = 'relu'))\n",
    "# cnn_model.add(MaxPooling1D(2, strides = 2))\n",
    "# cnn_model.add(Dropout(0.2))\n",
    "\n",
    "cnn_model.add(Flatten())\n",
    "cnn_model.add(Dense(120, activation = 'relu'))\n",
    "cnn_model.add(Dense(84, activation = 'relu'))\n",
    "cnn_model.add(Dense(186, activation = 'softmax', activity_regularizer = keras.regularizers.l2(0.1)))\n",
    "cnn_model.compile(loss='categorical_crossentropy', optimizer = 'adam', metrics = ['accuracy'])"
   ]
  },
  {
   "cell_type": "code",
   "execution_count": 74,
   "metadata": {},
   "outputs": [
    {
     "name": "stdout",
     "output_type": "stream",
     "text": [
      "_________________________________________________________________\n",
      "Layer (type)                 Output Shape              Param #   \n",
      "=================================================================\n",
      "conv1d_92 (Conv1D)           (None, 2247, 6)           36        \n",
      "_________________________________________________________________\n",
      "max_pooling1d_53 (MaxPooling (None, 1123, 6)           0         \n",
      "_________________________________________________________________\n",
      "dropout_53 (Dropout)         (None, 1123, 6)           0         \n",
      "_________________________________________________________________\n",
      "conv1d_93 (Conv1D)           (None, 1119, 16)          496       \n",
      "_________________________________________________________________\n",
      "conv1d_94 (Conv1D)           (None, 1115, 16)          1296      \n",
      "_________________________________________________________________\n",
      "max_pooling1d_54 (MaxPooling (None, 557, 16)           0         \n",
      "_________________________________________________________________\n",
      "dropout_54 (Dropout)         (None, 557, 16)           0         \n",
      "_________________________________________________________________\n",
      "conv1d_95 (Conv1D)           (None, 553, 32)           2592      \n",
      "_________________________________________________________________\n",
      "conv1d_96 (Conv1D)           (None, 549, 32)           5152      \n",
      "_________________________________________________________________\n",
      "max_pooling1d_55 (MaxPooling (None, 274, 32)           0         \n",
      "_________________________________________________________________\n",
      "dropout_55 (Dropout)         (None, 274, 32)           0         \n",
      "_________________________________________________________________\n",
      "conv1d_97 (Conv1D)           (None, 270, 64)           10304     \n",
      "_________________________________________________________________\n",
      "conv1d_98 (Conv1D)           (None, 266, 64)           20544     \n",
      "_________________________________________________________________\n",
      "max_pooling1d_56 (MaxPooling (None, 133, 64)           0         \n",
      "_________________________________________________________________\n",
      "dropout_56 (Dropout)         (None, 133, 64)           0         \n",
      "_________________________________________________________________\n",
      "flatten_14 (Flatten)         (None, 8512)              0         \n",
      "_________________________________________________________________\n",
      "dense_40 (Dense)             (None, 120)               1021560   \n",
      "_________________________________________________________________\n",
      "dense_41 (Dense)             (None, 84)                10164     \n",
      "_________________________________________________________________\n",
      "dense_42 (Dense)             (None, 186)               15810     \n",
      "=================================================================\n",
      "Total params: 1,087,954\n",
      "Trainable params: 1,087,954\n",
      "Non-trainable params: 0\n",
      "_________________________________________________________________\n"
     ]
    }
   ],
   "source": [
    "cnn_model.summary()"
   ]
  },
  {
   "cell_type": "code",
   "execution_count": 75,
   "metadata": {},
   "outputs": [
    {
     "name": "stdout",
     "output_type": "stream",
     "text": [
      "Epoch 1/54\n",
      "10714/10714 [==============================] - 3s 255us/step - loss: 4.2654 - acc: 0.3500\n",
      "Epoch 2/54\n",
      "10714/10714 [==============================] - 1s 121us/step - loss: 2.9392 - acc: 0.8593\n",
      "Epoch 3/54\n",
      "10714/10714 [==============================] - 1s 120us/step - loss: 2.8012 - acc: 0.9046\n",
      "Epoch 4/54\n",
      "10714/10714 [==============================] - 1s 121us/step - loss: 2.7550 - acc: 0.9227 0s - loss: 2.7613 - acc\n",
      "Epoch 5/54\n",
      "10714/10714 [==============================] - 1s 121us/step - loss: 2.7285 - acc: 0.9285 0s - loss: 2.7344 - acc: 0. - ETA: 0s - loss: 2.7323 - acc: 0.\n",
      "Epoch 6/54\n",
      "10714/10714 [==============================] - 1s 121us/step - loss: 2.7116 - acc: 0.9354\n",
      "Epoch 7/54\n",
      "10714/10714 [==============================] - 1s 121us/step - loss: 2.7092 - acc: 0.9377\n",
      "Epoch 8/54\n",
      "10714/10714 [==============================] - 1s 121us/step - loss: 2.6915 - acc: 0.9392 0s - loss: 2.6963 - acc\n",
      "Epoch 9/54\n",
      "10714/10714 [==============================] - 1s 121us/step - loss: 2.6851 - acc: 0.9446 0s - loss: 2.6875 - acc: 0\n",
      "Epoch 10/54\n",
      "10714/10714 [==============================] - 1s 121us/step - loss: 2.6820 - acc: 0.9446\n",
      "Epoch 11/54\n",
      "10714/10714 [==============================] - 1s 121us/step - loss: 2.6767 - acc: 0.9470\n",
      "Epoch 12/54\n",
      "10714/10714 [==============================] - 1s 121us/step - loss: 2.6744 - acc: 0.9511\n",
      "Epoch 13/54\n",
      "10714/10714 [==============================] - 1s 121us/step - loss: 2.6658 - acc: 0.9509\n",
      "Epoch 14/54\n",
      "10714/10714 [==============================] - 1s 121us/step - loss: 2.6621 - acc: 0.9520\n",
      "Epoch 15/54\n",
      "10714/10714 [==============================] - 1s 121us/step - loss: 2.6573 - acc: 0.9545\n",
      "Epoch 16/54\n",
      "10714/10714 [==============================] - 1s 121us/step - loss: 2.6575 - acc: 0.9560\n",
      "Epoch 17/54\n",
      "10714/10714 [==============================] - 1s 121us/step - loss: 2.6514 - acc: 0.9585\n",
      "Epoch 18/54\n",
      "10714/10714 [==============================] - 1s 121us/step - loss: 2.6540 - acc: 0.9567\n",
      "Epoch 19/54\n",
      "10714/10714 [==============================] - 1s 121us/step - loss: 2.6462 - acc: 0.9592\n",
      "Epoch 20/54\n",
      "10714/10714 [==============================] - 1s 121us/step - loss: 2.6486 - acc: 0.9598\n",
      "Epoch 21/54\n",
      "10714/10714 [==============================] - 1s 121us/step - loss: 2.6444 - acc: 0.9642 0s - loss: 2.6495 - acc\n",
      "Epoch 22/54\n",
      "10714/10714 [==============================] - 1s 121us/step - loss: 2.6442 - acc: 0.9615\n",
      "Epoch 23/54\n",
      "10714/10714 [==============================] - 1s 121us/step - loss: 2.6406 - acc: 0.9624\n",
      "Epoch 24/54\n",
      "10714/10714 [==============================] - 1s 121us/step - loss: 2.6414 - acc: 0.9664\n",
      "Epoch 25/54\n",
      "10714/10714 [==============================] - 1s 121us/step - loss: 2.6394 - acc: 0.9625\n",
      "Epoch 26/54\n",
      "10714/10714 [==============================] - 1s 122us/step - loss: 2.6381 - acc: 0.9609\n",
      "Epoch 27/54\n",
      "10714/10714 [==============================] - 1s 121us/step - loss: 2.6411 - acc: 0.9629\n",
      "Epoch 28/54\n",
      "10714/10714 [==============================] - 1s 121us/step - loss: 2.6355 - acc: 0.9676\n",
      "Epoch 29/54\n",
      "10714/10714 [==============================] - 1s 121us/step - loss: 2.6352 - acc: 0.9649 0s - loss: 2.6375 - a\n",
      "Epoch 30/54\n",
      "10714/10714 [==============================] - 1s 121us/step - loss: 2.6352 - acc: 0.9676\n",
      "Epoch 31/54\n",
      "10714/10714 [==============================] - 1s 122us/step - loss: 2.6325 - acc: 0.9680\n",
      "Epoch 32/54\n",
      "10714/10714 [==============================] - 1s 121us/step - loss: 2.6293 - acc: 0.9675\n",
      "Epoch 33/54\n",
      "10714/10714 [==============================] - 1s 121us/step - loss: 2.6292 - acc: 0.9717\n",
      "Epoch 34/54\n",
      "10714/10714 [==============================] - 1s 121us/step - loss: 2.6346 - acc: 0.9713\n",
      "Epoch 35/54\n",
      "10714/10714 [==============================] - 1s 121us/step - loss: 2.6301 - acc: 0.9718\n",
      "Epoch 36/54\n",
      "10714/10714 [==============================] - 1s 121us/step - loss: 2.6311 - acc: 0.9684\n",
      "Epoch 37/54\n",
      "10714/10714 [==============================] - 1s 121us/step - loss: 2.6303 - acc: 0.9703 0s - loss: 2.6353 -\n",
      "Epoch 38/54\n",
      "10714/10714 [==============================] - 1s 122us/step - loss: 2.6303 - acc: 0.9708\n",
      "Epoch 39/54\n",
      "10714/10714 [==============================] - 1s 122us/step - loss: 2.6255 - acc: 0.9734 0s - loss: 2.6276 - acc: 0.97\n",
      "Epoch 40/54\n",
      "10714/10714 [==============================] - 1s 121us/step - loss: 2.6238 - acc: 0.9716\n",
      "Epoch 41/54\n",
      "10714/10714 [==============================] - 1s 121us/step - loss: 2.6236 - acc: 0.9727\n",
      "Epoch 42/54\n",
      "10714/10714 [==============================] - 1s 121us/step - loss: 2.6257 - acc: 0.9721\n",
      "Epoch 43/54\n",
      "10714/10714 [==============================] - 1s 121us/step - loss: 2.6245 - acc: 0.9724 0s - loss: 2.6286 -\n",
      "Epoch 44/54\n",
      "10714/10714 [==============================] - 1s 121us/step - loss: 2.6212 - acc: 0.9728\n",
      "Epoch 45/54\n",
      "10714/10714 [==============================] - 1s 121us/step - loss: 2.6210 - acc: 0.9732\n",
      "Epoch 46/54\n",
      "10714/10714 [==============================] - 1s 121us/step - loss: 2.6203 - acc: 0.9773\n",
      "Epoch 47/54\n",
      "10714/10714 [==============================] - 1s 121us/step - loss: 2.6207 - acc: 0.9755 0s - loss: 2.6237 - acc: \n",
      "Epoch 48/54\n",
      "10714/10714 [==============================] - 1s 122us/step - loss: 2.6198 - acc: 0.9741\n",
      "Epoch 49/54\n",
      "10714/10714 [==============================] - 1s 121us/step - loss: 2.6181 - acc: 0.9739\n",
      "Epoch 50/54\n",
      "10714/10714 [==============================] - 1s 121us/step - loss: 2.6212 - acc: 0.9754\n",
      "Epoch 51/54\n",
      "10714/10714 [==============================] - 1s 122us/step - loss: 2.6186 - acc: 0.9765 0s - loss: 2.6223 - acc\n",
      "Epoch 52/54\n",
      "10714/10714 [==============================] - 1s 122us/step - loss: 2.6196 - acc: 0.9757\n",
      "Epoch 53/54\n",
      "10714/10714 [==============================] - 1s 122us/step - loss: 2.6205 - acc: 0.9772\n",
      "Epoch 54/54\n",
      "10714/10714 [==============================] - 1s 123us/step - loss: 2.6167 - acc: 0.9764 0s - loss: 2.6190 - acc\n",
      "Accuracy: 95.0%\n"
     ]
    }
   ],
   "source": [
    "# Fitting CNN model\n",
    "numrest = numtrain-numval\n",
    "cnn_model.fit(X_train.reshape(numrest, 2251, 1), y_train.values, batch_size = 256, epochs = 54, verbose = 1)\n",
    "\n",
    "# Validating the CNN modela\n",
    "pred = cnn_model.predict(X_val.reshape(numval, 2251, 1))\n",
    "out = [np.argmax(p) for p in pred]\n",
    "out = np.array(out)\n",
    "\n",
    "# Create category mapping dictionary\n",
    "y_val = Data.iloc[idx,:][2251]\n",
    "    \n",
    "# Calculating accuracy\n",
    "predicted = np.vectorize(mapping.get)(out)\n",
    "print('Accuracy: '+ str(round(np.sum(predicted == y_val)/numval,2) * 100) + '%')"
   ]
  },
  {
   "cell_type": "code",
   "execution_count": 78,
   "metadata": {},
   "outputs": [],
   "source": [
    "#Or you can load our best model\n",
    "\n",
    "from keras.models import load_model \n",
    "#cnn_model= load_model('best_all-top3-except-two-zif8-top4.h5')\n",
    "\n",
    "cnn_model= load_model('shallow_VGG_16.h5')\n",
    "\n",
    "# cnn_model= load_model('lenet_1319_1519.h5')\n"
   ]
  },
  {
   "cell_type": "code",
   "execution_count": 67,
   "metadata": {},
   "outputs": [],
   "source": [
    "# cnn_model.save(\"lenet_1119_1719_top3_1919.h5\")"
   ]
  },
  {
   "cell_type": "code",
   "execution_count": 79,
   "metadata": {
    "scrolled": true
   },
   "outputs": [
    {
     "name": "stdout",
     "output_type": "stream",
     "text": [
      "['NUMMOX', 'DUT-12', 'LAMGUB', 'KEXFIC10', 'QEFNAQ', 'HUYKUH', 'WABWAY', 'AFEHUO', 'JARMEU10', 'ZUYWAR']\n",
      "['IDIWOH04', 'JARMEU10', 'JARMEU', 'DUT-12', 'IDIWOH06', 'ZIF-67', 'HUYKIV', 'NUMMOX', 'ZUYWAR', 'ZIF-90']\n",
      "['NUMMOX', 'KEXFIC10', 'QEFNAQ', 'Eu', 'ZIF-8', 'ZIF-11', 'CIDNIM', 'WABWAY', 'WABVIF', 'BAHGUN']\n",
      "['MINVUA01', 'ZIF-7', 'JARMEU10', 'ZIF-9', 'DUT-12', 'FALLOT', 'JOSNAG', 'ZIF-73', 'TILWEQ', 'ZIF-71']\n",
      "['DUT-10', 'MINVUA01', 'ZIF-7', 'JARMEU10', 'ZIF-72', 'BIMDIL', 'JOKXAI', 'DUT-12', 'ZIF-5', 'F-MOF-11']\n",
      "['DUT-10', 'JARMEU10', 'MINVUA01', 'ZIF-7', 'SUDBOI', 'JOKXAI', 'TILWEQ', 'F-MOF-8', 'DEFKUU', 'OGOJOJ']\n",
      "['ZIF-90', 'IDIWIB', 'PIZJEN', 'IDIWOH04', 'BIMDIL', 'ITUVEZ', 'ZIF-12', 'EDIKEH', 'ZIF-8', 'PUTYEI']\n",
      "['ZIF-90', 'ZIF-65', 'IDIWOH04', 'AFIXES', 'AFIXAO', 'CIDNIM', 'WIWQUO', 'PIZJEN', 'BIMDIL', 'MOF-5']\n",
      "['IDIWIB', 'EDIKEH', 'AFIXES', 'IDIWOH04', 'ZIF-74', 'PUTYEI', 'MIHBAG', 'WIWQUO', 'QOPHEI', 'HODWUS']\n",
      "['ZIF-90', 'ZIF-65', 'AFIXES', 'IDIWOH04', 'AFIXAO', 'CIDNIM', 'MOF-5', 'PIZJEN', 'PUTYEI', 'BIMDIL']\n",
      "['ZIF-90', 'AFIXAO', 'BIMDIL', 'PIZJEN', 'AFIXES', 'XANXUF', 'ZIF-74', 'PUTYEI', 'ZIF-12', 'IDIWOH04']\n",
      "['ZIF-90', 'AFIXES', 'AFIXAO', 'ZIF-65', 'PUTYEI', 'PIZJEN', 'BIMDIL', 'ZIF-74', 'CIDNIM', 'IDIWOH04']\n",
      "['ZIF-90', 'AFIXAO', 'AFIXES', 'PIZJEN', 'BIMDIL', 'WIWQOI', 'IDIWOH04', 'MOF-5', 'PUTYEI', 'BIMDEF']\n",
      "['IDIWOH07', 'ZUTBAR02', 'ZIF-74', 'JOKXUC10', 'JOKXAI', 'BAHGUN02', 'JOKYIR', 'MIMVEJ', 'ZIF-73', 'MAXFIA']\n",
      "['IDIWOH07', 'JOKYAJ10', 'ZUTBAR02', 'MIMVEJ', 'ZIF-74', 'ZIF-73', 'JOKXUC10', 'Eu', 'OGOJOJ', 'IDIWOH04']\n",
      "['QIJLAW', 'ZIF-67', 'BAHGUN02', 'QEFNAQ', 'JOKYAJ10', 'ZIF-7', 'HIXDOH01', 'BIMDEF', 'HEGCEB', 'TILWEQ']\n",
      "['DUT-12', 'AFEHUO', 'RAFRUL', 'TILVOZ', 'IDIWOH04', 'LAMFEK', 'PUTYAE', 'LATCIS', 'IDIWOH01', 'MIMVEJ']\n",
      "['DUT-12', 'LORNEL', 'TILVOZ', 'HODWUS', 'HEGCEB', 'HIXDOH01', 'DUT-10', 'ZIF-7', 'ZIF-5', 'JOKXAI']\n",
      "['MIMVEJ', 'IDIWOH06', 'HODWUS', 'LATCEO', 'DUT-12', 'TILWEQ', 'TILVOZ', 'ZIF-74', 'ZIF-7', 'ENCDBZ01']\n"
     ]
    }
   ],
   "source": [
    "Test = pd.read_csv('test_data_19.csv')\n",
    "\n",
    "X_test = scaler.transform(Test.iloc[:,1:])\n",
    "pred = cnn_model.predict(X_test.reshape(19, 2251, 1))\n",
    "out = [np.argmax(p) for p in pred]\n",
    "out = np.array(out)\n",
    "predicted = np.vectorize(mapping.get)(out)\n",
    "\n",
    "preds = []\n",
    "for p in pred:\n",
    "  P = []\n",
    "  for i in np.argsort(p)[::-1][0:10]:\n",
    "    P.append(mapping[i])\n",
    "  preds.append(P)\n",
    "\n",
    "for p in preds:\n",
    "  print(p)"
   ]
  },
  {
   "cell_type": "code",
   "execution_count": 77,
   "metadata": {},
   "outputs": [
    {
     "name": "stdout",
     "output_type": "stream",
     "text": [
      "['ZIF-74', 'QEFNAQ', 'TENQOS', 'QAYTOZ', 'QOPHEI', 'XAYMUF', 'XOTHAP', 'QIJLAW', 'WABVOL', 'ENCUCC10']\n",
      "['AFEHUO', 'QEFNAQ', 'ZIF-9', 'IDIWOH05', 'RASGAT', 'QAYTOZ', 'IDIWOH06', 'ZIF-73', 'KUSZED', 'TILVOZ']\n",
      "['QIJLAW', 'ZIF-9', 'IDIWOH03', 'ZIF-74', 'QAYTOZ', 'QEFNAQ', 'RASGAT', 'IDIWOH07', 'KUSZED', 'ZIF-7']\n",
      "['QEFNAQ', 'IDIWOH07', 'AFEHUO', 'ZIF-9', 'ZIF-7', 'KUSZED', 'IDIWOH01', 'RASGAT', 'ZIF-73', 'QAYTOZ']\n"
     ]
    }
   ],
   "source": [
    "Test = np.load('4_zif9_200.npy')\n",
    "Test = pd.DataFrame(Test)\n",
    "Test = Test.iloc[:,:2251]\n",
    "X_test = scaler.transform(Test)\n",
    "pred = cnn_model.predict(X_test.reshape(4, 2251, 1))\n",
    "out = [np.argmax(p) for p in pred]\n",
    "out = np.array(out)\n",
    "predicted = np.vectorize(mapping.get)(out)\n",
    "\n",
    "preds = []\n",
    "for p in pred:\n",
    "  P = []\n",
    "  for i in np.argsort(p)[::-1][0:10]:\n",
    "    P.append(mapping[i])\n",
    "  preds.append(P)\n",
    "\n",
    "for p in preds:\n",
    "  print(p)"
   ]
  },
  {
   "cell_type": "code",
   "execution_count": 81,
   "metadata": {},
   "outputs": [],
   "source": [
    "#cnn_model.save(\".h5\")"
   ]
  },
  {
   "cell_type": "code",
   "execution_count": 71,
   "metadata": {},
   "outputs": [
    {
     "name": "stdout",
     "output_type": "stream",
     "text": [
      "     0  ZIF-67\n",
      "0    1  ZIF-67\n",
      "1    2  ZIF-67\n",
      "2    5  ZIF-71\n",
      "3    6  ZIF-71\n",
      "4    7  ZIF-71\n",
      "5    8   ZIF-8\n",
      "6    9   ZIF-8\n",
      "7   10   ZIF-8\n",
      "8   11   ZIF-8\n",
      "9   16  ZIF-90\n",
      "10  17  ZIF-90\n",
      "11  18  ZIF-90\n",
      "12   3   ZIF-7\n",
      "13   4   ZIF-7\n",
      "14  12   ZIF-9\n",
      "15  13   ZIF-9\n",
      "16  14   ZIF-9\n",
      "17  15   ZIF-9\n"
     ]
    }
   ],
   "source": [
    "print(pd.read_csv('label_19.csv'))\n"
   ]
  },
  {
   "cell_type": "code",
   "execution_count": 68,
   "metadata": {},
   "outputs": [
    {
     "name": "stdout",
     "output_type": "stream",
     "text": [
      "['JARMEU10', 'JARMEU', 'ZIF-67', 'QAMXIL', 'DUT-12', 'ZIF-71', 'JOKXEM', 'UHAXUW', 'MINVUA', 'LAMFEK']\n",
      "['ZIF-67', 'JARMEU10', 'JARMEU', 'DUT-12', 'DUT-10', 'QAMXIL', 'LAMFEK', 'QALWUV', 'ZIF-71', 'NUMMOX']\n",
      "['JARMEU10', 'ZIF-67', 'JARMEU', 'HUYKIV', 'UHAXUW', 'DUT-12', 'ZIF-71', 'REGJIW02', 'WABVOL', 'JOKXEM']\n",
      "['DUT-10', 'ZIF-71', 'ZIF-9', 'ZIF-75', 'ZIF-12', 'AFEHUO', 'MIL-101', 'ZIF-72', 'JOKYEN', 'YARYEV']\n",
      "['DUT-10', 'ZIF-71', 'ZIF-9', 'ZIF-75', 'ZIF-12', 'AFEHUO', 'ZIF-72', 'JOKYEN', 'REGJIW02', 'MIL-101']\n",
      "['ZIF-71', 'DUT-10', 'ZIF-9', 'ZIF-75', 'ZIF-72', 'AFEHUO', 'MIL-101', 'ZIF-12', 'JOKYEN', 'QEFNAQ']\n",
      "['ZIF-90', 'ZIF-8', 'ZIF-67', 'JOKXEM', 'AFIXES', 'PIZJEN', 'IDIWOH', 'VOCQAF', 'JOKYAJ10', 'JOKXEM10']\n",
      "['ZIF-90', 'ZIF-8', 'ZIF-67', 'PIZJEN', 'JOKXEM', 'AFIXES', 'JOKYAJ10', 'IDIWIB', 'VOCQAF', 'RASGAT']\n",
      "['ZIF-67', 'ZIF-8', 'ZIF-90', 'JOKXEM', 'AFIXES', 'MIMVEJ', 'QOJTUE', 'PIZJEN', 'ZIF-81', 'PUTYEI']\n",
      "['ZIF-90', 'ZIF-8', 'ZIF-67', 'JOKXEM', 'MOF-5', 'IDIWOH', 'VOCQAF', 'ZIF-65', 'PIZJEN', 'JOKXEM10']\n",
      "['ZIF-90', 'ZIF-65', 'ZIF-8', 'JOKXEM', 'IDIWOH01', 'MOF-5', 'ZIF-67', 'MIMVEJ', 'JOKYEN10', 'WABWAY']\n",
      "['ZIF-90', 'ZIF-67', 'ZIF-65', 'ZIF-8', 'JOKXEM', 'MOF-5', 'DUT-12', 'ZUTBAR02', 'IDIWOH01', 'JOKYEN10']\n",
      "['ZIF-90', 'ZIF-8', 'IDIWOH01', 'JOKXEM', 'JOKXEM10', 'MOF-5', 'ZIF-69', 'AFIXES', 'MIMVEJ', 'ZIF-65']\n"
     ]
    }
   ],
   "source": [
    "Test = pd.read_csv('test_data_14afterFFT.csv')\n",
    "\n",
    "X_test = scaler.transform(Test.iloc[:,1:])\n",
    "pred = cnn_model.predict(X_test.reshape(13, 2251, 1))\n",
    "out = [np.argmax(p) for p in pred]\n",
    "out = np.array(out)\n",
    "predicted = np.vectorize(mapping.get)(out)\n",
    "\n",
    "preds = []\n",
    "for p in pred:\n",
    "  P = []\n",
    "  for i in np.argsort(p)[::-1][0:10]:\n",
    "    P.append(mapping[i])\n",
    "  preds.append(P)\n",
    "\n",
    "for p in preds:\n",
    "  print(p)"
   ]
  },
  {
   "cell_type": "code",
   "execution_count": 36,
   "metadata": {},
   "outputs": [
    {
     "data": {
      "text/plain": [
       "1.6431448714773906"
      ]
     },
     "execution_count": 36,
     "metadata": {},
     "output_type": "execute_result"
    }
   ],
   "source": [
    "max(X_test[0])"
   ]
  },
  {
   "cell_type": "code",
   "execution_count": 26,
   "metadata": {},
   "outputs": [
    {
     "data": {
      "text/plain": [
       "2.54536888654884"
      ]
     },
     "execution_count": 26,
     "metadata": {},
     "output_type": "execute_result"
    }
   ],
   "source": [
    "max(X_test[0])"
   ]
  },
  {
   "cell_type": "code",
   "execution_count": null,
   "metadata": {},
   "outputs": [],
   "source": [
    "with open('T_origin19.pickle', 'rb') as f:\n",
    "    Data19 = pickle.load(f)\n",
    "    Data19 = pd.DataFrame(Data19)\n"
   ]
  },
  {
   "cell_type": "code",
   "execution_count": 20,
   "metadata": {},
   "outputs": [
    {
     "name": "stdout",
     "output_type": "stream",
     "text": [
      "['MOF-5', 'ZIF-7', 'ZUYWAR', 'JOKXUC', 'JOKYOX']\n",
      "['MOF-5', 'AFIXES', 'JOKXUC', 'JOKYOX10', 'JOKYOX']\n",
      "['MOF-5', 'JOKXUC', 'JOKYOX10', 'JOKYOX', 'JOKYIR10']\n",
      "['ZIF-7', 'ZUYWAR', 'JOSNAG', 'JOKYOX', 'JOKYIR10']\n",
      "['ZIF-7', 'ZUYWAR', 'JOSNAG', 'JOKYOX', 'JOKYIR10']\n",
      "['ZIF-12', 'ZUYWAR', 'JOKXOW10', 'JOKYIR10', 'JOKYIR']\n",
      "['ZIF-12', 'ZUYWAR', 'JOKXOW10', 'JOKYIR10', 'JOKYIR']\n",
      "['ZIF-12', 'ZUYWAR', 'JOKXOW10', 'JOKYIR10', 'JOKYIR']\n",
      "['ZIF-90', 'ZUYWAR', 'JOKXOW10', 'JOKYOX', 'JOKYIR10']\n",
      "['ZIF-90', 'ZUYWAR', 'JOKXOW10', 'JOKYOX', 'JOKYIR10']\n",
      "['ZIF-90', 'ZUYWAR', 'JOKXOW10', 'JOKYOX', 'JOKYIR10']\n",
      "['ZIF-90', 'ZUYWAR', 'JOKXOW10', 'JOKYOX', 'JOKYIR10']\n",
      "['ZIF-7', 'ZUYWAR', 'JOSNAG', 'JOKYOX', 'JOKYIR10']\n",
      "['ZIF-7', 'ZUYWAR', 'JOSNAG', 'JOKYOX', 'JOKYIR10']\n",
      "['ZIF-6', 'ZUYWAR', 'JOKXOW10', 'JOKYOX', 'JOKYIR10']\n",
      "['ZIF-7', 'ZUYWAR', 'JOSNAG', 'JOKYOX', 'JOKYIR10']\n",
      "['ZIF-90', 'ZUYWAR', 'JOKXOW10', 'JOKYOX', 'JOKYIR10']\n",
      "['ZIF-90', 'ZUYWAR', 'JOKXOW10', 'JOKYOX', 'JOKYIR10']\n",
      "['ZIF-90', 'ZUYWAR', 'JOKXOW10', 'JOKYOX', 'JOKYIR10']\n"
     ]
    }
   ],
   "source": [
    "with open('T_origin19.pickle', 'rb') as f:\n",
    "    Data19 = pickle.load(f)\n",
    "    Data19 = pd.DataFrame(Data19)\n",
    "\n",
    "Test = pd.DataFrame(Data19)\n",
    "Test = Test.iloc[:,:2251]\n",
    "X_test = scaler.transform(Test)\n",
    "pred = cnn_model.predict(X_test.reshape(19, 2251, 1))\n",
    "out = [np.argmax(p) for p in pred]\n",
    "out = np.array(out)\n",
    "predicted = np.vectorize(mapping.get)(out)\n",
    "\n",
    "preds = []\n",
    "for p in pred:\n",
    "  P = []\n",
    "  for i in np.argsort(p)[::-1][0:5]:\n",
    "    P.append(mapping[i])\n",
    "  preds.append(P)\n",
    "\n",
    "for p in preds:\n",
    "  print(p)"
   ]
  },
  {
   "cell_type": "code",
   "execution_count": 18,
   "metadata": {},
   "outputs": [
    {
     "name": "stdout",
     "output_type": "stream",
     "text": [
      "14119.101239181944\n",
      "18068.654744826214\n"
     ]
    }
   ],
   "source": [
    "print(max(X_test[0]))\n",
    "print(max(X_test[1]))"
   ]
  },
  {
   "cell_type": "code",
   "execution_count": 24,
   "metadata": {},
   "outputs": [],
   "source": [
    "#cnn_model.save(\"low_noise_zif9inTop5.h5\")"
   ]
  },
  {
   "cell_type": "code",
   "execution_count": null,
   "metadata": {},
   "outputs": [],
   "source": []
  }
 ],
 "metadata": {
  "kernelspec": {
   "display_name": "Python 3",
   "language": "python",
   "name": "python3"
  },
  "language_info": {
   "codemirror_mode": {
    "name": "ipython",
    "version": 3
   },
   "file_extension": ".py",
   "mimetype": "text/x-python",
   "name": "python",
   "nbconvert_exporter": "python",
   "pygments_lexer": "ipython3",
   "version": "3.6.7"
  }
 },
 "nbformat": 4,
 "nbformat_minor": 2
}
