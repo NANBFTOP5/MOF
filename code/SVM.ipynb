{
 "cells": [
  {
   "cell_type": "code",
   "execution_count": 1,
   "metadata": {},
   "outputs": [],
   "source": [
    "import numpy as np # linear algebra\n",
    "import pandas as pd # data processing, CSV file I/O (e.g. pd.read_csv)\n",
    "import pickle\n",
    "#import keras\n",
    "\n",
    "from sklearn import svm\n",
    "import random\n",
    "import os\n",
    "from math import floor\n",
    "import warnings\n",
    "\n",
    "from sklearn.preprocessing import StandardScaler, MinMaxScaler\n"
   ]
  },
  {
   "cell_type": "code",
   "execution_count": 2,
   "metadata": {},
   "outputs": [],
   "source": [
    "# If you want to train the model by yourself\n",
    "\n",
    "# train data\n",
    "with open('new_data_filter0.pickle', 'rb') as f:\n",
    "    Data = pickle.load(f)\n",
    "    Data = pd.DataFrame(Data)\n",
    "\n",
    "numtrain = 186 * 6 * 12\n",
    "numval = 2678\n",
    "\n",
    "\n",
    "# Train validation split\n",
    "idx = random.sample(range(numtrain), numval) # 80% for training\n",
    "all_index = list(np.setdiff1d(range(numtrain), idx))\n",
    "\n",
    "# Getting X_train, X_val, y_train and scale them\n",
    "\n",
    "X_train = Data.iloc[all_index,:].drop(2251, axis = 1)\n",
    "X_val = Data.iloc[idx,:].drop(2251, axis = 1)\n",
    "y_train = pd.get_dummies(Data.iloc[all_index,:][2251])\n",
    "#print(y_train)\n",
    "\n",
    "names = y_train.columns\n",
    "mapping = {}\n",
    "i = 0\n",
    "for n in names:\n",
    "    mapping[i] = n\n",
    "    i+=1\n",
    "#print(mapping)\n",
    "\n",
    "y_train = Data.iloc[all_index,:][2251]\n",
    "\n",
    "scaler = MinMaxScaler()\n",
    "X_train = scaler.fit_transform(X_train)\n",
    "X_val = scaler.transform(X_val)"
   ]
  },
  {
   "cell_type": "code",
   "execution_count": 9,
   "metadata": {},
   "outputs": [
    {
     "name": "stderr",
     "output_type": "stream",
     "text": [
      "C:\\Users\\Hong\\Anaconda3\\envs\\py36-tensorflow\\lib\\site-packages\\sklearn\\svm\\base.py:196: FutureWarning: The default value of gamma will change from 'auto' to 'scale' in version 0.22 to account better for unscaled features. Set gamma explicitly to 'auto' or 'scale' to avoid this warning.\n",
      "  \"avoid this warning.\", FutureWarning)\n"
     ]
    },
    {
     "data": {
      "text/plain": [
       "SVC(C=1.0, cache_size=200, class_weight=None, coef0=0.0,\n",
       "  decision_function_shape='ovr', degree=3, gamma='auto_deprecated',\n",
       "  kernel='rbf', max_iter=-1, probability=True, random_state=None,\n",
       "  shrinking=True, tol=0.001, verbose=False)"
      ]
     },
     "execution_count": 9,
     "metadata": {},
     "output_type": "execute_result"
    }
   ],
   "source": [
    "clf = svm.SVC(probability=True)  # class \n",
    "clf.fit(X_train, y_train)  # training the svc model"
   ]
  },
  {
   "cell_type": "code",
   "execution_count": 59,
   "metadata": {},
   "outputs": [],
   "source": [
    "Test = pd.read_csv('test_data_19.csv')\n",
    "\n",
    "X_test = scaler.transform(Test.iloc[:,1:])\n",
    "#pred = clf.predict(X_test)\n",
    "\n",
    "probas = clf.predict_proba(X_test)"
   ]
  },
  {
   "cell_type": "markdown",
   "metadata": {},
   "source": [
    "# 注意最右边是top1，最左边是老末。\n",
    "后面有验证代码，可查阅！"
   ]
  },
  {
   "cell_type": "code",
   "execution_count": 60,
   "metadata": {},
   "outputs": [
    {
     "name": "stdout",
     "output_type": "stream",
     "text": [
      "['IDIWOH05', 'IDIWOH07', 'IDIWOH06', 'ZIF-9', 'ZIF-90', 'ZIF-67', 'ZIF-8', 'ZIF-12', 'ZIF-11', 'ZIF-71', 'JARMEU', 'JARMEU10']\n",
      "['IDIWOH06', 'IDIWOH07', 'IDIWOH04', 'ZIF-9', 'ZIF-90', 'ZIF-67', 'ZIF-8', 'ZIF-12', 'ZIF-11', 'ZIF-71', 'JARMEU', 'JARMEU10']\n",
      "['AFEHUO', 'HUYKIV', 'IDIWOH06', 'ZIF-9', 'ZIF-90', 'ZIF-67', 'ZIF-8', 'ZIF-12', 'ZIF-11', 'ZIF-71', 'JARMEU', 'JARMEU10']\n",
      "['DUT-7', 'JARMEU', 'ZIF-7', 'ZIF-70', 'AFEHUO', 'QEFNAQ', 'DUT-12', 'ZIF-9', 'JARMEU10', 'ZIF-71', 'ZIF-10', 'DUT-10']\n",
      "['ZIF-12', 'DUT-23', 'ZIF-70', 'AFEHUO', 'ZIF-7', 'DUT-10', 'JARMEU', 'DUT-12', 'QEFNAQ', 'ZIF-9', 'JARMEU10', 'ZIF-71']\n",
      "['ZIF-12', 'DUT-23', 'ZIF-70', 'AFEHUO', 'ZIF-7', 'JARMEU', 'QEFNAQ', 'DUT-12', 'DUT-10', 'ZIF-9', 'JARMEU10', 'ZIF-71']\n",
      "['IDIWOH03', 'IDIWOH05', 'IDIWOH07', 'AFIXES', 'ZIF-3', 'DUT-23', 'ZIF-67', 'MOF-5', 'ZIF-8', 'ZIF-65', 'ZIF-90', 'PIZJEN']\n",
      "['IDIWOH05', 'JARMEU', 'JARMEU10', 'AFIXES', 'ZIF-3', 'DUT-23', 'ZIF-67', 'ZIF-8', 'MOF-5', 'ZIF-65', 'ZIF-90', 'PIZJEN']\n",
      "['ZIF-71', 'ZIF-81', 'ZIF-3', 'AFIXES', 'ZIF-8', 'ZIF-65', 'DUT-23', 'ZIF-67', 'MOF-5', 'ZIF-90', 'AFIXAO', 'PIZJEN']\n",
      "['IDIWOH05', 'JARMEU', 'JARMEU10', 'AFIXES', 'ZIF-3', 'DUT-23', 'ZIF-67', 'ZIF-8', 'ZIF-65', 'MOF-5', 'ZIF-90', 'PIZJEN']\n",
      "['IDIWOH03', 'IDIWOH05', 'IDIWOH07', 'AFIXES', 'ZIF-3', 'ZIF-67', 'ZIF-8', 'ZIF-65', 'DUT-23', 'MOF-5', 'ZIF-90', 'PIZJEN']\n",
      "['IDIWOH07', 'JARMEU', 'IDIWOH05', 'AFIXES', 'ZIF-3', 'ZIF-67', 'DUT-23', 'ZIF-8', 'MOF-5', 'ZIF-65', 'ZIF-90', 'PIZJEN']\n",
      "['IDIWOH07', 'IDIWOH05', 'AFIXAO', 'AFIXES', 'ZIF-3', 'ZIF-67', 'ZIF-8', 'DUT-23', 'ZIF-65', 'MOF-5', 'ZIF-90', 'PIZJEN']\n",
      "['DEHFUR', 'ZIF-77', 'LAMFEK', 'ENCDBZ01', 'JEJFAF', 'ZIF-7', 'ENCUCC10', 'XAYMUF', 'LAMGUB', 'YARYEV', 'HEGCEB', 'LATCEO']\n",
      "['ZIF-9', 'DEHFUR', 'XAYMUF', 'ZIF-73', 'ENCUCC10', 'QALWUV', 'YARYEV', 'KEXFIC10', 'LAMGUB', 'LATCEO', 'HEGCEB', 'ZIF-7']\n",
      "['TILWEQ', 'Eu', 'EDIKEH', 'YARYEV', 'ZIF-2', 'ZIF-75', 'JEJFAF', 'ZIF-74', 'RASGAT', 'ZIF-77', 'QOPHEI', 'QEFNAQ']\n",
      "['DUT-10', 'DUT-12', 'JARMEU', 'DUT-23', 'ZIF-14', 'IDIWOH06', 'ZIF-71', 'JARMEU10', 'AFEHUO', 'RAFRUL', 'QEFNAQ', 'RASGAT']\n",
      "['ZIF-9', 'JOSNAG01', 'DUT-10', 'AFEHUO', 'ZIF-74', 'TENQOS', 'ZIF-12', 'TILWEQ', 'RAFRUL', 'ZIF-77', 'RASGAT', 'QEFNAQ']\n",
      "['ZIF-9', 'ZIF-12', 'IDIWOH06', 'DUT-23', 'JARMEU10', 'ZIF-14', 'DUT-12', 'AFEHUO', 'ZIF-71', 'RAFRUL', 'QEFNAQ', 'RASGAT']\n"
     ]
    }
   ],
   "source": [
    "top_n_predictions = np.argsort(probas, axis = 1)[:,-12:]\n",
    "\n",
    "result = []\n",
    "for pre in top_n_predictions:\n",
    "    pre_list = []\n",
    "    for index in pre:\n",
    "        pre_list.append(mapping[index])\n",
    "    result.append(pre_list)\n",
    "\n",
    "    \n",
    "for plist in result:\n",
    "    print(plist)"
   ]
  },
  {
   "cell_type": "code",
   "execution_count": 57,
   "metadata": {},
   "outputs": [
    {
     "name": "stdout",
     "output_type": "stream",
     "text": [
      "[ 50  49 171 154 155]\n",
      "[0.06499332 0.02786812 0.02467033 0.02356461 0.02231122]\n"
     ]
    }
   ],
   "source": [
    "test_index1 = np.argsort(probas[0])[::-1][0:5]\n",
    "test_value1 = np.sort(probas[0])[::-1][0:5]\n",
    "\n",
    "print(test_index1)\n",
    "print(test_value1)"
   ]
  },
  {
   "cell_type": "code",
   "execution_count": 58,
   "metadata": {},
   "outputs": [
    {
     "name": "stdout",
     "output_type": "stream",
     "text": [
      "[155 154 171  49  50]\n",
      "[0.02231122 0.02356461 0.02467033 0.02786812 0.06499332]\n"
     ]
    }
   ],
   "source": [
    "test_index2 = np.argsort(probas[0], axis = 0)[-5:]\n",
    "test_value2 = np.sort(probas[0], axis = 0)[-5:]\n",
    "\n",
    "print(test_index2)\n",
    "print(test_value2)"
   ]
  }
 ],
 "metadata": {
  "kernelspec": {
   "display_name": "Python 3",
   "language": "python",
   "name": "python3"
  },
  "language_info": {
   "codemirror_mode": {
    "name": "ipython",
    "version": 3
   },
   "file_extension": ".py",
   "mimetype": "text/x-python",
   "name": "python",
   "nbconvert_exporter": "python",
   "pygments_lexer": "ipython3",
   "version": "3.6.7"
  }
 },
 "nbformat": 4,
 "nbformat_minor": 2
}
