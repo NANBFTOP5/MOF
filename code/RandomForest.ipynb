{
 "cells": [
  {
   "cell_type": "code",
   "execution_count": 1,
   "metadata": {},
   "outputs": [],
   "source": [
    "import numpy as np # linear algebra\n",
    "import pandas as pd # data processing, CSV file I/O (e.g. pd.read_csv)\n",
    "import pickle\n",
    "#import keras\n",
    "\n",
    "from sklearn import svm\n",
    "import random\n",
    "import os\n",
    "from math import floor\n",
    "import warnings\n",
    "\n",
    "from sklearn.preprocessing import StandardScaler, MinMaxScaler"
   ]
  },
  {
   "cell_type": "code",
   "execution_count": 2,
   "metadata": {},
   "outputs": [],
   "source": [
    "# If you want to train the model by yourself\n",
    "\n",
    "# train data\n",
    "with open('new_data_filter0.pickle', 'rb') as f:\n",
    "    Data = pickle.load(f)\n",
    "    Data = pd.DataFrame(Data)\n",
    "\n",
    "numtrain = 186 * 6 * 12\n",
    "numval = 2678\n",
    "\n",
    "\n",
    "# Train validation split\n",
    "idx = random.sample(range(numtrain), numval) # 80% for training\n",
    "all_index = list(np.setdiff1d(range(numtrain), idx))\n",
    "\n",
    "# Getting X_train, X_val, y_train and scale them\n",
    "\n",
    "X_train = Data.iloc[all_index,:].drop(2251, axis = 1)\n",
    "X_val = Data.iloc[idx,:].drop(2251, axis = 1)\n",
    "y_train = pd.get_dummies(Data.iloc[all_index,:][2251])\n",
    "#print(y_train)\n",
    "\n",
    "names = y_train.columns\n",
    "mapping = {}\n",
    "i = 0\n",
    "for n in names:\n",
    "    mapping[i] = n\n",
    "    i+=1\n",
    "#print(mapping)\n",
    "\n",
    "y_train = Data.iloc[all_index,:][2251]\n",
    "\n",
    "scaler = MinMaxScaler()\n",
    "X_train = scaler.fit_transform(X_train)\n",
    "X_val = scaler.transform(X_val)"
   ]
  },
  {
   "cell_type": "code",
   "execution_count": 3,
   "metadata": {},
   "outputs": [
    {
     "data": {
      "text/plain": [
       "RandomForestClassifier(bootstrap=True, class_weight=None, criterion='gini',\n",
       "            max_depth=None, max_features='auto', max_leaf_nodes=None,\n",
       "            min_impurity_decrease=0.0, min_impurity_split=None,\n",
       "            min_samples_leaf=1, min_samples_split=2,\n",
       "            min_weight_fraction_leaf=0.0, n_estimators=100, n_jobs=None,\n",
       "            oob_score=False, random_state=None, verbose=0,\n",
       "            warm_start=False)"
      ]
     },
     "execution_count": 3,
     "metadata": {},
     "output_type": "execute_result"
    }
   ],
   "source": [
    "from sklearn.ensemble import RandomForestClassifier\n",
    "model = RandomForestClassifier(n_estimators=100)\n",
    "model.fit(X_train, y_train)\n"
   ]
  },
  {
   "cell_type": "code",
   "execution_count": 5,
   "metadata": {},
   "outputs": [],
   "source": [
    "Test = pd.read_csv('test_data_19.csv')\n",
    "\n",
    "X_test = scaler.transform(Test.iloc[:,1:])\n",
    "#pred = clf.predict(X_test)\n",
    "\n",
    "probas = model.predict_proba(X_test)"
   ]
  },
  {
   "cell_type": "code",
   "execution_count": 6,
   "metadata": {},
   "outputs": [
    {
     "name": "stdout",
     "output_type": "stream",
     "text": [
      "['XOTHAP', 'QEFNAQ', 'ZIF-90', 'JARMEU10', 'ZIF-12', 'ZIF-9', 'ZIF-7', 'ZIF-67', 'JARMEU', 'NUMMOX', 'ZIF-71', 'ZIF-11']\n",
      "['QEFNAQ', 'QIJLAW', 'HUJVOX', 'ZIF-12', 'ZIF-9', 'ZIF-7', 'JARMEU10', 'ZIF-67', 'JARMEU', 'NUMMOX', 'ZIF-71', 'ZIF-11']\n",
      "['QEFNAQ', 'QIJLAW', 'HUJVOX', 'ZIF-7', 'ZIF-9', 'ZIF-12', 'JARMEU10', 'JARMEU', 'ZIF-67', 'NUMMOX', 'ZIF-71', 'ZIF-11']\n",
      "['ZIF-71', 'AFEHUO', 'ZIF-12', 'ZIF-7', 'ZIF-9', 'QAYTOZ', 'ZIF-73', 'MIL-101', 'ZIF-10', 'MINVUA01', 'QEFNAQ', 'ZIF-77']\n",
      "['ZIF-67', 'PUTYAE', 'ZIF-12', 'ZIF-10', 'ZIF-7', 'QAYTOZ', 'ZIF-71', 'ZIF-73', 'ZIF-9', 'MINVUA01', 'QEFNAQ', 'ZIF-77']\n",
      "['PUTYAE', 'AFEHUO', 'ZIF-11', 'ZIF-71', 'ZIF-10', 'QAYTOZ', 'ZIF-7', 'ZIF-9', 'ZIF-73', 'MINVUA01', 'QEFNAQ', 'ZIF-77']\n",
      "['JOKYEN10', 'JOKXUC', 'JOKYIR', 'ZIF-67', 'MOF-5', 'AFIXAO', 'ZIF-11', 'PIZJEN', 'ZIF-65', 'DUT-23', 'ZIF-90', 'ZIF-8']\n",
      "['ITUVEZ', 'JEJFAF', 'ZIF-12', 'ZIF-11', 'MOF-5', 'AFIXAO', 'PIZJEN', 'ZIF-65', 'ZIF-67', 'DUT-23', 'ZIF-90', 'ZIF-8']\n",
      "['PUWCUF', 'ZIF-12', 'NUMMOX', 'PIZJEN', 'AFIXAO', 'ZIF-11', 'MOF-5', 'ZIF-65', 'ZIF-67', 'ZIF-90', 'DUT-23', 'ZIF-8']\n",
      "['ITUVEZ', 'JEJFAF', 'ZIF-12', 'ZIF-11', 'MOF-5', 'AFIXAO', 'PIZJEN', 'ZIF-65', 'ZIF-67', 'ZIF-90', 'DUT-23', 'ZIF-8']\n",
      "['JOKYAJ10', 'JOKYEN', 'JOKYEN10', 'ZIF-11', 'ZIF-67', 'AFIXAO', 'MOF-5', 'PIZJEN', 'ZIF-65', 'ZIF-8', 'DUT-23', 'ZIF-90']\n",
      "['JOKYEN10', 'JOKXUC', 'JOKYIR', 'ZIF-67', 'MOF-5', 'AFIXAO', 'ZIF-11', 'PIZJEN', 'ZIF-65', 'DUT-23', 'ZIF-8', 'ZIF-90']\n",
      "['ITUVEZ', 'JEJFAF', 'QALWUV', 'ZIF-11', 'ZIF-67', 'MOF-5', 'AFIXAO', 'PIZJEN', 'ZIF-65', 'ZIF-8', 'DUT-23', 'ZIF-90']\n",
      "['ZUYWAR', 'BAHGUN', 'SUDBOI', 'TILWAM', 'UGUQOC', 'UGUXAV', 'ETCUCY10', 'NUMMOX', 'XECJAQ', 'HUJVOX', 'ZIF-77', 'PUTYAE']\n",
      "['RONZID', 'MIL-101', 'BACHMOH', 'LAMGUB', 'LATCEO', 'ZIF-11', 'ETCUCY10', 'ZIF-77', 'UGUQOC', 'SUDBOI', 'PUTYAE', 'NUMMOX']\n",
      "['NUMMOX', 'Eu', 'HUJVOX', 'RONZID', 'ZUYWAR', 'QEFNAQ', 'ZIF-75', 'QAYTOZ', 'RASGAT', 'BACHMOH', 'AFEHUO', 'ZIF-77']\n",
      "['JARMEU10', 'ZIF-67', 'ZIF-12', 'ZIF-8', 'ZIF-11', 'RAFRUL', 'DUT-10', 'QAYTOZ', 'QEFNAQ', 'RASGAT', 'ZIF-77', 'AFEHUO']\n",
      "['NUMMOX', 'ZIF-73', 'ZIF-90', 'ZIF-71', 'AFIXAO', 'DUT-10', 'QAYTOZ', 'QEFNAQ', 'ZIF-11', 'RASGAT', 'AFEHUO', 'ZIF-77']\n",
      "['ZIF-11', 'ZIF-71', 'ZIF-73', 'ZIF-8', 'IDIWOH01', 'RAFRUL', 'DUT-10', 'QAYTOZ', 'QEFNAQ', 'RASGAT', 'ZIF-77', 'AFEHUO']\n"
     ]
    }
   ],
   "source": [
    "top_n_predictions = np.argsort(probas, axis = 1)[:,-12:]\n",
    "\n",
    "result = []\n",
    "for pre in top_n_predictions:\n",
    "    pre_list = []\n",
    "    for index in pre:\n",
    "        pre_list.append(mapping[index])\n",
    "    result.append(pre_list)\n",
    "\n",
    "    \n",
    "for plist in result:\n",
    "    print(plist)"
   ]
  },
  {
   "cell_type": "code",
   "execution_count": null,
   "metadata": {},
   "outputs": [],
   "source": []
  }
 ],
 "metadata": {
  "kernelspec": {
   "display_name": "Python 3",
   "language": "python",
   "name": "python3"
  },
  "language_info": {
   "codemirror_mode": {
    "name": "ipython",
    "version": 3
   },
   "file_extension": ".py",
   "mimetype": "text/x-python",
   "name": "python",
   "nbconvert_exporter": "python",
   "pygments_lexer": "ipython3",
   "version": "3.6.7"
  }
 },
 "nbformat": 4,
 "nbformat_minor": 2
}
