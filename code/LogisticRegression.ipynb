{
 "cells": [
  {
   "cell_type": "code",
   "execution_count": 1,
   "metadata": {},
   "outputs": [],
   "source": [
    "import numpy as np # linear algebra\n",
    "import pandas as pd # data processing, CSV file I/O (e.g. pd.read_csv)\n",
    "import pickle\n",
    "#import keras\n",
    "\n",
    "from sklearn import svm\n",
    "import random\n",
    "import os\n",
    "from math import floor\n",
    "import warnings\n",
    "\n",
    "from sklearn.preprocessing import StandardScaler, MinMaxScaler"
   ]
  },
  {
   "cell_type": "code",
   "execution_count": 2,
   "metadata": {},
   "outputs": [],
   "source": [
    "# If you want to train the model by yourself\n",
    "\n",
    "# train data\n",
    "with open('new_data_filter0.pickle', 'rb') as f:\n",
    "    Data = pickle.load(f)\n",
    "    Data = pd.DataFrame(Data)\n",
    "\n",
    "numtrain = 186 * 6 * 12\n",
    "numval = 2678\n",
    "\n",
    "\n",
    "# Train validation split\n",
    "idx = random.sample(range(numtrain), numval) # 80% for training\n",
    "all_index = list(np.setdiff1d(range(numtrain), idx))\n",
    "\n",
    "# Getting X_train, X_val, y_train and scale them\n",
    "\n",
    "X_train = Data.iloc[all_index,:].drop(2251, axis = 1)\n",
    "X_val = Data.iloc[idx,:].drop(2251, axis = 1)\n",
    "y_train = pd.get_dummies(Data.iloc[all_index,:][2251])\n",
    "#print(y_train)\n",
    "\n",
    "names = y_train.columns\n",
    "mapping = {}\n",
    "i = 0\n",
    "for n in names:\n",
    "    mapping[i] = n\n",
    "    i+=1\n",
    "#print(mapping)\n",
    "\n",
    "y_train = Data.iloc[all_index,:][2251]\n",
    "\n",
    "scaler = MinMaxScaler()\n",
    "X_train = scaler.fit_transform(X_train)\n",
    "X_val = scaler.transform(X_val)"
   ]
  },
  {
   "cell_type": "code",
   "execution_count": 3,
   "metadata": {},
   "outputs": [
    {
     "name": "stderr",
     "output_type": "stream",
     "text": [
      "C:\\Users\\Hong\\Anaconda3\\envs\\py36-tensorflow\\lib\\site-packages\\sklearn\\linear_model\\logistic.py:433: FutureWarning: Default solver will be changed to 'lbfgs' in 0.22. Specify a solver to silence this warning.\n",
      "  FutureWarning)\n",
      "C:\\Users\\Hong\\Anaconda3\\envs\\py36-tensorflow\\lib\\site-packages\\sklearn\\linear_model\\logistic.py:460: FutureWarning: Default multi_class will be changed to 'auto' in 0.22. Specify the multi_class option to silence this warning.\n",
      "  \"this warning.\", FutureWarning)\n"
     ]
    },
    {
     "data": {
      "text/plain": [
       "LogisticRegression(C=1.0, class_weight=None, dual=False, fit_intercept=True,\n",
       "          intercept_scaling=1, max_iter=100, multi_class='warn',\n",
       "          n_jobs=None, penalty='l2', random_state=None, solver='warn',\n",
       "          tol=0.0001, verbose=0, warm_start=False)"
      ]
     },
     "execution_count": 3,
     "metadata": {},
     "output_type": "execute_result"
    }
   ],
   "source": [
    "from sklearn.linear_model import LogisticRegression\n",
    "model = LogisticRegression(penalty='l2')\n",
    "model.fit(X_train, y_train)"
   ]
  },
  {
   "cell_type": "code",
   "execution_count": 4,
   "metadata": {},
   "outputs": [],
   "source": [
    "Test = pd.read_csv('test_data_19.csv')\n",
    "\n",
    "X_test = scaler.transform(Test.iloc[:,1:])\n",
    "#pred = clf.predict(X_test)\n",
    "\n",
    "probas = model.predict_proba(X_test)"
   ]
  },
  {
   "cell_type": "code",
   "execution_count": 5,
   "metadata": {},
   "outputs": [
    {
     "name": "stdout",
     "output_type": "stream",
     "text": [
      "['BACMOH10', 'ZIF-11', 'ZIF-7', 'DUT-12', 'ZIF-12', 'ZIF-9', 'ZIF-71', 'NUMMOX', 'ZIF-67', 'JARMEU', 'JARMEU10']\n",
      "['ZIF-1', 'ZIF-11', 'ZIF-7', 'ZIF-12', 'DUT-12', 'ZIF-9', 'NUMMOX', 'ZIF-71', 'ZIF-67', 'JARMEU10', 'JARMEU']\n",
      "['BACMOH10', 'ZIF-7', 'DUT-12', 'ZIF-11', 'ZIF-12', 'NUMMOX', 'ZIF-9', 'ZIF-71', 'ZIF-67', 'JARMEU10', 'JARMEU']\n",
      "['QAYTOZ', 'QEFNAQ', 'ZIF-7', 'ZIF-10', 'DUT-12', 'DUT-10', 'ZIF-71', 'MINVUA01', 'ZIF-73', 'AFEHUO', 'ZIF-9']\n",
      "['JARMEU', 'ZIF-7', 'DUT-10', 'QAYTOZ', 'QEFNAQ', 'DUT-12', 'ZIF-71', 'MINVUA01', 'ZIF-73', 'AFEHUO', 'ZIF-9']\n",
      "['JARMEU', 'ZIF-7', 'QEFNAQ', 'DUT-10', 'QAYTOZ', 'DUT-12', 'ZIF-71', 'MINVUA01', 'ZIF-73', 'AFEHUO', 'ZIF-9']\n",
      "['ZIF-67', 'QOJTUE', 'HEGCEB', 'AFIXES', 'AFIXAO', 'MOF-5', 'ZIF-65', 'ZIF-8', 'ZIF-90', 'PIZJEN', 'DUT-23']\n",
      "['ZIF-77', 'ZIF-3', 'AFIXES', 'ZIF-67', 'AFIXAO', 'ZIF-65', 'MOF-5', 'ZIF-8', 'ZIF-90', 'DUT-23', 'PIZJEN']\n",
      "['ZIF-3', 'UHAXUW', 'MINVUA01', 'ZIF-67', 'ZIF-65', 'AFIXAO', 'ZIF-8', 'ZIF-90', 'DUT-23', 'MOF-5', 'PIZJEN']\n",
      "['ZIF-77', 'ZIF-3', 'AFIXES', 'ZIF-67', 'AFIXAO', 'ZIF-65', 'MOF-5', 'ZIF-8', 'ZIF-90', 'DUT-23', 'PIZJEN']\n",
      "['HEGCEB', 'ZIF-3', 'ZIF-77', 'AFIXES', 'ZIF-8', 'ZIF-65', 'AFIXAO', 'ZIF-90', 'MOF-5', 'DUT-23', 'PIZJEN']\n",
      "['HEGCEB', 'ZIF-77', 'AFIXES', 'ZIF-67', 'AFIXAO', 'ZIF-65', 'MOF-5', 'ZIF-8', 'ZIF-90', 'DUT-23', 'PIZJEN']\n",
      "['IDIWIB', 'ZIF-73', 'ZIF-77', 'AFIXES', 'ZIF-8', 'ZIF-65', 'AFIXAO', 'MOF-5', 'ZIF-90', 'DUT-23', 'PIZJEN']\n",
      "['JOKXOW10', 'JOKYAJ10', 'JOKYIR', 'JOKYIR10', 'ZUYWAR', 'JOKYEN10', 'JOKXUC', 'ZIF-74', 'JOKYEN', 'ZIF-12', 'ZIF-7']\n",
      "['JOKYEN10', 'ZIF-74', 'JOKXUC', 'JOKYAJ10', 'JOKYIR', 'ZUYWAR', 'ZIF-9', 'JOKXOW10', 'JOKYEN', 'ZIF-12', 'ZIF-7']\n",
      "['AFIXAO', 'ZIF-2', 'AFEHUO', 'JOKXUC', 'ZIF-9', 'KUSZED', 'RASGAT', 'QOPHEI', 'JOKYEN', 'Eu', 'QEFNAQ']\n",
      "['TILWEQ', 'DUT-12', 'AFIXAO', 'ZIF-9', 'QAYTOZ', 'ZIF-77', 'DUT-10', 'RAFRUL', 'RASGAT', 'QEFNAQ', 'AFEHUO']\n",
      "['ZIF-9', 'JOKXEM', 'JOKXOW10', 'ZIF-71', 'JOKXEM10', 'QEFNAQ', 'RAFRUL', 'ZIF-12', 'RASGAT', 'DUT-10', 'AFEHUO']\n",
      "['ZIF-12', 'AFIXAO', 'QAYTOZ', 'DUT-12', 'ZIF-77', 'ZIF-9', 'RAFRUL', 'DUT-10', 'QEFNAQ', 'RASGAT', 'AFEHUO']\n"
     ]
    }
   ],
   "source": [
    "top_n_predictions = np.argsort(probas, axis = 1)[:,-11:]\n",
    "\n",
    "result = []\n",
    "for pre in top_n_predictions:\n",
    "    pre_list = []\n",
    "    for index in pre:\n",
    "        pre_list.append(mapping[index])\n",
    "    result.append(pre_list)\n",
    "\n",
    "    \n",
    "for plist in result:\n",
    "    print(plist)"
   ]
  },
  {
   "cell_type": "code",
   "execution_count": null,
   "metadata": {},
   "outputs": [],
   "source": []
  }
 ],
 "metadata": {
  "kernelspec": {
   "display_name": "Python 3",
   "language": "python",
   "name": "python3"
  },
  "language_info": {
   "codemirror_mode": {
    "name": "ipython",
    "version": 3
   },
   "file_extension": ".py",
   "mimetype": "text/x-python",
   "name": "python",
   "nbconvert_exporter": "python",
   "pygments_lexer": "ipython3",
   "version": "3.6.7"
  }
 },
 "nbformat": 4,
 "nbformat_minor": 2
}
