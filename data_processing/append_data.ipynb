{
 "cells": [
  {
   "cell_type": "code",
   "execution_count": 1,
   "metadata": {},
   "outputs": [],
   "source": [
    "import numpy as np # linear algebra\n",
    "import pandas as pd # data processing, CSV file I/O (e.g. pd.read_csv)\n",
    "import pickle\n",
    "from sklearn.preprocessing import StandardScaler, MinMaxScaler"
   ]
  },
  {
   "cell_type": "code",
   "execution_count": 2,
   "metadata": {},
   "outputs": [
    {
     "name": "stdout",
     "output_type": "stream",
     "text": [
      "(14, 2251)\n",
      "(2, 2251)\n",
      "(20, 2251)\n"
     ]
    }
   ],
   "source": [
    "# 之前的测试数据\n",
    "Test_first=np.load('fft_data14.npy')\n",
    "Test_first = Test_first[:7,:2251]\n",
    "Test_first = pd.DataFrame(Test_first)\n",
    "# print(Test_first.shape)\n",
    "with open('norm_T_origin.pickle', 'rb') as f:\n",
    "    Test_last = pickle.load(f)\n",
    "    Test_last = pd.DataFrame(Test_last)\n",
    "Test_last = Test_last.iloc[7:,:]\n",
    "# print(Test_last.shape)\n",
    "Test_ori = Test_first.append(Test_last,ignore_index=True)\n",
    "print(Test_ori.shape)\n",
    "\n",
    "\n",
    "with open('T_origin-19.pickle', 'rb') as f:\n",
    "    Test = pickle.load(f)\n",
    "    Test = pd.DataFrame(Test)\n",
    "scaler = MinMaxScaler()\n",
    "Test = scaler.fit_transform(Test.iloc[:,:-1])\n",
    "\n",
    "# zif-7\n",
    "Test = pd.DataFrame(Test)   \n",
    "Test_second = Test.iloc[3:5,:]\n",
    "print(Test_second.shape)\n",
    "\n",
    "#zif-9\n",
    "Test_third = np.load('data/4_zif9.npy')\n",
    "Test_third = pd.DataFrame(Test_third)\n",
    "Test_third = Test_third.iloc[:,:2251]\n",
    "\n",
    "frames = [Test_ori,Test_second,Test_third]\n",
    "\n",
    "\n",
    "Test = pd.concat(frames)\n",
    "\n",
    "\n",
    "print(Test.shape)"
   ]
  },
  {
   "cell_type": "code",
   "execution_count": 4,
   "metadata": {},
   "outputs": [
    {
     "name": "stdout",
     "output_type": "stream",
     "text": [
      "(19, 2251)\n"
     ]
    }
   ],
   "source": [
    "Test_first = Test.iloc[:2,:]\n",
    "Test_last = Test.iloc[3:,:]\n",
    "Test = Test_first.append(Test_last,ignore_index=True)\n",
    "print(Test.shape)"
   ]
  },
  {
   "cell_type": "code",
   "execution_count": 5,
   "metadata": {},
   "outputs": [],
   "source": [
    "# Test.to_csv('test_data_19.csv')"
   ]
  },
  {
   "cell_type": "code",
   "execution_count": 8,
   "metadata": {},
   "outputs": [],
   "source": [
    "# label\n",
    "with open('T_origin-19.pickle', 'rb') as f:\n",
    "    Test = pickle.load(f)\n",
    "    Test = pd.DataFrame(Test)\n",
    "labelzif67 = Test.iloc[:3,-1]\n",
    "labelzif7 = Test.iloc[3:5,-1]\n",
    "labelzif71and8 = Test.iloc[5:12,-1]\n",
    "labelzif9 = Test.iloc[12:16,-1]\n",
    "labelzif90 = Test.iloc[16:,-1]\n",
    "\n",
    "frames = [labelzif67,labelzif71and8,labelzif90,labelzif7,labelzif9]\n",
    "label = pd.concat(frames)"
   ]
  },
  {
   "cell_type": "code",
   "execution_count": 9,
   "metadata": {},
   "outputs": [
    {
     "name": "stdout",
     "output_type": "stream",
     "text": [
      "0     ZIF-67\n",
      "1     ZIF-67\n",
      "2     ZIF-67\n",
      "5     ZIF-71\n",
      "6     ZIF-71\n",
      "7     ZIF-71\n",
      "8      ZIF-8\n",
      "9      ZIF-8\n",
      "10     ZIF-8\n",
      "11     ZIF-8\n",
      "16    ZIF-90\n",
      "17    ZIF-90\n",
      "18    ZIF-90\n",
      "3      ZIF-7\n",
      "4      ZIF-7\n",
      "12     ZIF-9\n",
      "13     ZIF-9\n",
      "14     ZIF-9\n",
      "15     ZIF-9\n",
      "Name: label, dtype: object\n"
     ]
    }
   ],
   "source": [
    "print(label)"
   ]
  },
  {
   "cell_type": "code",
   "execution_count": 10,
   "metadata": {},
   "outputs": [
    {
     "name": "stderr",
     "output_type": "stream",
     "text": [
      "/home/yanghaoyue/anaconda3/lib/python3.7/site-packages/ipykernel_launcher.py:1: FutureWarning: The signature of `Series.to_csv` was aligned to that of `DataFrame.to_csv`, and argument 'header' will change its default value from False to True: please pass an explicit value to suppress this warning.\n",
      "  \"\"\"Entry point for launching an IPython kernel.\n"
     ]
    }
   ],
   "source": [
    "# label.to_csv('label_19.csv')"
   ]
  },
  {
   "cell_type": "code",
   "execution_count": null,
   "metadata": {},
   "outputs": [],
   "source": []
  }
 ],
 "metadata": {
  "kernelspec": {
   "display_name": "Python 3",
   "language": "python",
   "name": "python3"
  },
  "language_info": {
   "codemirror_mode": {
    "name": "ipython",
    "version": 3
   },
   "file_extension": ".py",
   "mimetype": "text/x-python",
   "name": "python",
   "nbconvert_exporter": "python",
   "pygments_lexer": "ipython3",
   "version": "3.7.3"
  }
 },
 "nbformat": 4,
 "nbformat_minor": 2
}
