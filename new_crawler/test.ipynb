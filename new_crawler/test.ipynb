{
 "cells": [
  {
   "cell_type": "markdown",
   "metadata": {},
   "source": [
    "# 详解类class类的构造函数\n",
    "\n",
    "https://blog.csdn.net/brucewong0516/article/details/79124550"
   ]
  },
  {
   "cell_type": "code",
   "execution_count": 17,
   "metadata": {},
   "outputs": [],
   "source": [
    "class person():\n",
    "    name = ''       #首先定义一下变量\n",
    "    age = 0\n",
    "    __weight = 0\n",
    "    def __init__(self,name,age,weight):     #初始化变量\n",
    "        self.name = name    #重新给类的name变量赋值，并可以全局调用\n",
    "        self.age = age\n",
    "        self.__weight = weight\n",
    "    def infoma(self):      #定义speak函数\n",
    "        print('%s is %s weights %s'%(self.name,self.age,self.__weight))\n"
   ]
  },
  {
   "cell_type": "code",
   "execution_count": 18,
   "metadata": {},
   "outputs": [
    {
     "name": "stdout",
     "output_type": "stream",
     "text": [
      "<__main__.person object at 0x10d0eb198>\n",
      "bruce is 25 weights 60\n"
     ]
    }
   ],
   "source": [
    "person = person('bruce',25,60)   #将变量赋值给person类实例化\n",
    "print(person)\n",
    "\n",
    "infoma = person.infoma()   #调用person类的infoma函数方法"
   ]
  },
  {
   "cell_type": "code",
   "execution_count": 14,
   "metadata": {},
   "outputs": [
    {
     "name": "stdout",
     "output_type": "stream",
     "text": [
      "<class 'type'>\n",
      "<slot wrapper '__repr__' of 'object' objects>\n"
     ]
    }
   ],
   "source": [
    "# -*- coding: utf-8 -*-\n",
    "\"\"\"\n",
    "Created on Sun Jan 21 00:31:07 2018\n",
    "类的定义构建\n",
    "@author: BruceWong\n",
    "\"\"\"\n",
    "\n",
    "class person():\n",
    "    def __init__(self,name,age,weight):\n",
    "        self.name = name\n",
    "        self.age = age\n",
    "        self.__weight = weight\n",
    "    def __cmp__(self):\n",
    "        pow_age = self.age.__pow__(2)\n",
    "        print(pow_age)\n",
    "    def __len__(self):\n",
    "        name_del = self.name.__len__()\n",
    "        print(name_del)\n",
    "    def __add__(self):\n",
    "        adds = self.age.__add__(self.__weight)\n",
    "        print(adds)\n",
    "    def infoma(self):\n",
    "        print('%s is %s weights %s'%(self.name,self.age,self.__weight))\n",
    "print(person.__class__)\n",
    "print(person.__repr__)\n"
   ]
  },
  {
   "cell_type": "code",
   "execution_count": 15,
   "metadata": {},
   "outputs": [
    {
     "name": "stdout",
     "output_type": "stream",
     "text": [
      "<__main__.person object at 0x10d028f60>\n",
      "bruce is 25 weights 60\n",
      "625\n",
      "5\n",
      "85\n"
     ]
    }
   ],
   "source": [
    "person = person('bruce',25,60)\n",
    "print(person)\n",
    "infoma = person.infoma()\n",
    "cmp = person.__cmp__()\n",
    "lens = person.__len__()\n",
    "adds = person.__add__()\n"
   ]
  },
  {
   "cell_type": "code",
   "execution_count": 16,
   "metadata": {},
   "outputs": [
    {
     "name": "stdout",
     "output_type": "stream",
     "text": [
      "doc is None\n",
      "dir is <built-in method __dir__ of person object at 0x10d028f60>\n",
      "delatter is <method-wrapper '__delattr__' of person object at 0x10d028f60>\n",
      "gt is <method-wrapper '__gt__' of person object at 0x10d028f60>\n",
      "hash is <method-wrapper '__hash__' of person object at 0x10d028f60>\n",
      "init is <bound method person.__init__ of <__main__.person object at 0x10d028f60>>\n",
      "new is <built-in method __new__ of type object at 0x10abdf5e8>\n"
     ]
    }
   ],
   "source": [
    "print('doc is %s'%person.__doc__)\n",
    "print('dir is %s'%person.__dir__)\n",
    "print('delatter is %s'%person.__delattr__)\n",
    "print('gt is %s'%person.__gt__)\n",
    "print('hash is %s'%person.__hash__)\n",
    "print('init is %s'%person.__init__)\n",
    "print('new is %s'%person.__new__)"
   ]
  },
  {
   "cell_type": "markdown",
   "metadata": {},
   "source": [
    "# 【python】类class的属性：类数据属性、实例数据属性、特殊的类属性、属性隐藏（二）\n",
    "\n",
    "一、数据属性\n",
    "\n",
    "1、在上面的person类中，“tall”、“name”、\"age\"和\"weight \"都被称为类的数据属性，但是它们又分为类数据属性和实例数据属性。"
   ]
  },
  {
   "cell_type": "code",
   "execution_count": 21,
   "metadata": {},
   "outputs": [],
   "source": [
    "class person(object):\n",
    "    tall = 180\n",
    "    hobbies = []\n",
    "    def __init__(self, name, age,weight):\n",
    "        self.name = name\n",
    "        self.age = age\n",
    "        self.weight = weight\n",
    "    def infoma(self):\n",
    "        print('%s is %s weights %s'%(self.name,self.age,self.weight))\n"
   ]
  },
  {
   "cell_type": "code",
   "execution_count": 22,
   "metadata": {},
   "outputs": [
    {
     "name": "stdout",
     "output_type": "stream",
     "text": [
      "person hobbies list: ['football', 'woman']\n",
      "person hobbies2 list: ['reading', 'jogging', 'swimming']\n",
      "['__class__', '__delattr__', '__dict__', '__dir__', '__doc__', '__eq__', '__format__', '__ge__', '__getattribute__', '__gt__', '__hash__', '__init__', '__init_subclass__', '__le__', '__lt__', '__module__', '__ne__', '__new__', '__reduce__', '__reduce_ex__', '__repr__', '__setattr__', '__sizeof__', '__str__', '__subclasshook__', '__weakref__', 'hobbies', 'hobbies2', 'infoma', 'tall']\n"
     ]
    }
   ],
   "source": [
    "person.hobbies.extend([\"football\", \"woman\"])   #类数据属性属于类本身，可以通过类名进行访问/修改，此处添加\"football\"、\"woman\"两个\n",
    "print(\"person hobbies list: %s\" %person.hobbies   ) \n",
    "# class can add class attribute after class defination\n",
    "person.hobbies2 = [\"reading\", \"jogging\", \"swimming\"]  #在类定义之后，可以通过类名动态添加类数据属性，新增的类属性也被类和所有实例共有\n",
    "print( \"person hobbies2 list: %s\" %person.hobbies2  )  \n",
    "print( dir(person))"
   ]
  },
  {
   "cell_type": "code",
   "execution_count": 23,
   "metadata": {},
   "outputs": [
    {
     "name": "stdout",
     "output_type": "stream",
     "text": [
      "Bruce is 25 years old\n",
      "Bruce is male\n",
      "['__class__', '__delattr__', '__dict__', '__dir__', '__doc__', '__eq__', '__format__', '__ge__', '__getattribute__', '__gt__', '__hash__', '__init__', '__init_subclass__', '__le__', '__lt__', '__module__', '__ne__', '__new__', '__reduce__', '__reduce_ex__', '__repr__', '__setattr__', '__sizeof__', '__str__', '__subclasshook__', '__weakref__', 'age', 'gender', 'hobbies', 'hobbies2', 'infoma', 'name', 'tall', 'weight']\n",
      "['football', 'woman', 'C#']\n"
     ]
    }
   ],
   "source": [
    "Bruce = person(\"Bruce\", 25,60)    #实例数据属性只能通过实例访问\n",
    "print (\"%s is %d years old\" %(Bruce.name, Bruce.age)   )\n",
    "# class instance can add new attribute \n",
    "# \"gender\" is the instance attribute only belongs to wilber\n",
    "Bruce.gender = \"male\"   #在实例生成后，还可以动态添加实例数据属性，但是这些实例数据属性只属于该实例\n",
    "print( \"%s is %s\" %(Bruce.name, Bruce.gender) )  \n",
    "# class instance can access class attribute\n",
    "print( dir(Bruce))\n",
    "Bruce.hobbies.append(\"C#\")\n",
    "print (Bruce.hobbies)"
   ]
  },
  {
   "cell_type": "code",
   "execution_count": 24,
   "metadata": {},
   "outputs": [
    {
     "name": "stdout",
     "output_type": "stream",
     "text": [
      "Will is 27 years old\n",
      "['__class__', '__delattr__', '__dict__', '__dir__', '__doc__', '__eq__', '__format__', '__ge__', '__getattribute__', '__gt__', '__hash__', '__init__', '__init_subclass__', '__le__', '__lt__', '__module__', '__ne__', '__new__', '__reduce__', '__reduce_ex__', '__repr__', '__setattr__', '__sizeof__', '__str__', '__subclasshook__', '__weakref__', 'age', 'hobbies', 'hobbies2', 'infoma', 'name', 'tall', 'weight']\n",
      "['football', 'woman', 'C#']\n"
     ]
    }
   ],
   "source": [
    "will = person(\"Will\", 27,60) \n",
    "print( \"%s is %d years old\" %(will.name, will.age) )  \n",
    "# will shares the same class attribute with wilber\n",
    "# will don't have the \"gender\" attribute that belongs to wilber\n",
    "print( dir(will) )    \n",
    "print (will.hobbies)"
   ]
  },
  {
   "cell_type": "markdown",
   "metadata": {},
   "source": [
    "通过内建函数dir()，或者访问类的字典属性’_ _dict _ _'这两种方式都可以查看类有哪些属性，代码的输出为："
   ]
  },
  {
   "cell_type": "code",
   "execution_count": 29,
   "metadata": {},
   "outputs": [
    {
     "data": {
      "text/plain": [
       "['football', 'woman', 'C#']"
      ]
     },
     "execution_count": 29,
     "metadata": {},
     "output_type": "execute_result"
    }
   ],
   "source": [
    "# person hobbies list: ['football', 'woman']   #类数据属性属于类本身，可以通过类名进行访问/修改\n",
    "# person hobbies2 list: ['reading', 'jogging', 'swimming']\n",
    "\n",
    "['__class__', '__delattr__', '__dict__', '__dir__', '__doc__', '__eq__', '__format__', '__ge__', '__getattribute__', '__gt__', '__hash__', '__init__', '__le__', '__lt__', '__module__', '__ne__', '__new__', '__reduce__', '__reduce_ex__', '__repr__', '__setattr__', '__sizeof__', '__str__', '__subclasshook__', '__weakref__', 'hobbies', 'hobbies2', 'infoma', 'tall']\n",
    "\n",
    "# Bruce is 25 years old  #实例数据属性只能通过实例访问\n",
    "# Bruce is male #实例数据属性只能通过实例访问\n",
    "['__class__', '__delattr__', '__dict__', '__dir__', '__doc__', '__eq__', '__format__', '__ge__', '__getattribute__', '__gt__', '__hash__', '__init__', '__le__', '__lt__', '__module__', '__ne__', '__new__', '__reduce__', '__reduce_ex__', '__repr__', '__setattr__', '__sizeof__', '__str__', '__subclasshook__', '__weakref__', 'age', 'gender', 'hobbies', 'hobbies2', 'infoma', 'name', 'tall', 'weight']\n",
    "['football', 'woman', 'C#']\n",
    "\n",
    "# Will is 27 years old\n",
    "['__class__', '__delattr__', '__dict__', '__dir__', '__doc__', '__eq__', '__format__', '__ge__', '__getattribute__', '__gt__', '__hash__', '__init__', '__le__', '__lt__', '__module__', '__ne__', '__new__', '__reduce__', '__reduce_ex__', '__repr__', '__setattr__', '__sizeof__', '__str__', '__subclasshook__', '__weakref__', 'age', 'hobbies', 'hobbies2', 'infoma', 'name', 'tall', 'weight']\n",
    "['football', 'woman', 'C#']"
   ]
  },
  {
   "cell_type": "markdown",
   "metadata": {},
   "source": [
    "对于类数据属性和实例数据属性，可以总结为：\n",
    "\n",
    "类数据属性属于类本身，可以通过类名进行访问/修改:person.hobbies.extend([\"football\", \"woman\"])\n",
    "\n",
    "类数据属性也可以被类的所有实例访问/修改: Bruce = person(\"Bruce\", 25,60)\n",
    "\n",
    "在类定义之后，可以通过类名动态添加类数据属性，新增的类属性也被类和所有实例共有:person.hobbies2 = [\"reading\", \"jogging\", \"swimming\"]\n",
    "\n",
    "实例数据属性只能通过实例访问\n",
    "\n",
    "在实例生成后，还可以动态添加实例数据属性，但是这些实例数据属性只属于该实例:Bruce.gender = \"male\"\n"
   ]
  },
  {
   "cell_type": "markdown",
   "metadata": {},
   "source": [
    "2、特殊的类属性：对于所有的类，都有一组特殊的属性\n",
    "\n",
    "_ _ name_ _：类的名字（字符串）\n",
    "\n",
    "_ _ doc _ _ ：类的文档字符串\n",
    "\n",
    "_ _ bases _ _：类的所有父类组成的元组\n",
    "\n",
    "_ _ dict _ _：类的属性组成的字典\n",
    "\n",
    "_ _ module _ _：类所属的模块\n",
    "\n",
    "_ _ class _ _：类对象的类型"
   ]
  },
  {
   "cell_type": "code",
   "execution_count": 30,
   "metadata": {},
   "outputs": [
    {
     "name": "stdout",
     "output_type": "stream",
     "text": [
      "person\n",
      "None\n",
      "(<class 'object'>,)\n",
      "<method '__dir__' of 'object' objects>\n",
      "__main__\n",
      "<class 'type'>\n"
     ]
    }
   ],
   "source": [
    "class person(object):\n",
    "    tall = 180\n",
    "    hobbies = []\n",
    "    def __init__(self, name, age,weight):\n",
    "        self.name = name\n",
    "        self.age = age\n",
    "        self.weight = weight\n",
    "    def infoma(self):\n",
    "        print('%s is %s weights %s'%(self.name,self.age,self.weight))\n",
    "\n",
    "print(person.__name__)\n",
    "print(person.__doc__)\n",
    "print(person.__bases__)\n",
    "print(person.__dir__)\n",
    "print(person.__module__)\n",
    "print(person.__class__)"
   ]
  },
  {
   "cell_type": "markdown",
   "metadata": {},
   "source": [
    "3、属性隐藏：类数据属性属于类本身，被所有该类的实例共享；并且，通过实例可以去访问/修改类属性。但是，在通过实例中访问类属性的时候一定要谨慎，因为可能出现属性\"隐藏\"的情况。"
   ]
  },
  {
   "cell_type": "code",
   "execution_count": 37,
   "metadata": {},
   "outputs": [
    {
     "name": "stdout",
     "output_type": "stream",
     "text": [
      "person.tall is Bruce.tall:  True\n",
      "person.tall is Bruce.tall:  False\n",
      "{'__module__': '__main__', 'tall': 180, 'hobbies': ['CSS', 'CSS'], '__init__': <function person.__init__ at 0x10d0f7488>, 'infoma': <function person.infoma at 0x10d0f7510>, '__dict__': <attribute '__dict__' of 'person' objects>, '__weakref__': <attribute '__weakref__' of 'person' objects>, '__doc__': None}\n",
      "{'name': 'Bruce', 'age': 25, 'weight': 180, 'tall': 185}\n",
      "person.tall is Bruce.tall:  True\n"
     ]
    }
   ],
   "source": [
    "Bruce = person(\"Bruce\", 25,180)\n",
    "\n",
    "print(\"person.tall is Bruce.tall: \", person.tall is Bruce.tall)\n",
    "Bruce.tall = 185    #重新赋值或者修改\n",
    "print( \"person.tall is Bruce.tall: \", person.tall is Bruce.tall)\n",
    "print( person.__dict__)\n",
    "print( Bruce.__dict__)\n",
    "del Bruce.tall   #再次删除实例的赋值\n",
    "print(\"person.tall is Bruce.tall: \", person.tall is Bruce.tall)  #person.tall is Bruce.tall为True"
   ]
  },
  {
   "cell_type": "code",
   "execution_count": 38,
   "metadata": {},
   "outputs": [
    {
     "name": "stdout",
     "output_type": "stream",
     "text": [
      "person.tall is Bruce.tall:  False\n",
      "{'__module__': '__main__', 'tall': 180, 'hobbies': ['CSS', 'CSS'], '__init__': <function person.__init__ at 0x10d0f7488>, 'infoma': <function person.infoma at 0x10d0f7510>, '__dict__': <attribute '__dict__' of 'person' objects>, '__weakref__': <attribute '__weakref__' of 'person' objects>, '__doc__': None}\n",
      "{'name': 'Bruce', 'age': 25, 'weight': 180, 'tall': 183}\n"
     ]
    }
   ],
   "source": [
    "Bruce.tall += 3    \n",
    "print(\"person.tall is Bruce.tall: \", person.tall is Bruce.tall)\n",
    "print(person.__dict__)\n",
    "print(Bruce.__dict__)"
   ]
  },
  {
   "cell_type": "code",
   "execution_count": 39,
   "metadata": {},
   "outputs": [
    {
     "name": "stdout",
     "output_type": "stream",
     "text": [
      "person.hobbies is Bruce.hobbies:  True\n",
      "person.hobbies is Bruce.hobbies :  False\n",
      "{'__module__': '__main__', 'tall': 180, 'hobbies': ['CSS', 'CSS'], '__init__': <function person.__init__ at 0x10d0f7488>, 'infoma': <function person.infoma at 0x10d0f7510>, '__dict__': <attribute '__dict__' of 'person' objects>, '__weakref__': <attribute '__weakref__' of 'person' objects>, '__doc__': None}\n",
      "{'name': 'Bruce', 'age': 25, 'weight': 180, 'hobbies': ['C#', 'Python']}\n",
      "person.hobbies is Bruce.hobbies:  True\n",
      "\n"
     ]
    }
   ],
   "source": [
    "del Bruce.tall\n",
    "\n",
    "print(\"person.hobbies is Bruce.hobbies: \", person.hobbies is Bruce.hobbies)\n",
    "Bruce.hobbies = [\"C#\", \"Python\"]\n",
    "print (\"person.hobbies is Bruce.hobbies : \", person.hobbies is Bruce.hobbies)\n",
    "print( person.__dict__)\n",
    "print( Bruce.__dict__)\n",
    "del Bruce.hobbies\n",
    "print( \"person.hobbies is Bruce.hobbies: \", person.hobbies is Bruce.hobbies)\n",
    "\n",
    "print() "
   ]
  },
  {
   "cell_type": "code",
   "execution_count": 36,
   "metadata": {},
   "outputs": [
    {
     "name": "stdout",
     "output_type": "stream",
     "text": [
      "person.hobbies is Bruce.hobbies:  True\n",
      "{'__module__': '__main__', 'tall': 180, 'hobbies': ['CSS', 'CSS'], '__init__': <function person.__init__ at 0x10d0f7488>, 'infoma': <function person.infoma at 0x10d0f7510>, '__dict__': <attribute '__dict__' of 'person' objects>, '__weakref__': <attribute '__weakref__' of 'person' objects>, '__doc__': None}\n",
      "{'name': 'Bruce', 'age': 25, 'weight': 180}\n"
     ]
    }
   ],
   "source": [
    "Bruce.hobbies.append(\"CSS\")\n",
    "print(\"person.hobbies is Bruce.hobbies: \", person.hobbies is Bruce.hobbies)\n",
    "print(person.__dict__)\n",
    "print(Bruce.__dict__)"
   ]
  },
  {
   "cell_type": "markdown",
   "metadata": {},
   "source": [
    "【对于不可变类型的类属性，隐藏属性可以总结为：】\n",
    "\n",
    "对于不可变类型的类属性person.tall，可以通过实例Bruce进行访问，并且\"person.tall is Bruce.tall\"\n",
    "\n",
    "当通过实例赋值/修改tall属性的时候，将为实例Bruce新建一个tall实例属性，这时，“person.tall is not Bruce.tall”\n",
    "\n",
    "当通过\"del Bruce.tall\"语句删除实例的tall属性后，再次成为\"person.tall is Bruce.tall\"\n",
    "\n",
    "【对于可变类型的类属性，隐藏属性可以总结为：】\n",
    "\n",
    "同样对于可变类型的类属性person.hobbies，可以通过实例Bruce进行访问，并且\"person.hobbies is Bruce. hobbies\"\n",
    "\n",
    "当通过实例赋值hobbies 属性的时候，都将为实例Bruce新建一个hobbies实例属性，这时，“person.hobbies is not Bruce. hobbies”\n",
    "\n",
    "当通过\"del Bruce. hobbies\"语句删除实例的hobbies属性后，再次成为\"person. hobbies is Bruce. hobbies\"\n",
    "\n",
    "当通过实例修改hobbies属性的时候，将修改Bruce. hobbies指向的内存地址（即person.hobbies），此时，“person.hobbies is not Bruce. hobbies”\n",
    "\n",
    "注意，虽然通过实例可以访问类属性，但是，不建议这么做，最好还是通过类名来访问类属性，从而避免属性隐藏带来的不必要麻烦\n"
   ]
  },
  {
   "cell_type": "markdown",
   "metadata": {},
   "source": [
    "# 【python】详解类class的方法：实例方法、类方法、静态方法（三）"
   ]
  },
  {
   "cell_type": "markdown",
   "metadata": {},
   "source": [
    "在一个类中，可能出现三种方法，实例方法、静态方法和类方法，下面来看看三种方法的不同：\n",
    "\n",
    "1、实例方法\n",
    "\n",
    "实例方法的第一个参数必须是”self”，实例方法只能通过类实例进行调用，这时候“self”就代表这个类实例本身。通过”self”可以直接访问实例的属性。"
   ]
  },
  {
   "cell_type": "code",
   "execution_count": 56,
   "metadata": {},
   "outputs": [],
   "source": [
    "class person(object):\n",
    "    tall = 180\n",
    "    hobbies = []\n",
    "    def __init__(self, name, age,weight):\n",
    "        self.name = name\n",
    "        self.age = age\n",
    "        self.weight = weight\n",
    "    def infoma(self):\n",
    "        print('%s is %s weights %s'%(self.name,self.age,self.weight))"
   ]
  },
  {
   "cell_type": "code",
   "execution_count": 57,
   "metadata": {},
   "outputs": [
    {
     "name": "stdout",
     "output_type": "stream",
     "text": [
      "Bruce is 25 weights 180\n"
     ]
    }
   ],
   "source": [
    "Bruce = person(\"Bruce\", 25,180)\n",
    "Bruce.infoma()"
   ]
  },
  {
   "cell_type": "code",
   "execution_count": null,
   "metadata": {},
   "outputs": [],
   "source": []
  }
 ],
 "metadata": {
  "kernelspec": {
   "display_name": "Python 3",
   "language": "python",
   "name": "python3"
  },
  "language_info": {
   "codemirror_mode": {
    "name": "ipython",
    "version": 3
   },
   "file_extension": ".py",
   "mimetype": "text/x-python",
   "name": "python",
   "nbconvert_exporter": "python",
   "pygments_lexer": "ipython3",
   "version": "3.7.3"
  }
 },
 "nbformat": 4,
 "nbformat_minor": 2
}
