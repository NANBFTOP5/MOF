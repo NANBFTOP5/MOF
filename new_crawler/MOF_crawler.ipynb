{
 "cells": [
  {
   "cell_type": "code",
   "execution_count": 1,
   "metadata": {},
   "outputs": [],
   "source": [
    "import re\n",
    "import time\n",
    "import requests\n",
    "import random\n",
    "from selenium import webdriver\n",
    "from bs4 import BeautifulSoup\n",
    "import pickle\n",
    "\n",
    "import pandas as pd\n",
    "import numpy as np\n",
    "\n",
    "names = ['Dawei Li', 'Kaidi Yang', 'Yunchao Xie',\n",
    "         'Chi Zhang', 'Cheng Zhang', 'Heng Deng',\n",
    "         'Jheng-Wun Su', 'Min Meng', 'Wenxin Gao',\n",
    "         'Yingru Song', 'Yuan Dong', 'Haojia Chi',\n",
    "         'Jian Lin', 'Xiaoqing He', 'Tommi White',\n",
    "         'Thomas Parker', 'Mark Greip', 'James Tour',\n",
    "         'David XW Lou', 'Liangbing Hu', 'Yan Yao',\n",
    "         'Zhanhu Guo', 'Yu Zhu', 'Shubin Yang', 'Qingliu Wu']\n",
    "\n",
    "emails = ['dl2c9@mail.missouri.edu', 'kyn69@mail.missouri.edu', 'yxpx3@mail.missouri.edu',\n",
    "         'cz9n3@mail.missouri.edu', 'cz7g9@mail.missouri.edu', 'hd3m9@mail.missouri.edu',\n",
    "         'jsctdd@mail.missouri.edu', 'mmdcd@mail.missouri.edu', 'wgtf8@mail.missouri.edu',\n",
    "         'ysmq3@mail.missouri.edu', 'dongyu@missouri.edu', 'hc4yd@mail.missouri.edu',\n",
    "         'LinJian@missouri.edu', 'hexi@missouri.edu', 'whiteto@missouri.edu','thomas.c.parker84.civ@mail.mil',\n",
    "         'mark.h.griep.civ@mail.mil','tour@rice.edu','XWLOU@ntu.edu.sg','binghu@umd.edu',\n",
    "         'yyao4@uh.edu','zguo10@utk.edu','yzhu@uakron.edu','yangshubin@buaa.edu.cn','qingliu.wu@wmich.edu']\n",
    "\n",
    "institutions = ['University of Missouri','University of Missouri','University of Missouri',\n",
    "               'University of Missouri','University of Missouri','University of Missouri',\n",
    "               'University of Missouri','University of Missouri','University of Missouri',\n",
    "               'University of Missouri','University of Missouri','University of Missouri',\n",
    "               'University of Missouri','University of Missouri','University of Missouri',\n",
    "               'Army Research Laboratory', 'Army Research Laboratory','Rice University',\n",
    "               'Nanyang Technology University','University of Maryland','University of Houston',\n",
    "               'University of Tennessee','University of Akron','Beihang University','Western Michigan University']"
   ]
  },
  {
   "cell_type": "code",
   "execution_count": 2,
   "metadata": {},
   "outputs": [],
   "source": [
    "driver = webdriver.Chrome('/Users/hongwang/Desktop/new_crawler/chromedriver')"
   ]
  },
  {
   "cell_type": "raw",
   "metadata": {},
   "source": [
    "# 第一遍\n",
    "with open('mofs_hong.pickle', 'rb') as f:\n",
    "    MOFs = pickle.load(f)"
   ]
  },
  {
   "cell_type": "raw",
   "metadata": {},
   "source": [
    "downloads = {}\n",
    "downloads['Material'] = []\n",
    "downloads['File'] = []"
   ]
  },
  {
   "cell_type": "code",
   "execution_count": 3,
   "metadata": {},
   "outputs": [],
   "source": [
    "# 第一遍之后再load的话跑这个格子\n",
    "with open('mofs_hong.pickle', 'rb') as f:\n",
    "    MOFs, downloads = pickle.load(f)"
   ]
  },
  {
   "cell_type": "code",
   "execution_count": 4,
   "metadata": {},
   "outputs": [],
   "source": [
    "for i in range(1):\n",
    "    try:\n",
    "        \n",
    "        new_url = 'https://www.ccdc.cam.ac.uk/structures/search?pid=csd: '+MOFs[0]\n",
    "        \n",
    "        MOFs.pop(0)\n",
    "        \n",
    "        driver.get(new_url)\n",
    "        time.sleep(10)\n",
    "\n",
    "        driver.find_element_by_id('downloadOptionsButton').click()\n",
    "        time.sleep(10)\n",
    "\n",
    "        driver.find_elements_by_link_text('Download current entry')[0].click()\n",
    "        time.sleep(10)\n",
    "\n",
    "        idx = random.randint(0,24)\n",
    "\n",
    "        name = driver.find_elements_by_xpath('//*[@id=\"Name\"]')[0]\n",
    "        name.clear()\n",
    "        name.send_keys(names[idx])\n",
    "        time.sleep(10)\n",
    "\n",
    "        email = driver.find_elements_by_xpath('//*[@id=\"Email\"]')[0]\n",
    "        email.clear()\n",
    "        email.send_keys(emails[idx])\n",
    "        time.sleep(10)\n",
    "\n",
    "        institution = driver.find_elements_by_xpath('//*[@id=\"Institution\"]')[0]\n",
    "        institution.clear()\n",
    "        institution.send_keys(institutions[idx])\n",
    "        time.sleep(10)\n",
    "\n",
    "        agree = driver.find_elements_by_xpath('//*[@id=\"Terms\"]')[0]\n",
    "        if not agree.is_selected():\n",
    "            agree.click()\n",
    "        time.sleep(5)\n",
    "\n",
    "        driver.find_elements_by_xpath('//*[@id=\"download\"]')[0].click()\n",
    "        time.sleep(5)\n",
    "        \n",
    "        mat = driver.find_elements_by_xpath('//*[@id=\"detailsView\"]/div[3]/div/div/table/tbody/tr[1]/td[2]')[0]\n",
    "        file_name = mat.text\n",
    "        \n",
    "        if file_name == '':\n",
    "            file_name = 'missing'\n",
    "            \n",
    "        downloads['Material'].append(MOFs[0])\n",
    "        downloads['File'].append(file_name)\n",
    "        \n",
    "        with open('mofs_hong.pickle', 'wb') as f:\n",
    "            pickle.dump((MOFs, downloads), f)\n",
    "        \n",
    "        time.sleep(2 * 3 * np.random.randint(3, 6))\n",
    "    except:\n",
    "        pass "
   ]
  },
  {
   "cell_type": "code",
   "execution_count": null,
   "metadata": {},
   "outputs": [],
   "source": [
    "material_1 = pd.DataFrame(downloads)"
   ]
  },
  {
   "cell_type": "code",
   "execution_count": null,
   "metadata": {},
   "outputs": [],
   "source": [
    "material_1.to_csv('lookup.csv', index = False)"
   ]
  },
  {
   "cell_type": "code",
   "execution_count": null,
   "metadata": {},
   "outputs": [],
   "source": [
    "with open('mofs_hong.pickle', 'wb') as f:\n",
    "    pickle.dump((MOFs, downloads), f)"
   ]
  },
  {
   "cell_type": "code",
   "execution_count": 9,
   "metadata": {},
   "outputs": [
    {
     "data": {
      "text/plain": [
       "855"
      ]
     },
     "execution_count": 9,
     "metadata": {},
     "output_type": "execute_result"
    }
   ],
   "source": [
    "len(MOFs)"
   ]
  }
 ],
 "metadata": {
  "kernelspec": {
   "display_name": "Python 3",
   "language": "python",
   "name": "python3"
  },
  "language_info": {
   "codemirror_mode": {
    "name": "ipython",
    "version": 3
   },
   "file_extension": ".py",
   "mimetype": "text/x-python",
   "name": "python",
   "nbconvert_exporter": "python",
   "pygments_lexer": "ipython3",
   "version": "3.7.3"
  }
 },
 "nbformat": 4,
 "nbformat_minor": 2
}
