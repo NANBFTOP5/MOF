{
 "cells": [
  {
   "cell_type": "code",
   "execution_count": 1,
   "metadata": {},
   "outputs": [],
   "source": [
    "import numpy as np\n",
    "import pandas as pd\n",
    "import pickle"
   ]
  },
  {
   "cell_type": "code",
   "execution_count": 2,
   "metadata": {},
   "outputs": [
    {
     "data": {
      "text/plain": [
       "(148800, 1002)"
      ]
     },
     "execution_count": 2,
     "metadata": {},
     "output_type": "execute_result"
    }
   ],
   "source": [
    "#test_file=\"/home/suliangbu/work/wanghong/train_low_None_.pickle\"\n",
    "#tmp = np.load(test_file)\n",
    "\n",
    "#打开一个名为data1.pkl的文件，打开方式为二进制读取(参数‘rb’)\n",
    "file_to_read = open('train_low_None_.pickle', 'rb')\n",
    "\n",
    "#通过pickle的load函数读取data1.pkl中的对象，并赋值给data2\n",
    "tmp = pickle.load(file_to_read)\n",
    "\n",
    "train_data = tmp.values  \n",
    "train_data.shape"
   ]
  },
  {
   "cell_type": "code",
   "execution_count": 9,
   "metadata": {},
   "outputs": [],
   "source": [
    "train_targets, train_pairs = [],[]\n",
    "pair_1, pair_2 = [], []\n",
    "\n",
    "index = np.arange(800)\n",
    "rand_index = np.random.choice(index,185)\n",
    "for i in range(185):\n",
    "    for j in range(185):\n",
    "        pair_1.append(train_data[rand_index[i]][:-1])\n",
    "        pair_2.append(train_data[rand_index[j]][:-1])\n",
    "        train_targets.append(1)\n",
    "        \n",
    "        pair_1.append(train_data[rand_index[i]][:-1])\n",
    "        pair_2.append(train_data[rand_index[j]+800*(j+1)][:-1])\n",
    "        train_targets.append(0)\n",
    "            \n",
    "            \n",
    "#print(pairs,targets)\n",
    "train_pairs = [pair_1, pair_2]\n",
    "train_pairs = np.array(train_pairs).reshape(2,185*185*2,1001,1)\n",
    "print(train_pairs.shape)\n",
    "train_pairs = train_pairs.tolist()"
   ]
  },
  {
   "cell_type": "code",
   "execution_count": 10,
   "metadata": {},
   "outputs": [
    {
     "ename": "AttributeError",
     "evalue": "'list' object has no attribute 'shape'",
     "output_type": "error",
     "traceback": [
      "\u001b[0;31m---------------------------------------------------------------------------\u001b[0m",
      "\u001b[0;31mAttributeError\u001b[0m                            Traceback (most recent call last)",
      "\u001b[0;32m<ipython-input-10-9ee38e8f7464>\u001b[0m in \u001b[0;36m<module>\u001b[0;34m\u001b[0m\n\u001b[0;32m----> 1\u001b[0;31m \u001b[0mprint\u001b[0m\u001b[0;34m(\u001b[0m\u001b[0mtrain_pairs\u001b[0m\u001b[0;34m.\u001b[0m\u001b[0mshape\u001b[0m\u001b[0;34m)\u001b[0m\u001b[0;34m\u001b[0m\u001b[0;34m\u001b[0m\u001b[0m\n\u001b[0m",
      "\u001b[0;31mAttributeError\u001b[0m: 'list' object has no attribute 'shape'"
     ]
    }
   ],
   "source": [
    "print(train_pairs.shape)\n"
   ]
  },
  {
   "cell_type": "code",
   "execution_count": null,
   "metadata": {},
   "outputs": [],
   "source": []
  }
 ],
 "metadata": {
  "kernelspec": {
   "display_name": "Python 3",
   "language": "python",
   "name": "python3"
  },
  "language_info": {
   "codemirror_mode": {
    "name": "ipython",
    "version": 3
   },
   "file_extension": ".py",
   "mimetype": "text/x-python",
   "name": "python",
   "nbconvert_exporter": "python",
   "pygments_lexer": "ipython3",
   "version": "3.6.8"
  }
 },
 "nbformat": 4,
 "nbformat_minor": 2
}
