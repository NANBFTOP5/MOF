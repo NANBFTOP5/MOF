{
 "cells": [
  {
   "cell_type": "code",
   "execution_count": 1,
   "metadata": {},
   "outputs": [],
   "source": [
    "import numpy as np\n",
    "import pickle\n",
    "import matplotlib.pyplot as plt\n",
    "import pandas as pd\n",
    "from sklearn.preprocessing import StandardScaler, MinMaxScaler\n",
    "import math"
   ]
  },
  {
   "cell_type": "code",
   "execution_count": 2,
   "metadata": {},
   "outputs": [],
   "source": [
    "file_to_read = open('D_origin.pickle', 'rb')\n",
    "tmp = pickle.load(file_to_read)\n",
    "data = tmp.values"
   ]
  },
  {
   "cell_type": "code",
   "execution_count": 3,
   "metadata": {},
   "outputs": [
    {
     "data": {
      "text/plain": [
       "(186, 2251)"
      ]
     },
     "execution_count": 3,
     "metadata": {},
     "output_type": "execute_result"
    }
   ],
   "source": [
    "X_train = data[:, :-1]\n",
    "X_train.shape"
   ]
  },
  {
   "cell_type": "code",
   "execution_count": 4,
   "metadata": {},
   "outputs": [
    {
     "name": "stderr",
     "output_type": "stream",
     "text": [
      "/anaconda3/envs/py36/lib/python3.6/site-packages/sklearn/utils/validation.py:595: DataConversionWarning: Data with input dtype object was converted to float64 by MinMaxScaler.\n",
      "  warnings.warn(msg, DataConversionWarning)\n"
     ]
    }
   ],
   "source": [
    "scaler = MinMaxScaler()\n",
    "X_train = scaler.fit_transform(X_train)"
   ]
  },
  {
   "cell_type": "code",
   "execution_count": 5,
   "metadata": {},
   "outputs": [],
   "source": [
    "label = data[:, -1]"
   ]
  },
  {
   "cell_type": "code",
   "execution_count": 6,
   "metadata": {},
   "outputs": [
    {
     "data": {
      "text/plain": [
       "186"
      ]
     },
     "execution_count": 6,
     "metadata": {},
     "output_type": "execute_result"
    }
   ],
   "source": [
    "len(X_train)"
   ]
  },
  {
   "cell_type": "markdown",
   "metadata": {},
   "source": [
    "做一个字典，key是材料名称，value是2251个值"
   ]
  },
  {
   "cell_type": "code",
   "execution_count": 7,
   "metadata": {},
   "outputs": [],
   "source": [
    "y_train = tmp.iloc[:,:]['label']\n",
    "\n",
    "names = y_train\n",
    "mapping = {}\n",
    "val = X_train\n",
    "for i in range(186):\n",
    "    mapping[names[i]] = val[i,:]\n",
    "    i+=1"
   ]
  },
  {
   "cell_type": "code",
   "execution_count": 8,
   "metadata": {},
   "outputs": [
    {
     "name": "stdout",
     "output_type": "stream",
     "text": [
      "[0.         0.         0.         ... 0.01666541 0.01697766 0.01640333]\n"
     ]
    }
   ],
   "source": [
    "print(mapping['PUTYAE'])"
   ]
  },
  {
   "cell_type": "code",
   "execution_count": 9,
   "metadata": {},
   "outputs": [],
   "source": [
    "mapping_name = {}\n",
    "i = 0\n",
    "for n in names:\n",
    "    mapping_name[i] = n\n",
    "    i+=1"
   ]
  },
  {
   "cell_type": "code",
   "execution_count": 10,
   "metadata": {},
   "outputs": [
    {
     "name": "stdout",
     "output_type": "stream",
     "text": [
      "{0: 'PUTYAE', 1: 'PUTYEI', 2: 'IDIWOH03', 3: 'IDIWOH04', 4: 'IDIWOH05', 5: 'IDIWOH06', 6: 'LUYNAU', 7: 'RIDKOE', 8: 'AENCESE10', 9: 'BACHMOH', 10: 'BACMOH10', 11: 'BIMDEF', 12: 'BIMDIL', 13: 'CIDNIM', 14: 'LITHUR', 15: 'DEFKUU', 16: 'DEHFUR', 17: 'EDIKEH', 18: 'ENCDBZ01', 19: 'ENCUCC10', 20: 'ETCUCY10', 21: 'FALLOT', 22: 'REGJIW', 23: 'NICZAA01', 24: 'HIXDOH01', 25: 'HEGCEB', 26: 'JARMEU', 27: 'JARMEU10', 28: 'JEJFAF', 29: 'JOKXAI', 30: 'JOKXAI10', 31: 'JOKXEM', 32: 'JOKXEM10', 33: 'JOKXOW', 34: 'JOKXOW10', 35: 'JOKXUC', 36: 'JOKXUC10', 37: 'JOKYAJ', 38: 'JOKYAJ10', 39: 'JOKYEN', 40: 'JOKYEN10', 41: 'JOKYIR', 42: 'JOKYIR10', 43: 'JOKYOX', 44: 'JOKYOX10', 45: 'JOSNAG', 46: 'KECRAL10', 47: 'KEGZOL01', 48: 'KEXFIC10', 49: 'KUSZED', 50: 'LAMFEK', 51: 'LAMFIO', 52: 'LAMFOU', 53: 'LAMGUB', 54: 'LAMHAI', 55: 'LATCEO', 56: 'LATCIS', 57: 'LEJBUX', 58: 'PIZJEN', 59: 'PUWCEP', 60: 'PUWCUF', 61: 'RAFRUL', 62: 'RASGAT', 63: 'REVSOA', 64: 'RONZID', 65: 'SAJRAW10', 66: 'GORQAF', 67: 'SUDBOI', 68: 'TENQOS', 69: 'TILVOZ', 70: 'TILVUF', 71: 'TILWAM', 72: 'TILWEQ', 73: 'LORNEL', 74: 'WILRIS', 75: 'YARYEV', 76: 'YEFNIG', 77: 'YEFPAA', 78: 'YEFPUU', 79: 'YUTGEZ', 80: 'ZIWTII', 81: 'ZUTBAR', 82: 'ZUVTEP', 83: 'ZUYWAR', 84: 'NUMMOX', 85: 'HODWUS', 86: 'QEFNAQ', 87: 'MINVUA02', 88: 'QALWUV', 89: 'MAXFIA', 90: 'QOJTUE', 91: 'QOJVAM', 92: 'DOQRUW', 93: 'QAMXIL', 94: 'GUJVAI', 95: 'QIJLAW', 96: 'WIWQOI', 97: 'WIWQUO', 98: 'IDIWOH07', 99: 'QAYTOZ', 100: 'XAYMUF', 101: 'QOJKAB', 102: 'XANXUF', 103: 'CUIMDZ01', 104: 'QOPHEI', 105: 'MIHBAG', 106: 'BAHGUN01', 107: 'IDIWIB', 108: 'IDIWOH', 109: 'AFIXAO', 110: 'AFIXES', 111: 'XECJAQ', 112: 'VOCQAF', 113: 'HUJVOX', 114: 'KECRAL12', 115: 'MIMVEJ', 116: 'BAHGUN02', 117: 'VABMER', 118: 'MINVUA', 119: 'BAHGUN', 120: 'AFEHUO', 121: 'OGOJOJ', 122: 'JOSNAG01', 123: 'HUKRIO', 124: 'UHAXUW', 125: 'XOTHAP', 126: 'WABVIF', 127: 'WABVOL', 128: 'WABWAY', 129: 'UGUTOF', 130: 'UGUXAV', 131: 'UGUQOC', 132: 'BAHGUN03', 133: 'BAHGUN04', 134: 'HUYKIV', 135: 'HUYKUH', 136: 'REGJIW01', 137: 'IDIWOH01', 138: 'REGJIW02', 139: 'MINVUA01', 140: 'ITUVEZ', 141: 'WABVIF04', 142: 'WABVIF01', 143: 'WABVIF02', 144: 'WABVIF03', 145: 'ZUTBAR02', 146: 'ZIF-14', 147: 'MIL-101', 148: 'ZIF-1', 149: 'ZIF-2', 150: 'ZIF-3', 151: 'ZIF-4', 152: 'ZIF-5', 153: 'ZIF-6', 154: 'ZIF-7', 155: 'ZIF-8', 156: 'ZIF-9', 157: 'ZIF-10', 158: 'ZIF-11', 159: 'ZIF-12', 160: 'Eu', 161: 'ZIF-60', 162: 'ZIF-62', 163: 'ZIF-64', 164: 'ZIF-65', 165: 'ZIF-67', 166: 'ZIF-68', 167: 'ZIF-69', 168: 'ZIF-70', 169: 'ZIF-71', 170: 'ZIF-72', 171: 'ZIF-73', 172: 'ZIF-74', 173: 'ZIF-75', 174: 'ZIF-77', 175: 'ZIF-90', 176: 'ZIF-81', 177: 'F-MOF-8', 178: 'F-MOF-11', 179: 'CPL-2', 180: 'DUT-10', 181: 'DUT-12', 182: 'DUT-23', 183: 'DUT-7', 184: 'MOF-5', 185: 'MOF-72'}\n"
     ]
    }
   ],
   "source": [
    "print(mapping_name)"
   ]
  },
  {
   "cell_type": "code",
   "execution_count": 11,
   "metadata": {},
   "outputs": [],
   "source": [
    "Test = pd.read_csv('test_data.csv')\n",
    "X_test = Test.iloc[:,1:]\n"
   ]
  },
  {
   "cell_type": "code",
   "execution_count": 12,
   "metadata": {},
   "outputs": [],
   "source": [
    "X_test = X_test.values.tolist()"
   ]
  },
  {
   "cell_type": "code",
   "execution_count": 13,
   "metadata": {},
   "outputs": [
    {
     "name": "stdout",
     "output_type": "stream",
     "text": [
      "13 2251\n"
     ]
    }
   ],
   "source": [
    "print(len(X_test),len(X_test[0]))"
   ]
  },
  {
   "cell_type": "code",
   "execution_count": 14,
   "metadata": {},
   "outputs": [],
   "source": [
    "#X_test.iloc[0,:]\n",
    "# X_test[i][:]"
   ]
  },
  {
   "cell_type": "code",
   "execution_count": 15,
   "metadata": {},
   "outputs": [
    {
     "name": "stdout",
     "output_type": "stream",
     "text": [
      "[[('CIDNIM', 0.54), ('ZIF-8', 0.66), ('PIZJEN', 0.86), ('YEFPUU', 0.86), ('CPL-2', 1.13)]]\n",
      "[[('LORNEL', 1.22), ('PIZJEN', 2.17), ('HUYKIV', 2.85), ('CIDNIM', 3.57), ('ZIF-8', 3.68)]]\n",
      "[[('ZIF-70', 1.31), ('DEFKUU', 2.88), ('HUYKIV', 3.09), ('LORNEL', 4.72), ('REGJIW', 4.86)]]\n",
      "[[('ZIF-10', 0.11), ('BAHGUN03', 0.48), ('RAFRUL', 0.81), ('BAHGUN01', 0.94), ('LITHUR', 1.29)]]\n",
      "[[('PUWCEP', 0.3), ('Eu', 0.98), ('ZIF-69', 1.31), ('ZIF-9', 1.4), ('DUT-12', 1.92)]]\n",
      "[[('Eu', 0.02), ('DUT-12', 0.96), ('PUWCEP', 1.26), ('ZIF-68', 1.36), ('ZIF-69', 2.27)]]\n",
      "[[('ZIF-14', 0.15), ('CPL-2', 0.24), ('YEFPUU', 0.51), ('ZIF-8', 0.71), ('CIDNIM', 0.83)]]\n",
      "[[('REGJIW', 1.19), ('ZIF-3', 1.89), ('HUKRIO', 2.72), ('DEFKUU', 3.18), ('REGJIW01', 3.94)]]\n",
      "[[('WABVIF03', 1.86), ('NICZAA01', 2.98), ('QOPHEI', 3.02), ('TILVUF', 3.94), ('JEJFAF', 4.47)]]\n",
      "[[('REGJIW', 0.07), ('DEFKUU', 1.92), ('ZIF-3', 3.15), ('ZIF-70', 3.49), ('HUKRIO', 3.98)]]\n",
      "[[('PIZJEN', 0.46), ('CIDNIM', 0.94), ('ZIF-8', 1.06), ('YEFPUU', 1.26), ('CPL-2', 1.53)]]\n",
      "[[('HUYKIV', 1.39), ('ZIF-70', 3.01), ('LORNEL', 3.02), ('DEFKUU', 4.58), ('PIZJEN', 6.4)]]\n",
      "[[('HUYKIV', 0.16), ('LORNEL', 1.47), ('ZIF-70', 4.55), ('PIZJEN', 4.86), ('DEFKUU', 6.12)]]\n"
     ]
    }
   ],
   "source": [
    "predict = []\n",
    "for i in range(len(X_test)):\n",
    "    num_list = [] \n",
    "    name_list = []\n",
    "    one_mapping = {}\n",
    "    one_predict = []\n",
    "    for key, v in mapping.items():\n",
    "    \n",
    "        x = X_test[i][:]\n",
    "        d = math.sqrt(np.sum(np.array(x) - np.array(v)) ** 2 )\n",
    "        \n",
    "        num_list.append(round(d, 2))\n",
    "        name_list.append(key)\n",
    "\n",
    "    for i in range(len(num_list)):\n",
    "        one_mapping[name_list[i]] = num_list[i]\n",
    "    one_predict.append(sorted(one_mapping.items(),key = lambda item:item[1])[0:5])\n",
    "    predict.append(one_predict)\n",
    "    \n",
    "for show in predict:\n",
    "    print(show)"
   ]
  },
  {
   "cell_type": "code",
   "execution_count": 73,
   "metadata": {},
   "outputs": [
    {
     "name": "stdout",
     "output_type": "stream",
     "text": [
      "[28005.28, 27000.89, 25085.05, 15489.87, 17918.76, 18177.49, 28465.09, 23203.6, 10030.74, 23589.45, 27870.23, 25626.24, 26123.58]\n",
      "['PUTYAE', 'PUTYAE', 'PUTYAE', 'PUTYAE', 'PUTYAE', 'PUTYAE', 'PUTYAE', 'PUTYAE', 'PUTYAE', 'PUTYAE', 'PUTYAE', 'PUTYAE', 'PUTYAE']\n"
     ]
    }
   ],
   "source": [
    "predict = []\n",
    "for key, v in mapping.items():\n",
    "    num_list = [] \n",
    "    name_list = []\n",
    "    for i in range(len(X_test)):\n",
    "        x = X_test[i][:]\n",
    "        d = (np.sum(np.array(x) - np.array(v)) ** 2 )\n",
    "        \n",
    "        num_list.append(round(d, 2))\n",
    "        name_list.append(key)\n",
    "        \n",
    "        #one_mapping[round(d, 2)] = key\n",
    "        #one_mapping[d] = key\n",
    "        #one_mapping[key] = round(d, 2)\n",
    "#         print(num)\n",
    "    print(num_list)\n",
    "    print(name_list)\n",
    "    break\n",
    "    #num = sorted(num)\n",
    "    #print(num)\n",
    "        #one_predict.append(key)\n",
    "        \n",
    "    predict.append(one_predict)"
   ]
  },
  {
   "cell_type": "code",
   "execution_count": 42,
   "metadata": {},
   "outputs": [],
   "source": [
    "a1 = [0,1]\n",
    "a2 = [1,2]\n",
    "z = np.sum(np.array(a1) - np.array(a2)) ** 2"
   ]
  },
  {
   "cell_type": "code",
   "execution_count": 43,
   "metadata": {},
   "outputs": [
    {
     "name": "stdout",
     "output_type": "stream",
     "text": [
      "4\n"
     ]
    }
   ],
   "source": [
    "print(z)"
   ]
  },
  {
   "cell_type": "code",
   "execution_count": 52,
   "metadata": {},
   "outputs": [
    {
     "name": "stdout",
     "output_type": "stream",
     "text": [
      "[1, 2, 5]\n"
     ]
    }
   ],
   "source": [
    "dict = {1:'h', 5:'z', 2:'a'}\n",
    "print(sorted(dict.keys()))"
   ]
  },
  {
   "cell_type": "code",
   "execution_count": 59,
   "metadata": {},
   "outputs": [
    {
     "name": "stdout",
     "output_type": "stream",
     "text": [
      "{1: 'h', 5: 'a', 2: 'b'}\n",
      "[1, 2, 5]\n"
     ]
    }
   ],
   "source": [
    "dict = {}\n",
    "dict[1] = 'h'\n",
    "dict[5] = 'a'\n",
    "dict[2] = 'b'\n",
    "print(dict)\n",
    "print(sorted(dict.keys()))"
   ]
  },
  {
   "cell_type": "code",
   "execution_count": null,
   "metadata": {},
   "outputs": [],
   "source": []
  }
 ],
 "metadata": {
  "kernelspec": {
   "display_name": "Python 3",
   "language": "python",
   "name": "python3"
  },
  "language_info": {
   "codemirror_mode": {
    "name": "ipython",
    "version": 3
   },
   "file_extension": ".py",
   "mimetype": "text/x-python",
   "name": "python",
   "nbconvert_exporter": "python",
   "pygments_lexer": "ipython3",
   "version": "3.6.8"
  }
 },
 "nbformat": 4,
 "nbformat_minor": 2
}
