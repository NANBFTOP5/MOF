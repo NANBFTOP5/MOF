{
 "cells": [
  {
   "cell_type": "code",
   "execution_count": 1,
   "metadata": {},
   "outputs": [],
   "source": [
    "import numpy as np\n",
    "import pickle\n",
    "import matplotlib.pyplot as plt\n",
    "import pandas as pd\n",
    "from sklearn.preprocessing import StandardScaler, MinMaxScaler"
   ]
  },
  {
   "cell_type": "code",
   "execution_count": 2,
   "metadata": {},
   "outputs": [],
   "source": [
    "file_to_read = open('D_origin.pickle', 'rb')\n",
    "tmp = pickle.load(file_to_read)\n",
    "data = tmp.values"
   ]
  },
  {
   "cell_type": "code",
   "execution_count": 3,
   "metadata": {},
   "outputs": [
    {
     "data": {
      "text/plain": [
       "(186, 2251)"
      ]
     },
     "execution_count": 3,
     "metadata": {},
     "output_type": "execute_result"
    }
   ],
   "source": [
    "X_train = data[:, :-1]\n",
    "X_train.shape"
   ]
  },
  {
   "cell_type": "code",
   "execution_count": 4,
   "metadata": {},
   "outputs": [
    {
     "name": "stderr",
     "output_type": "stream",
     "text": [
      "/anaconda3/envs/py36/lib/python3.6/site-packages/sklearn/utils/validation.py:595: DataConversionWarning: Data with input dtype object was converted to float64 by MinMaxScaler.\n",
      "  warnings.warn(msg, DataConversionWarning)\n"
     ]
    }
   ],
   "source": [
    "scaler = MinMaxScaler()\n",
    "X_train = scaler.fit_transform(X_train)"
   ]
  },
  {
   "cell_type": "code",
   "execution_count": 5,
   "metadata": {},
   "outputs": [
    {
     "data": {
      "text/plain": [
       "1.0"
      ]
     },
     "execution_count": 5,
     "metadata": {},
     "output_type": "execute_result"
    }
   ],
   "source": [
    "max(X_train[1])"
   ]
  },
  {
   "cell_type": "code",
   "execution_count": 6,
   "metadata": {},
   "outputs": [],
   "source": [
    "y = pd.get_dummies(tmp.iloc[:,-1])\n",
    "label = data[:, -1]"
   ]
  },
  {
   "cell_type": "code",
   "execution_count": 7,
   "metadata": {},
   "outputs": [
    {
     "name": "stdout",
     "output_type": "stream",
     "text": [
      "['PUTYAE' 'PUTYEI' 'IDIWOH03' 'IDIWOH04' 'IDIWOH05' 'IDIWOH06' 'LUYNAU'\n",
      " 'RIDKOE' 'AENCESE10' 'BACHMOH' 'BACMOH10' 'BIMDEF' 'BIMDIL' 'CIDNIM'\n",
      " 'LITHUR' 'DEFKUU' 'DEHFUR' 'EDIKEH' 'ENCDBZ01' 'ENCUCC10' 'ETCUCY10'\n",
      " 'FALLOT' 'REGJIW' 'NICZAA01' 'HIXDOH01' 'HEGCEB' 'JARMEU' 'JARMEU10'\n",
      " 'JEJFAF' 'JOKXAI' 'JOKXAI10' 'JOKXEM' 'JOKXEM10' 'JOKXOW' 'JOKXOW10'\n",
      " 'JOKXUC' 'JOKXUC10' 'JOKYAJ' 'JOKYAJ10' 'JOKYEN' 'JOKYEN10' 'JOKYIR'\n",
      " 'JOKYIR10' 'JOKYOX' 'JOKYOX10' 'JOSNAG' 'KECRAL10' 'KEGZOL01' 'KEXFIC10'\n",
      " 'KUSZED' 'LAMFEK' 'LAMFIO' 'LAMFOU' 'LAMGUB' 'LAMHAI' 'LATCEO' 'LATCIS'\n",
      " 'LEJBUX' 'PIZJEN' 'PUWCEP' 'PUWCUF' 'RAFRUL' 'RASGAT' 'REVSOA' 'RONZID'\n",
      " 'SAJRAW10' 'GORQAF' 'SUDBOI' 'TENQOS' 'TILVOZ' 'TILVUF' 'TILWAM' 'TILWEQ'\n",
      " 'LORNEL' 'WILRIS' 'YARYEV' 'YEFNIG' 'YEFPAA' 'YEFPUU' 'YUTGEZ' 'ZIWTII'\n",
      " 'ZUTBAR' 'ZUVTEP' 'ZUYWAR' 'NUMMOX' 'HODWUS' 'QEFNAQ' 'MINVUA02' 'QALWUV'\n",
      " 'MAXFIA' 'QOJTUE' 'QOJVAM' 'DOQRUW' 'QAMXIL' 'GUJVAI' 'QIJLAW' 'WIWQOI'\n",
      " 'WIWQUO' 'IDIWOH07' 'QAYTOZ' 'XAYMUF' 'QOJKAB' 'XANXUF' 'CUIMDZ01'\n",
      " 'QOPHEI' 'MIHBAG' 'BAHGUN01' 'IDIWIB' 'IDIWOH' 'AFIXAO' 'AFIXES' 'XECJAQ'\n",
      " 'VOCQAF' 'HUJVOX' 'KECRAL12' 'MIMVEJ' 'BAHGUN02' 'VABMER' 'MINVUA'\n",
      " 'BAHGUN' 'AFEHUO' 'OGOJOJ' 'JOSNAG01' 'HUKRIO' 'UHAXUW' 'XOTHAP' 'WABVIF'\n",
      " 'WABVOL' 'WABWAY' 'UGUTOF' 'UGUXAV' 'UGUQOC' 'BAHGUN03' 'BAHGUN04'\n",
      " 'HUYKIV' 'HUYKUH' 'REGJIW01' 'IDIWOH01' 'REGJIW02' 'MINVUA01' 'ITUVEZ'\n",
      " 'WABVIF04' 'WABVIF01' 'WABVIF02' 'WABVIF03' 'ZUTBAR02' 'ZIF-14' 'MIL-101'\n",
      " 'ZIF-1' 'ZIF-2' 'ZIF-3' 'ZIF-4' 'ZIF-5' 'ZIF-6' 'ZIF-7' 'ZIF-8' 'ZIF-9'\n",
      " 'ZIF-10' 'ZIF-11' 'ZIF-12' 'Eu' 'ZIF-60' 'ZIF-62' 'ZIF-64' 'ZIF-65'\n",
      " 'ZIF-67' 'ZIF-68' 'ZIF-69' 'ZIF-70' 'ZIF-71' 'ZIF-72' 'ZIF-73' 'ZIF-74'\n",
      " 'ZIF-75' 'ZIF-77' 'ZIF-90' 'ZIF-81' 'F-MOF-8' 'F-MOF-11' 'CPL-2' 'DUT-10'\n",
      " 'DUT-12' 'DUT-23' 'DUT-7' 'MOF-5' 'MOF-72']\n"
     ]
    }
   ],
   "source": [
    "print(label)"
   ]
  },
  {
   "cell_type": "code",
   "execution_count": 8,
   "metadata": {},
   "outputs": [],
   "source": [
    "# file_to_read1 = open('T_origin.pickle', 'rb')\n",
    "# tmp1 = pickle.load(file_to_read1)\n",
    "# test_data = tmp1.values\n",
    "\n",
    "Test = pd.read_csv('test_data.csv')\n",
    "X_test = Test.iloc[:,1:]\n",
    "# X_test = scaler.transform(Test.iloc[:,1:])"
   ]
  },
  {
   "cell_type": "code",
   "execution_count": 44,
   "metadata": {},
   "outputs": [
    {
     "data": {
      "text/plain": [
       "1.0"
      ]
     },
     "execution_count": 44,
     "metadata": {},
     "output_type": "execute_result"
    }
   ],
   "source": [
    "X_test = np.array(X_test)\n",
    "max(X_test[1])"
   ]
  },
  {
   "cell_type": "code",
   "execution_count": 9,
   "metadata": {},
   "outputs": [
    {
     "data": {
      "image/png": "[encoded data removed]",
      "text/plain": [
       "<Figure size 432x288 with 1 Axes>"
      ]
     },
     "metadata": {
      "needs_background": "light"
     },
     "output_type": "display_data"
    }
   ],
   "source": [
    "num = 12\n",
    "x1 = np.linspace(0, 2251,num=2251)\n",
    "y1 = test_data[num,:-1]\n",
    "#y1.shape\n",
    "plt.title(test_data[num,-1]+'_NO#' + str(num))\n",
    "plt.plot(x1, y1)\n",
    "plt.show()"
   ]
  },
  {
   "cell_type": "code",
   "execution_count": 9,
   "metadata": {},
   "outputs": [],
   "source": [
    "y_train = pd.get_dummies(tmp.iloc[:,:]['label'])\n",
    "\n",
    "names = y_train.columns\n",
    "mapping = {}\n",
    "i = 0\n",
    "for n in names:\n",
    "    mapping[i] = n\n",
    "    i+=1\n",
    "# y_train.shape"
   ]
  },
  {
   "cell_type": "code",
   "execution_count": 10,
   "metadata": {},
   "outputs": [],
   "source": [
    "from sklearn import neighbors\n",
    "import sklearn"
   ]
  },
  {
   "cell_type": "code",
   "execution_count": 11,
   "metadata": {},
   "outputs": [
    {
     "data": {
      "text/plain": [
       "KNeighborsClassifier(algorithm='auto', leaf_size=30, metric='minkowski',\n",
       "           metric_params=None, n_jobs=None, n_neighbors=1, p=2,\n",
       "           weights='uniform')"
      ]
     },
     "execution_count": 11,
     "metadata": {},
     "output_type": "execute_result"
    }
   ],
   "source": [
    "knn = neighbors.KNeighborsClassifier(n_neighbors=1)\n",
    "\n",
    "knn.fit(X_train, y)"
   ]
  },
  {
   "cell_type": "code",
   "execution_count": 12,
   "metadata": {},
   "outputs": [],
   "source": [
    "predict_list = []\n",
    "for i in range(14):\n",
    "#     predict = knn.predict([test_data[i,:-1]])\n",
    "    predict = knn.predict(X_test)\n",
    "    \n",
    "    predict_list.append(predict)"
   ]
  },
  {
   "cell_type": "code",
   "execution_count": 16,
   "metadata": {},
   "outputs": [],
   "source": [
    "predict_list = (np.array(predict_list)).reshape(13,-1)"
   ]
  },
  {
   "cell_type": "code",
   "execution_count": 17,
   "metadata": {},
   "outputs": [
    {
     "data": {
      "text/plain": [
       "array([[0, 0, 0, ..., 0, 0, 0],\n",
       "       [0, 0, 0, ..., 0, 0, 0],\n",
       "       [0, 0, 0, ..., 0, 0, 0],\n",
       "       ...,\n",
       "       [0, 0, 0, ..., 0, 0, 0],\n",
       "       [0, 0, 0, ..., 0, 0, 0],\n",
       "       [0, 0, 0, ..., 0, 0, 0]], dtype=uint8)"
      ]
     },
     "execution_count": 17,
     "metadata": {},
     "output_type": "execute_result"
    }
   ],
   "source": [
    "predict_list"
   ]
  },
  {
   "cell_type": "code",
   "execution_count": 18,
   "metadata": {},
   "outputs": [
    {
     "name": "stdout",
     "output_type": "stream",
     "text": [
      "['JARMEU10' 'JARMEU10' 'JARMEU10' 'AFEHUO' 'AFEHUO' 'AFEHUO' 'ZIF-90'\n",
      " 'ZIF-90' 'ZIF-90' 'ZIF-90' 'DUT-23' 'ZIF-90' 'DUT-23']\n"
     ]
    }
   ],
   "source": [
    "out = [np.argmax(p) for p in predict_list]\n",
    "out = np.array(out)\n",
    "predicted = np.vectorize(mapping.get)(out)\n",
    "print(predicted)"
   ]
  },
  {
   "cell_type": "code",
   "execution_count": 60,
   "metadata": {},
   "outputs": [
    {
     "data": {
      "text/plain": [
       "array(['ZIF-67', 'ZIF-67', 'ZIF-67', 'ZIF-67', 'ZIF-71', 'ZIF-71',\n",
       "       'ZIF-71', 'ZIF-8', 'ZIF-8', 'ZIF-8', 'ZIF-8', 'ZIF-90', 'ZIF-90',\n",
       "       'ZIF-90'], dtype=object)"
      ]
     },
     "execution_count": 60,
     "metadata": {},
     "output_type": "execute_result"
    }
   ],
   "source": [
    "test_data[:,-1]"
   ]
  },
  {
   "cell_type": "markdown",
   "metadata": {},
   "source": [
    "# 画出所有的测试数据图"
   ]
  },
  {
   "cell_type": "code",
   "execution_count": 26,
   "metadata": {},
   "outputs": [
    {
     "data": {
      "image/png": "[encoded data removed]",
      "text/plain": [
       "<Figure size 432x288 with 1 Axes>"
      ]
     },
     "metadata": {
      "needs_background": "light"
     },
     "output_type": "display_data"
    }
   ],
   "source": [
    "x1 = np.linspace(0, 2251,num=2251)\n",
    "y1 = test_data[13,:-1]\n",
    "#y1.shape\n",
    "plt.title(test_data[13,-1]+'_NO#13')\n",
    "plt.plot(x1, y1)\n",
    "plt.show()"
   ]
  },
  {
   "cell_type": "markdown",
   "metadata": {},
   "source": [
    "# 画出所有的模拟数据图"
   ]
  },
  {
   "cell_type": "code",
   "execution_count": 41,
   "metadata": {},
   "outputs": [
    {
     "data": {
      "image/png": "[encoded data removed]",
      "text/plain": [
       "<Figure size 432x288 with 1 Axes>"
      ]
     },
     "metadata": {
      "needs_background": "light"
     },
     "output_type": "display_data"
    }
   ],
   "source": [
    "x1 = np.linspace(0, 2251,num=2251)\n",
    "y1 = None\n",
    "for i in range(186):\n",
    "    if data[i, -1] == 'AFIXES':\n",
    "        y1 = data[i, :-1]\n",
    "#y1.shape\n",
    "plt.title('Theoretical_AFIXES')\n",
    "plt.plot(x1, y1)\n",
    "plt.show()"
   ]
  },
  {
   "cell_type": "code",
   "execution_count": null,
   "metadata": {},
   "outputs": [],
   "source": []
  }
 ],
 "metadata": {
  "kernelspec": {
   "display_name": "Python 3",
   "language": "python",
   "name": "python3"
  },
  "language_info": {
   "codemirror_mode": {
    "name": "ipython",
    "version": 3
   },
   "file_extension": ".py",
   "mimetype": "text/x-python",
   "name": "python",
   "nbconvert_exporter": "python",
   "pygments_lexer": "ipython3",
   "version": "3.6.8"
  }
 },
 "nbformat": 4,
 "nbformat_minor": 2
}
