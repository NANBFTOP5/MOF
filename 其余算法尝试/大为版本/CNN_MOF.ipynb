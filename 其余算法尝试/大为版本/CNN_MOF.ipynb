{
  "nbformat": 4,
  "nbformat_minor": 0,
  "metadata": {
    "colab": {
      "name": "CNN_MOF.ipynb",
      "version": "0.3.2",
      "provenance": [],
      "collapsed_sections": []
    },
    "kernelspec": {
      "name": "python3",
      "display_name": "Python 3"
    },
    "accelerator": "GPU"
  },
  "cells": [
    {
      "metadata": {
        "id": "AVsPrG_6EN_0",
        "colab_type": "code",
        "outputId": "276b75bb-3699-46d3-b2ca-5dfdb1189fa4",
        "colab": {
          "base_uri": "https://localhost:8080/",
          "height": 34
        }
      },
      "cell_type": "code",
      "source": [
        "from google.colab import drive\n",
        "drive.mount('/content/gdrive')"
      ],
      "execution_count": 0,
      "outputs": [
        {
          "output_type": "stream",
          "text": [
            "Drive already mounted at /content/gdrive; to attempt to forcibly remount, call drive.mount(\"/content/gdrive\", force_remount=True).\n"
          ],
          "name": "stdout"
        }
      ]
    },
    {
      "metadata": {
        "id": "TQL421t0ETgF",
        "colab_type": "code",
        "outputId": "08cb49ee-9398-4822-8af0-a4e98ee73fdc",
        "colab": {
          "base_uri": "https://localhost:8080/",
          "height": 34
        }
      },
      "cell_type": "code",
      "source": [
        "import tensorflow as tf\n",
        "device_name = tf.test.gpu_device_name()\n",
        "if device_name != '/device:GPU:0':\n",
        "  raise SystemError('GPU device not found')\n",
        "print('Found GPU at: {}'.format(device_name))"
      ],
      "execution_count": 0,
      "outputs": [
        {
          "output_type": "stream",
          "text": [
            "Found GPU at: /device:GPU:0\n"
          ],
          "name": "stdout"
        }
      ]
    },
    {
      "metadata": {
        "id": "hNxmr9HRDq9j",
        "colab_type": "code",
        "colab": {}
      },
      "cell_type": "code",
      "source": [
        "import numpy as np # linear algebra\n",
        "import pandas as pd # data processing, CSV file I/O (e.g. pd.read_csv)\n",
        "import pickle\n",
        "import keras\n",
        "import random\n",
        "from keras.models import Sequential\n",
        "from keras.layers.core import Dense, Activation, Dropout\n",
        "from keras.preprocessing.sequence import pad_sequences\n",
        "from keras.layers import Dense, Input, LSTM, Embedding, Dropout, Activation, CuDNNGRU, Conv1D, CuDNNLSTM, Flatten\n",
        "from keras.layers import AveragePooling1D, MaxPooling1D, Bidirectional, GlobalMaxPool1D, Concatenate, GlobalAveragePooling1D, GlobalMaxPooling1D,concatenate\n",
        "from keras.layers import SpatialDropout1D\n",
        "from keras.models import Sequential\n",
        "from keras.callbacks import Callback\n",
        "from sklearn.preprocessing import StandardScaler, MinMaxScaler"
      ],
      "execution_count": 0,
      "outputs": []
    },
    {
      "metadata": {
        "id": "tRPr3RSgEXJZ",
        "colab_type": "code",
        "colab": {}
      },
      "cell_type": "code",
      "source": [
        "import os\n",
        "import warnings\n",
        "from keras import backend as K\n",
        "warnings.filterwarnings('ignore')\n",
        "\n",
        "os.environ['PYTHONHASHSEED'] = '0'\n",
        "np.random.seed(42)\n",
        "random.seed(12345)\n",
        "session_conf = tf.ConfigProto(intra_op_parallelism_threads=1, inter_op_parallelism_threads=1)\n",
        "tf.set_random_seed(1234)\n",
        "sess = tf.Session(graph=tf.get_default_graph(), config=session_conf)\n",
        "K.set_session(sess)"
      ],
      "execution_count": 0,
      "outputs": []
    },
    {
      "metadata": {
        "id": "L3H24CRuEdPz",
        "colab_type": "code",
        "colab": {}
      },
      "cell_type": "code",
      "source": [
        "ls = '/content/gdrive/My Drive/Project MOF/'"
      ],
      "execution_count": 0,
      "outputs": []
    },
    {
      "metadata": {
        "id": "zrHHR88JEjoR",
        "colab_type": "code",
        "outputId": "76b2a30a-d3d3-44d2-c8bc-c3060ac2f317",
        "colab": {
          "base_uri": "https://localhost:8080/",
          "height": 253
        }
      },
      "cell_type": "code",
      "source": [
        "with open(ls+'train_low_None_.pickle', 'rb') as f:\n",
        "    Data = pickle.load(f)\n",
        "Data.head()"
      ],
      "execution_count": 0,
      "outputs": [
        {
          "output_type": "execute_result",
          "data": {
            "text/html": [
              "<div>\n",
              "<style scoped>\n",
              "    .dataframe tbody tr th:only-of-type {\n",
              "        vertical-align: middle;\n",
              "    }\n",
              "\n",
              "    .dataframe tbody tr th {\n",
              "        vertical-align: top;\n",
              "    }\n",
              "\n",
              "    .dataframe thead th {\n",
              "        text-align: right;\n",
              "    }\n",
              "</style>\n",
              "<table border=\"1\" class=\"dataframe\">\n",
              "  <thead>\n",
              "    <tr style=\"text-align: right;\">\n",
              "      <th></th>\n",
              "      <th>grid_0.0</th>\n",
              "      <th>grid_0.001</th>\n",
              "      <th>grid_0.002</th>\n",
              "      <th>grid_0.003</th>\n",
              "      <th>grid_0.004</th>\n",
              "      <th>grid_0.005</th>\n",
              "      <th>grid_0.006</th>\n",
              "      <th>grid_0.007</th>\n",
              "      <th>grid_0.008</th>\n",
              "      <th>grid_0.009000000000000001</th>\n",
              "      <th>...</th>\n",
              "      <th>grid_0.992</th>\n",
              "      <th>grid_0.993</th>\n",
              "      <th>grid_0.994</th>\n",
              "      <th>grid_0.995</th>\n",
              "      <th>grid_0.996</th>\n",
              "      <th>grid_0.997</th>\n",
              "      <th>grid_0.998</th>\n",
              "      <th>grid_0.999</th>\n",
              "      <th>grid_1.0</th>\n",
              "      <th>label</th>\n",
              "    </tr>\n",
              "  </thead>\n",
              "  <tbody>\n",
              "    <tr>\n",
              "      <th>0</th>\n",
              "      <td>0.0</td>\n",
              "      <td>0.0</td>\n",
              "      <td>0.0</td>\n",
              "      <td>0.0</td>\n",
              "      <td>0.0</td>\n",
              "      <td>0.0</td>\n",
              "      <td>0.0</td>\n",
              "      <td>0.0</td>\n",
              "      <td>0.0</td>\n",
              "      <td>0.0</td>\n",
              "      <td>...</td>\n",
              "      <td>0.009782</td>\n",
              "      <td>0.014963</td>\n",
              "      <td>0.011041</td>\n",
              "      <td>0.007322</td>\n",
              "      <td>0.009133</td>\n",
              "      <td>0.014201</td>\n",
              "      <td>0.016473</td>\n",
              "      <td>0.014228</td>\n",
              "      <td>0.010707</td>\n",
              "      <td>RASGAT</td>\n",
              "    </tr>\n",
              "    <tr>\n",
              "      <th>1</th>\n",
              "      <td>0.0</td>\n",
              "      <td>0.0</td>\n",
              "      <td>0.0</td>\n",
              "      <td>0.0</td>\n",
              "      <td>0.0</td>\n",
              "      <td>0.0</td>\n",
              "      <td>0.0</td>\n",
              "      <td>0.0</td>\n",
              "      <td>0.0</td>\n",
              "      <td>0.0</td>\n",
              "      <td>...</td>\n",
              "      <td>0.009782</td>\n",
              "      <td>0.014963</td>\n",
              "      <td>0.011041</td>\n",
              "      <td>0.007322</td>\n",
              "      <td>0.009133</td>\n",
              "      <td>0.014201</td>\n",
              "      <td>0.016473</td>\n",
              "      <td>0.014228</td>\n",
              "      <td>0.010707</td>\n",
              "      <td>RASGAT</td>\n",
              "    </tr>\n",
              "    <tr>\n",
              "      <th>2</th>\n",
              "      <td>0.0</td>\n",
              "      <td>0.0</td>\n",
              "      <td>0.0</td>\n",
              "      <td>0.0</td>\n",
              "      <td>0.0</td>\n",
              "      <td>0.0</td>\n",
              "      <td>0.0</td>\n",
              "      <td>0.0</td>\n",
              "      <td>0.0</td>\n",
              "      <td>0.0</td>\n",
              "      <td>...</td>\n",
              "      <td>0.009782</td>\n",
              "      <td>0.014963</td>\n",
              "      <td>0.011041</td>\n",
              "      <td>0.007322</td>\n",
              "      <td>0.009133</td>\n",
              "      <td>0.014201</td>\n",
              "      <td>0.016473</td>\n",
              "      <td>0.014228</td>\n",
              "      <td>0.010707</td>\n",
              "      <td>RASGAT</td>\n",
              "    </tr>\n",
              "    <tr>\n",
              "      <th>3</th>\n",
              "      <td>0.0</td>\n",
              "      <td>0.0</td>\n",
              "      <td>0.0</td>\n",
              "      <td>0.0</td>\n",
              "      <td>0.0</td>\n",
              "      <td>0.0</td>\n",
              "      <td>0.0</td>\n",
              "      <td>0.0</td>\n",
              "      <td>0.0</td>\n",
              "      <td>0.0</td>\n",
              "      <td>...</td>\n",
              "      <td>0.009782</td>\n",
              "      <td>0.014963</td>\n",
              "      <td>0.011041</td>\n",
              "      <td>0.007322</td>\n",
              "      <td>0.009133</td>\n",
              "      <td>0.014201</td>\n",
              "      <td>0.016473</td>\n",
              "      <td>0.014228</td>\n",
              "      <td>0.010707</td>\n",
              "      <td>RASGAT</td>\n",
              "    </tr>\n",
              "    <tr>\n",
              "      <th>4</th>\n",
              "      <td>0.0</td>\n",
              "      <td>0.0</td>\n",
              "      <td>0.0</td>\n",
              "      <td>0.0</td>\n",
              "      <td>0.0</td>\n",
              "      <td>0.0</td>\n",
              "      <td>0.0</td>\n",
              "      <td>0.0</td>\n",
              "      <td>0.0</td>\n",
              "      <td>0.0</td>\n",
              "      <td>...</td>\n",
              "      <td>0.009782</td>\n",
              "      <td>0.014963</td>\n",
              "      <td>0.011041</td>\n",
              "      <td>0.007322</td>\n",
              "      <td>0.009133</td>\n",
              "      <td>0.014201</td>\n",
              "      <td>0.016473</td>\n",
              "      <td>0.014228</td>\n",
              "      <td>0.010707</td>\n",
              "      <td>RASGAT</td>\n",
              "    </tr>\n",
              "  </tbody>\n",
              "</table>\n",
              "<p>5 rows × 1002 columns</p>\n",
              "</div>"
            ],
            "text/plain": [
              "   grid_0.0  grid_0.001  grid_0.002  grid_0.003  grid_0.004  grid_0.005  \\\n",
              "0       0.0         0.0         0.0         0.0         0.0         0.0   \n",
              "1       0.0         0.0         0.0         0.0         0.0         0.0   \n",
              "2       0.0         0.0         0.0         0.0         0.0         0.0   \n",
              "3       0.0         0.0         0.0         0.0         0.0         0.0   \n",
              "4       0.0         0.0         0.0         0.0         0.0         0.0   \n",
              "\n",
              "   grid_0.006  grid_0.007  grid_0.008  grid_0.009000000000000001   ...    \\\n",
              "0         0.0         0.0         0.0                        0.0   ...     \n",
              "1         0.0         0.0         0.0                        0.0   ...     \n",
              "2         0.0         0.0         0.0                        0.0   ...     \n",
              "3         0.0         0.0         0.0                        0.0   ...     \n",
              "4         0.0         0.0         0.0                        0.0   ...     \n",
              "\n",
              "   grid_0.992  grid_0.993  grid_0.994  grid_0.995  grid_0.996  grid_0.997  \\\n",
              "0    0.009782    0.014963    0.011041    0.007322    0.009133    0.014201   \n",
              "1    0.009782    0.014963    0.011041    0.007322    0.009133    0.014201   \n",
              "2    0.009782    0.014963    0.011041    0.007322    0.009133    0.014201   \n",
              "3    0.009782    0.014963    0.011041    0.007322    0.009133    0.014201   \n",
              "4    0.009782    0.014963    0.011041    0.007322    0.009133    0.014201   \n",
              "\n",
              "   grid_0.998  grid_0.999  grid_1.0   label  \n",
              "0    0.016473    0.014228  0.010707  RASGAT  \n",
              "1    0.016473    0.014228  0.010707  RASGAT  \n",
              "2    0.016473    0.014228  0.010707  RASGAT  \n",
              "3    0.016473    0.014228  0.010707  RASGAT  \n",
              "4    0.016473    0.014228  0.010707  RASGAT  \n",
              "\n",
              "[5 rows x 1002 columns]"
            ]
          },
          "metadata": {
            "tags": []
          },
          "execution_count": 18
        }
      ]
    },
    {
      "metadata": {
        "id": "XOhsb2n6Eu7D",
        "colab_type": "code",
        "outputId": "0c2f5472-6d52-4740-a943-cafe6762ecff",
        "colab": {
          "base_uri": "https://localhost:8080/",
          "height": 34
        }
      },
      "cell_type": "code",
      "source": [
        "Data.shape"
      ],
      "execution_count": 0,
      "outputs": [
        {
          "output_type": "execute_result",
          "data": {
            "text/plain": [
              "(148800, 1002)"
            ]
          },
          "metadata": {
            "tags": []
          },
          "execution_count": 19
        }
      ]
    },
    {
      "metadata": {
        "id": "xn9e21_1EsS3",
        "colab_type": "code",
        "colab": {}
      },
      "cell_type": "code",
      "source": [
        "# Train test split\n",
        "idx = random.sample(range(148800), 29920) # 80% for training\n",
        "all_index = list(np.setdiff1d(range(148800), idx))\n",
        "\n",
        "# Getting X_train, X_val, y_train and scale them\n",
        "X_train = Data.iloc[all_index,:].drop('label', axis = 1)\n",
        "X_val = Data.iloc[idx,:].drop('label', axis = 1)\n",
        "y_train = pd.get_dummies(Data.iloc[all_index,:]['label'])\n",
        "\n",
        "names = y_train.columns\n",
        "mapping = {}\n",
        "i = 0\n",
        "for n in names:\n",
        "    mapping[i] = n\n",
        "    i+=1\n",
        "\n",
        "# scaler = StandardScaler()\n",
        "scaler = MinMaxScaler()\n",
        "X_train = scaler.fit_transform(X_train)\n",
        "X_val = scaler.transform(X_val)"
      ],
      "execution_count": 0,
      "outputs": []
    },
    {
      "metadata": {
        "id": "SdIUQgGQEywo",
        "colab_type": "code",
        "colab": {}
      },
      "cell_type": "code",
      "source": [
        "# Construct CNN layers\n",
        "# LeNet-5\n",
        "cnn_model = Sequential()\n",
        "cnn_model.add(Conv1D(6, 5, strides = 1, activation = 'relu', input_shape = (1001, 1)))\n",
        "cnn_model.add(MaxPooling1D(2, strides = 2))\n",
        "cnn_model.add(Dropout(0.2))\n",
        "cnn_model.add(Conv1D(16, 5, strides = 1, activation = 'relu'))\n",
        "cnn_model.add(MaxPooling1D(2, strides = 2))\n",
        "cnn_model.add(Dropout(0.2))\n",
        "cnn_model.add(Conv1D(32, 5, strides = 1, activation = 'relu'))\n",
        "cnn_model.add(MaxPooling1D(2, strides = 2))\n",
        "cnn_model.add(Dropout(0.2))\n",
        "cnn_model.add(Flatten())\n",
        "cnn_model.add(Dense(120, activation = 'relu'))\n",
        "cnn_model.add(Dense(84, activation = 'relu'))\n",
        "cnn_model.add(Dense(186, activation = 'softmax', activity_regularizer = keras.regularizers.l2(0.1)))\n",
        "cnn_model.compile(loss='categorical_crossentropy', optimizer = 'adam', metrics = ['accuracy'])"
      ],
      "execution_count": 0,
      "outputs": []
    },
    {
      "metadata": {
        "id": "I08pCxcSE4M_",
        "colab_type": "code",
        "outputId": "dc7350fe-36a2-4446-a29c-13087fe521f1",
        "colab": {
          "base_uri": "https://localhost:8080/",
          "height": 3434
        }
      },
      "cell_type": "code",
      "source": [
        "# Fitting CNN model\n",
        "cnn_model.fit(X_train.reshape(118880, 1001, 1), y_train.values, batch_size = 64, epochs = 100, verbose = 1)\n",
        "\n",
        "# Validating the CNN modela\n",
        "pred = cnn_model.predict(X_val.reshape(29920, 1001, 1))\n",
        "out = [np.argmax(p) for p in pred]\n",
        "out = np.array(out)\n",
        "\n",
        "# Create category mapping dictionary\n",
        "y_val = Data.iloc[idx,:]['label']\n",
        "    \n",
        "# Calculating accuracy\n",
        "predicted = np.vectorize(mapping.get)(out)\n",
        "print('Accuracy: '+ str(round(np.sum(predicted == y_val)/29920,2) * 100) + '%')"
      ],
      "execution_count": 0,
      "outputs": [
        {
          "output_type": "stream",
          "text": [
            "Epoch 1/100\n",
            "118880/118880 [==============================] - 27s 229us/step - loss: 2.1418 - acc: 0.8579\n",
            "Epoch 2/100\n",
            "118880/118880 [==============================] - 27s 223us/step - loss: 1.9105 - acc: 0.9310\n",
            "Epoch 3/100\n",
            "118880/118880 [==============================] - 26s 222us/step - loss: 1.8900 - acc: 0.9374\n",
            "Epoch 4/100\n",
            "118880/118880 [==============================] - 27s 223us/step - loss: 1.8794 - acc: 0.9390\n",
            "Epoch 5/100\n",
            "118880/118880 [==============================] - 26s 223us/step - loss: 1.8717 - acc: 0.9417\n",
            "Epoch 6/100\n",
            "118880/118880 [==============================] - 27s 223us/step - loss: 1.8660 - acc: 0.9429\n",
            "Epoch 7/100\n",
            "118880/118880 [==============================] - 26s 222us/step - loss: 1.8615 - acc: 0.9443\n",
            "Epoch 8/100\n",
            "118880/118880 [==============================] - 27s 224us/step - loss: 1.8576 - acc: 0.9472\n",
            "Epoch 9/100\n",
            "118880/118880 [==============================] - 27s 224us/step - loss: 1.8545 - acc: 0.9489\n",
            "Epoch 10/100\n",
            "118880/118880 [==============================] - 27s 224us/step - loss: 1.8524 - acc: 0.9494\n",
            "Epoch 11/100\n",
            "118880/118880 [==============================] - 27s 224us/step - loss: 1.8500 - acc: 0.9506\n",
            "Epoch 12/100\n",
            "118880/118880 [==============================] - 27s 223us/step - loss: 1.8484 - acc: 0.9531\n",
            "Epoch 13/100\n",
            "118880/118880 [==============================] - 27s 223us/step - loss: 1.8470 - acc: 0.9542\n",
            "Epoch 14/100\n",
            "118880/118880 [==============================] - 27s 224us/step - loss: 1.8456 - acc: 0.9552\n",
            "Epoch 15/100\n",
            "118880/118880 [==============================] - 27s 223us/step - loss: 1.8451 - acc: 0.9548\n",
            "Epoch 16/100\n",
            "118880/118880 [==============================] - 27s 224us/step - loss: 1.8433 - acc: 0.9564\n",
            "Epoch 17/100\n",
            "118880/118880 [==============================] - 27s 224us/step - loss: 1.8429 - acc: 0.9566\n",
            "Epoch 18/100\n",
            "118880/118880 [==============================] - 27s 223us/step - loss: 1.8418 - acc: 0.9583\n",
            "Epoch 19/100\n",
            "118880/118880 [==============================] - 27s 223us/step - loss: 1.8410 - acc: 0.9591\n",
            "Epoch 20/100\n",
            "118880/118880 [==============================] - 27s 224us/step - loss: 1.8408 - acc: 0.9585\n",
            "Epoch 21/100\n",
            "118880/118880 [==============================] - 27s 224us/step - loss: 1.8400 - acc: 0.9593\n",
            "Epoch 22/100\n",
            "118880/118880 [==============================] - 27s 223us/step - loss: 1.8394 - acc: 0.9601\n",
            "Epoch 23/100\n",
            "118880/118880 [==============================] - 27s 224us/step - loss: 1.8390 - acc: 0.9601\n",
            "Epoch 24/100\n",
            "118880/118880 [==============================] - 27s 224us/step - loss: 1.8383 - acc: 0.9612\n",
            "Epoch 25/100\n",
            "118880/118880 [==============================] - 27s 224us/step - loss: 1.8378 - acc: 0.9616\n",
            "Epoch 26/100\n",
            "118880/118880 [==============================] - 27s 224us/step - loss: 1.8373 - acc: 0.9619\n",
            "Epoch 27/100\n",
            "118880/118880 [==============================] - 27s 224us/step - loss: 1.8371 - acc: 0.9622\n",
            "Epoch 28/100\n",
            "118880/118880 [==============================] - 27s 224us/step - loss: 1.8367 - acc: 0.9622\n",
            "Epoch 29/100\n",
            "118880/118880 [==============================] - 27s 223us/step - loss: 1.8356 - acc: 0.9631\n",
            "Epoch 30/100\n",
            "118880/118880 [==============================] - 26s 223us/step - loss: 1.8360 - acc: 0.9636\n",
            "Epoch 31/100\n",
            "118880/118880 [==============================] - 27s 224us/step - loss: 1.8354 - acc: 0.9639\n",
            "Epoch 32/100\n",
            "118880/118880 [==============================] - 27s 224us/step - loss: 1.8351 - acc: 0.9645\n",
            "Epoch 33/100\n",
            "118880/118880 [==============================] - 27s 223us/step - loss: 1.8344 - acc: 0.9663\n",
            "Epoch 34/100\n",
            "118880/118880 [==============================] - 27s 223us/step - loss: 1.8342 - acc: 0.9659\n",
            "Epoch 35/100\n",
            "118880/118880 [==============================] - 27s 224us/step - loss: 1.8342 - acc: 0.9656\n",
            "Epoch 36/100\n",
            "118880/118880 [==============================] - 27s 223us/step - loss: 1.8334 - acc: 0.9669\n",
            "Epoch 37/100\n",
            "118880/118880 [==============================] - 27s 223us/step - loss: 1.8332 - acc: 0.9667\n",
            "Epoch 38/100\n",
            "118880/118880 [==============================] - 27s 223us/step - loss: 1.8330 - acc: 0.9669\n",
            "Epoch 39/100\n",
            "118880/118880 [==============================] - 27s 224us/step - loss: 1.8330 - acc: 0.9678\n",
            "Epoch 40/100\n",
            "118880/118880 [==============================] - 27s 224us/step - loss: 1.8324 - acc: 0.9678\n",
            "Epoch 41/100\n",
            "118880/118880 [==============================] - 27s 224us/step - loss: 1.8321 - acc: 0.9679\n",
            "Epoch 42/100\n",
            "118880/118880 [==============================] - 26s 222us/step - loss: 1.8323 - acc: 0.9681\n",
            "Epoch 43/100\n",
            "118880/118880 [==============================] - 27s 224us/step - loss: 1.8325 - acc: 0.9674\n",
            "Epoch 44/100\n",
            "118880/118880 [==============================] - 27s 224us/step - loss: 1.8318 - acc: 0.9681\n",
            "Epoch 45/100\n",
            "118880/118880 [==============================] - 27s 224us/step - loss: 1.8317 - acc: 0.9689\n",
            "Epoch 46/100\n",
            "118880/118880 [==============================] - 27s 224us/step - loss: 1.8314 - acc: 0.9691\n",
            "Epoch 47/100\n",
            "118880/118880 [==============================] - 27s 223us/step - loss: 1.8312 - acc: 0.9690\n",
            "Epoch 48/100\n",
            "118880/118880 [==============================] - 27s 224us/step - loss: 1.8319 - acc: 0.9683\n",
            "Epoch 49/100\n",
            "118880/118880 [==============================] - 27s 223us/step - loss: 1.8307 - acc: 0.9706\n",
            "Epoch 50/100\n",
            "118880/118880 [==============================] - 26s 223us/step - loss: 1.8307 - acc: 0.9696\n",
            "Epoch 51/100\n",
            "118880/118880 [==============================] - 27s 223us/step - loss: 1.8303 - acc: 0.9704\n",
            "Epoch 52/100\n",
            "118880/118880 [==============================] - 27s 223us/step - loss: 1.8308 - acc: 0.9697\n",
            "Epoch 53/100\n",
            "118880/118880 [==============================] - 26s 223us/step - loss: 1.8304 - acc: 0.9703\n",
            "Epoch 54/100\n",
            "118880/118880 [==============================] - 26s 222us/step - loss: 1.8297 - acc: 0.9708\n",
            "Epoch 55/100\n",
            "118880/118880 [==============================] - 26s 222us/step - loss: 1.8294 - acc: 0.9710\n",
            "Epoch 56/100\n",
            "118880/118880 [==============================] - 26s 222us/step - loss: 1.8294 - acc: 0.9712\n",
            "Epoch 57/100\n",
            "118880/118880 [==============================] - 27s 223us/step - loss: 1.8291 - acc: 0.9719\n",
            "Epoch 58/100\n",
            "118880/118880 [==============================] - 26s 223us/step - loss: 1.8290 - acc: 0.9721\n",
            "Epoch 59/100\n",
            "118880/118880 [==============================] - 27s 224us/step - loss: 1.8291 - acc: 0.9719\n",
            "Epoch 60/100\n",
            "118880/118880 [==============================] - 27s 223us/step - loss: 1.8291 - acc: 0.9719\n",
            "Epoch 61/100\n",
            "118880/118880 [==============================] - 26s 223us/step - loss: 1.8285 - acc: 0.9723\n",
            "Epoch 62/100\n",
            "118880/118880 [==============================] - 27s 223us/step - loss: 1.8283 - acc: 0.9725\n",
            "Epoch 63/100\n",
            "118880/118880 [==============================] - 27s 223us/step - loss: 1.8281 - acc: 0.9728\n",
            "Epoch 64/100\n",
            "118880/118880 [==============================] - 26s 223us/step - loss: 1.8284 - acc: 0.9729\n",
            "Epoch 65/100\n",
            "118880/118880 [==============================] - 26s 222us/step - loss: 1.8283 - acc: 0.9730\n",
            "Epoch 66/100\n",
            "118880/118880 [==============================] - 26s 223us/step - loss: 1.8284 - acc: 0.9722\n",
            "Epoch 67/100\n",
            "118880/118880 [==============================] - 27s 223us/step - loss: 1.8284 - acc: 0.9724\n",
            "Epoch 68/100\n",
            "118880/118880 [==============================] - 26s 222us/step - loss: 1.8279 - acc: 0.9734\n",
            "Epoch 69/100\n",
            "118880/118880 [==============================] - 26s 222us/step - loss: 1.8277 - acc: 0.9732\n",
            "Epoch 70/100\n",
            "118880/118880 [==============================] - 26s 222us/step - loss: 1.8271 - acc: 0.9736\n",
            "Epoch 71/100\n",
            "118880/118880 [==============================] - 27s 223us/step - loss: 1.8272 - acc: 0.9737\n",
            "Epoch 72/100\n",
            "118880/118880 [==============================] - 27s 223us/step - loss: 1.8271 - acc: 0.9739\n",
            "Epoch 73/100\n",
            "118880/118880 [==============================] - 27s 224us/step - loss: 1.8275 - acc: 0.9737\n",
            "Epoch 74/100\n",
            "118880/118880 [==============================] - 27s 224us/step - loss: 1.8270 - acc: 0.9735\n",
            "Epoch 75/100\n",
            "118880/118880 [==============================] - 27s 224us/step - loss: 1.8271 - acc: 0.9743\n",
            "Epoch 76/100\n",
            "118880/118880 [==============================] - 27s 223us/step - loss: 1.8267 - acc: 0.9743\n",
            "Epoch 77/100\n",
            "118880/118880 [==============================] - 26s 223us/step - loss: 1.8270 - acc: 0.9741\n",
            "Epoch 78/100\n",
            "118880/118880 [==============================] - 27s 223us/step - loss: 1.8270 - acc: 0.9741\n",
            "Epoch 79/100\n",
            "118880/118880 [==============================] - 27s 223us/step - loss: 1.8267 - acc: 0.9740\n",
            "Epoch 80/100\n",
            "118880/118880 [==============================] - 27s 223us/step - loss: 1.8264 - acc: 0.9749\n",
            "Epoch 81/100\n",
            "118880/118880 [==============================] - 27s 224us/step - loss: 1.8270 - acc: 0.9738\n",
            "Epoch 82/100\n",
            "118880/118880 [==============================] - 27s 223us/step - loss: 1.8261 - acc: 0.9756\n",
            "Epoch 83/100\n",
            "118880/118880 [==============================] - 27s 224us/step - loss: 1.8261 - acc: 0.9751\n",
            "Epoch 84/100\n",
            "118880/118880 [==============================] - 27s 224us/step - loss: 1.8267 - acc: 0.9748\n",
            "Epoch 85/100\n",
            "118880/118880 [==============================] - 27s 224us/step - loss: 1.8260 - acc: 0.9751\n",
            "Epoch 86/100\n",
            "118880/118880 [==============================] - 27s 224us/step - loss: 1.8259 - acc: 0.9745\n",
            "Epoch 87/100\n",
            "118880/118880 [==============================] - 27s 223us/step - loss: 1.8260 - acc: 0.9753\n",
            "Epoch 88/100\n",
            "118880/118880 [==============================] - 26s 223us/step - loss: 1.8253 - acc: 0.9754\n",
            "Epoch 89/100\n",
            "118880/118880 [==============================] - 26s 222us/step - loss: 1.8255 - acc: 0.9755\n",
            "Epoch 90/100\n",
            "118880/118880 [==============================] - 27s 224us/step - loss: 1.8254 - acc: 0.9758\n",
            "Epoch 91/100\n",
            "118880/118880 [==============================] - 27s 224us/step - loss: 1.8252 - acc: 0.9759\n",
            "Epoch 92/100\n",
            "118880/118880 [==============================] - 27s 223us/step - loss: 1.8250 - acc: 0.9763\n",
            "Epoch 93/100\n",
            "118880/118880 [==============================] - 27s 223us/step - loss: 1.8254 - acc: 0.9760\n",
            "Epoch 94/100\n",
            "118880/118880 [==============================] - 27s 223us/step - loss: 1.8252 - acc: 0.9757\n",
            "Epoch 95/100\n",
            "118880/118880 [==============================] - 27s 223us/step - loss: 1.8249 - acc: 0.9764\n",
            "Epoch 96/100\n",
            "118880/118880 [==============================] - 27s 223us/step - loss: 1.8249 - acc: 0.9762\n",
            "Epoch 97/100\n",
            "118880/118880 [==============================] - 27s 223us/step - loss: 1.8252 - acc: 0.9761\n",
            "Epoch 98/100\n",
            "118880/118880 [==============================] - 27s 223us/step - loss: 1.8249 - acc: 0.9761\n",
            "Epoch 99/100\n",
            "118880/118880 [==============================] - 27s 223us/step - loss: 1.8251 - acc: 0.9756\n",
            "Epoch 100/100\n",
            "118880/118880 [==============================] - 26s 222us/step - loss: 1.8240 - acc: 0.9767\n",
            "Accuracy: 96.0%\n"
          ],
          "name": "stdout"
        }
      ]
    },
    {
      "metadata": {
        "id": "dY5UBMiEE7OW",
        "colab_type": "code",
        "colab": {}
      },
      "cell_type": "code",
      "source": [
        "# Save model\n",
        "cnn_model.save(\"/content/gdrive/My Drive/Project MOF/cnn_v1.h5\")"
      ],
      "execution_count": 0,
      "outputs": []
    },
    {
      "metadata": {
        "id": "GaX9o9X3FFO_",
        "colab_type": "code",
        "outputId": "9a5befab-b08c-4f59-8cc6-b75d1c3f2d28",
        "colab": {
          "base_uri": "https://localhost:8080/",
          "height": 253
        }
      },
      "cell_type": "code",
      "source": [
        "# Load and test on the experimental data\n",
        "with open(ls+'test__None_.pickle', 'rb') as f:\n",
        "    Test = pickle.load(f)\n",
        "\n",
        "Test.head()"
      ],
      "execution_count": 0,
      "outputs": [
        {
          "output_type": "execute_result",
          "data": {
            "text/html": [
              "<div>\n",
              "<style scoped>\n",
              "    .dataframe tbody tr th:only-of-type {\n",
              "        vertical-align: middle;\n",
              "    }\n",
              "\n",
              "    .dataframe tbody tr th {\n",
              "        vertical-align: top;\n",
              "    }\n",
              "\n",
              "    .dataframe thead th {\n",
              "        text-align: right;\n",
              "    }\n",
              "</style>\n",
              "<table border=\"1\" class=\"dataframe\">\n",
              "  <thead>\n",
              "    <tr style=\"text-align: right;\">\n",
              "      <th></th>\n",
              "      <th>grid_0.0</th>\n",
              "      <th>grid_0.001</th>\n",
              "      <th>grid_0.002</th>\n",
              "      <th>grid_0.003</th>\n",
              "      <th>grid_0.004</th>\n",
              "      <th>grid_0.005</th>\n",
              "      <th>grid_0.006</th>\n",
              "      <th>grid_0.007</th>\n",
              "      <th>grid_0.008</th>\n",
              "      <th>grid_0.009000000000000001</th>\n",
              "      <th>...</th>\n",
              "      <th>grid_0.992</th>\n",
              "      <th>grid_0.993</th>\n",
              "      <th>grid_0.994</th>\n",
              "      <th>grid_0.995</th>\n",
              "      <th>grid_0.996</th>\n",
              "      <th>grid_0.997</th>\n",
              "      <th>grid_0.998</th>\n",
              "      <th>grid_0.999</th>\n",
              "      <th>grid_1.0</th>\n",
              "      <th>label</th>\n",
              "    </tr>\n",
              "  </thead>\n",
              "  <tbody>\n",
              "    <tr>\n",
              "      <th>0</th>\n",
              "      <td>0.033514</td>\n",
              "      <td>0.020624</td>\n",
              "      <td>0.027069</td>\n",
              "      <td>0.023330</td>\n",
              "      <td>0.000000</td>\n",
              "      <td>0.046661</td>\n",
              "      <td>0.039185</td>\n",
              "      <td>0.053880</td>\n",
              "      <td>0.034029</td>\n",
              "      <td>0.057747</td>\n",
              "      <td>...</td>\n",
              "      <td>0.034544</td>\n",
              "      <td>0.065352</td>\n",
              "      <td>0.048982</td>\n",
              "      <td>0.055169</td>\n",
              "      <td>0.043825</td>\n",
              "      <td>0.048208</td>\n",
              "      <td>0.050271</td>\n",
              "      <td>0.037638</td>\n",
              "      <td>0.054138</td>\n",
              "      <td>ZIF-67</td>\n",
              "    </tr>\n",
              "    <tr>\n",
              "      <th>1</th>\n",
              "      <td>0.034760</td>\n",
              "      <td>0.042744</td>\n",
              "      <td>0.025364</td>\n",
              "      <td>0.007046</td>\n",
              "      <td>0.096761</td>\n",
              "      <td>0.002820</td>\n",
              "      <td>0.030059</td>\n",
              "      <td>0.021604</td>\n",
              "      <td>0.025364</td>\n",
              "      <td>0.033349</td>\n",
              "      <td>...</td>\n",
              "      <td>0.568339</td>\n",
              "      <td>0.564113</td>\n",
              "      <td>0.563644</td>\n",
              "      <td>0.537812</td>\n",
              "      <td>0.566462</td>\n",
              "      <td>0.549084</td>\n",
              "      <td>0.538280</td>\n",
              "      <td>0.569748</td>\n",
              "      <td>0.620950</td>\n",
              "      <td>ZIF-67</td>\n",
              "    </tr>\n",
              "    <tr>\n",
              "      <th>2</th>\n",
              "      <td>0.032539</td>\n",
              "      <td>0.046020</td>\n",
              "      <td>0.042301</td>\n",
              "      <td>0.044392</td>\n",
              "      <td>0.039976</td>\n",
              "      <td>0.062521</td>\n",
              "      <td>0.064148</td>\n",
              "      <td>0.049273</td>\n",
              "      <td>0.067402</td>\n",
              "      <td>0.057640</td>\n",
              "      <td>...</td>\n",
              "      <td>0.038581</td>\n",
              "      <td>0.042765</td>\n",
              "      <td>0.022313</td>\n",
              "      <td>0.022429</td>\n",
              "      <td>0.041836</td>\n",
              "      <td>0.031144</td>\n",
              "      <td>0.028820</td>\n",
              "      <td>0.036722</td>\n",
              "      <td>0.043695</td>\n",
              "      <td>ZIF-67</td>\n",
              "    </tr>\n",
              "    <tr>\n",
              "      <th>3</th>\n",
              "      <td>0.029431</td>\n",
              "      <td>0.080294</td>\n",
              "      <td>0.040947</td>\n",
              "      <td>0.061420</td>\n",
              "      <td>0.055022</td>\n",
              "      <td>0.084453</td>\n",
              "      <td>0.068458</td>\n",
              "      <td>0.102047</td>\n",
              "      <td>0.063980</td>\n",
              "      <td>0.064299</td>\n",
              "      <td>...</td>\n",
              "      <td>0.066539</td>\n",
              "      <td>0.047345</td>\n",
              "      <td>0.050544</td>\n",
              "      <td>0.031030</td>\n",
              "      <td>0.039667</td>\n",
              "      <td>0.059501</td>\n",
              "      <td>0.039667</td>\n",
              "      <td>0.045106</td>\n",
              "      <td>0.047345</td>\n",
              "      <td>ZIF-67</td>\n",
              "    </tr>\n",
              "    <tr>\n",
              "      <th>4</th>\n",
              "      <td>0.038178</td>\n",
              "      <td>0.038881</td>\n",
              "      <td>0.037756</td>\n",
              "      <td>0.039795</td>\n",
              "      <td>0.033115</td>\n",
              "      <td>0.037334</td>\n",
              "      <td>0.038178</td>\n",
              "      <td>0.034873</td>\n",
              "      <td>0.033397</td>\n",
              "      <td>0.039303</td>\n",
              "      <td>...</td>\n",
              "      <td>0.013148</td>\n",
              "      <td>0.009843</td>\n",
              "      <td>0.012304</td>\n",
              "      <td>0.013007</td>\n",
              "      <td>0.015116</td>\n",
              "      <td>0.010617</td>\n",
              "      <td>0.010898</td>\n",
              "      <td>0.008156</td>\n",
              "      <td>0.011742</td>\n",
              "      <td>ZIF-8</td>\n",
              "    </tr>\n",
              "  </tbody>\n",
              "</table>\n",
              "<p>5 rows × 1002 columns</p>\n",
              "</div>"
            ],
            "text/plain": [
              "   grid_0.0  grid_0.001  grid_0.002  grid_0.003  grid_0.004  grid_0.005  \\\n",
              "0  0.033514    0.020624    0.027069    0.023330    0.000000    0.046661   \n",
              "1  0.034760    0.042744    0.025364    0.007046    0.096761    0.002820   \n",
              "2  0.032539    0.046020    0.042301    0.044392    0.039976    0.062521   \n",
              "3  0.029431    0.080294    0.040947    0.061420    0.055022    0.084453   \n",
              "4  0.038178    0.038881    0.037756    0.039795    0.033115    0.037334   \n",
              "\n",
              "   grid_0.006  grid_0.007  grid_0.008  grid_0.009000000000000001   ...    \\\n",
              "0    0.039185    0.053880    0.034029                   0.057747   ...     \n",
              "1    0.030059    0.021604    0.025364                   0.033349   ...     \n",
              "2    0.064148    0.049273    0.067402                   0.057640   ...     \n",
              "3    0.068458    0.102047    0.063980                   0.064299   ...     \n",
              "4    0.038178    0.034873    0.033397                   0.039303   ...     \n",
              "\n",
              "   grid_0.992  grid_0.993  grid_0.994  grid_0.995  grid_0.996  grid_0.997  \\\n",
              "0    0.034544    0.065352    0.048982    0.055169    0.043825    0.048208   \n",
              "1    0.568339    0.564113    0.563644    0.537812    0.566462    0.549084   \n",
              "2    0.038581    0.042765    0.022313    0.022429    0.041836    0.031144   \n",
              "3    0.066539    0.047345    0.050544    0.031030    0.039667    0.059501   \n",
              "4    0.013148    0.009843    0.012304    0.013007    0.015116    0.010617   \n",
              "\n",
              "   grid_0.998  grid_0.999  grid_1.0   label  \n",
              "0    0.050271    0.037638  0.054138  ZIF-67  \n",
              "1    0.538280    0.569748  0.620950  ZIF-67  \n",
              "2    0.028820    0.036722  0.043695  ZIF-67  \n",
              "3    0.039667    0.045106  0.047345  ZIF-67  \n",
              "4    0.010898    0.008156  0.011742   ZIF-8  \n",
              "\n",
              "[5 rows x 1002 columns]"
            ]
          },
          "metadata": {
            "tags": []
          },
          "execution_count": 20
        }
      ]
    },
    {
      "metadata": {
        "id": "ARphaxG2FN6h",
        "colab_type": "code",
        "outputId": "f0fceccc-aa44-42e0-e825-8d3eb37b00bd",
        "colab": {
          "base_uri": "https://localhost:8080/",
          "height": 34
        }
      },
      "cell_type": "code",
      "source": [
        "Test.shape"
      ],
      "execution_count": 0,
      "outputs": [
        {
          "output_type": "execute_result",
          "data": {
            "text/plain": [
              "(14, 1002)"
            ]
          },
          "metadata": {
            "tags": []
          },
          "execution_count": 21
        }
      ]
    },
    {
      "metadata": {
        "id": "GDSIB-7iFQ-5",
        "colab_type": "code",
        "outputId": "1ae0b8bd-5b2b-426e-8380-04d73c335c89",
        "colab": {
          "base_uri": "https://localhost:8080/",
          "height": 51
        }
      },
      "cell_type": "code",
      "source": [
        "X_test = scaler.transform(Test.iloc[:,:-1])\n",
        "pred = cnn_model.predict(X_test.reshape(14, 1001, 1))\n",
        "out = [np.argmax(p) for p in pred]\n",
        "out = np.array(out)\n",
        "predicted = np.vectorize(mapping.get)(out)\n",
        "print(predicted)"
      ],
      "execution_count": 0,
      "outputs": [
        {
          "output_type": "stream",
          "text": [
            "['ZIF-65' 'AFIXES' 'ZIF-65' 'ZIF-65' 'ZIF-65' 'ZIF-65' 'ZIF-65' 'ZIF-65'\n",
            " 'ZIF-12' 'ZIF-65' 'ZIF-90' 'ZIF-90' 'ZIF-12' 'ZIF-12']\n"
          ],
          "name": "stdout"
        }
      ]
    },
    {
      "metadata": {
        "id": "tSy5CQ_BlVHf",
        "colab_type": "code",
        "colab": {}
      },
      "cell_type": "code",
      "source": [
        "preds = []\n",
        "for p in pred:\n",
        "  P = []\n",
        "  for i in np.argsort(p)[::-1][0:3]:\n",
        "    P.append(mapping[i])\n",
        "  preds.append(P)"
      ],
      "execution_count": 0,
      "outputs": []
    },
    {
      "metadata": {
        "id": "HNxq5dXRjLq5",
        "colab_type": "code",
        "outputId": "153b21bc-da81-46da-e940-499ea1523e34",
        "colab": {
          "base_uri": "https://localhost:8080/",
          "height": 255
        }
      },
      "cell_type": "code",
      "source": [
        "for p in preds:\n",
        "  print(p)"
      ],
      "execution_count": 0,
      "outputs": [
        {
          "output_type": "stream",
          "text": [
            "['ZIF-65', 'ZIF-90', 'ZIF-8']\n",
            "['AFIXES', 'GORQAF', 'DUT-23']\n",
            "['ZIF-65', 'ZIF-90', 'TENQOS']\n",
            "['ZIF-65', 'ZIF-90', 'ZIF-8']\n",
            "['ZIF-65', 'ZIF-90', 'TENQOS']\n",
            "['ZIF-65', 'ZIF-90', 'LITHUR']\n",
            "['ZIF-65', 'ZIF-90', 'TENQOS']\n",
            "['ZIF-65', 'ZIF-90', 'ZIF-8']\n",
            "['ZIF-12', 'ZIF-71', 'ZIF-90']\n",
            "['ZIF-65', 'ZIF-90', 'LITHUR']\n",
            "['ZIF-90', 'ZIF-65', 'TENQOS']\n",
            "['ZIF-90', 'ZIF-65', 'TENQOS']\n",
            "['ZIF-12', 'ZIF-71', 'ZIF-90']\n",
            "['ZIF-12', 'ZIF-71', 'ZIF-90']\n"
          ],
          "name": "stdout"
        }
      ]
    },
    {
      "metadata": {
        "id": "2y8FMLgZULkU",
        "colab_type": "code",
        "outputId": "b1af888d-8544-4085-fbff-4c9d824fde33",
        "colab": {
          "base_uri": "https://localhost:8080/",
          "height": 272
        }
      },
      "cell_type": "code",
      "source": [
        "Test.label"
      ],
      "execution_count": 0,
      "outputs": [
        {
          "output_type": "execute_result",
          "data": {
            "text/plain": [
              "0     ZIF-67\n",
              "1     ZIF-67\n",
              "2     ZIF-67\n",
              "3     ZIF-67\n",
              "4      ZIF-8\n",
              "5      ZIF-8\n",
              "6      ZIF-8\n",
              "7     ZIF-90\n",
              "8     ZIF-71\n",
              "9      ZIF-8\n",
              "10    ZIF-90\n",
              "11    ZIF-90\n",
              "12    ZIF-71\n",
              "13    ZIF-71\n",
              "Name: label, dtype: object"
            ]
          },
          "metadata": {
            "tags": []
          },
          "execution_count": 33
        }
      ]
    },
    {
      "metadata": {
        "id": "36MXutNfUOpf",
        "colab_type": "code",
        "colab": {}
      },
      "cell_type": "code",
      "source": [
        ""
      ],
      "execution_count": 0,
      "outputs": []
    }
  ]
}