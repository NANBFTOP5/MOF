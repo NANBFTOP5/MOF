{
 "cells": [
  {
   "cell_type": "code",
   "execution_count": 1,
   "metadata": {
    "colab": {},
    "colab_type": "code",
    "id": "hNxmr9HRDq9j"
   },
   "outputs": [
    {
     "name": "stderr",
     "output_type": "stream",
     "text": [
      "Using TensorFlow backend.\n"
     ]
    }
   ],
   "source": [
    "import tensorflow as tf\n",
    "import numpy as np # linear algebra\n",
    "import pandas as pd # data processing, CSV file I/O (e.g. pd.read_csv)\n",
    "import pickle\n",
    "import keras\n",
    "import random\n",
    "from keras.layers.core import Dense, Activation, Dropout\n",
    "from keras.preprocessing.sequence import pad_sequences\n",
    "from keras.layers import Dense, Input, LSTM, Embedding, Dropout, Activation, CuDNNGRU, Conv1D, CuDNNLSTM, Flatten\n",
    "from keras.layers import AveragePooling1D, MaxPooling1D, Bidirectional, GlobalMaxPool1D, Concatenate, GlobalAveragePooling1D, GlobalMaxPooling1D,concatenate\n",
    "from keras.layers import SpatialDropout1D\n",
    "from keras.models import Sequential\n",
    "from keras.callbacks import Callback\n",
    "from sklearn.preprocessing import StandardScaler, MinMaxScaler\n",
    "\n",
    "from keras.initializers import glorot_uniform\n",
    "from keras.layers import Input, Add, Dense, Activation, ZeroPadding1D, BatchNormalization, Flatten, Conv1D, AveragePooling1D, MaxPooling1D, GlobalMaxPooling1D\n",
    "from keras.models import Model, load_model"
   ]
  },
  {
   "cell_type": "code",
   "execution_count": 2,
   "metadata": {
    "colab": {},
    "colab_type": "code",
    "id": "tRPr3RSgEXJZ"
   },
   "outputs": [],
   "source": [
    "import os\n",
    "import warnings\n",
    "from keras import backend as K\n",
    "warnings.filterwarnings('ignore')\n",
    "\n",
    "os.environ['PYTHONHASHSEED'] = '0'"
   ]
  },
  {
   "cell_type": "code",
   "execution_count": 4,
   "metadata": {},
   "outputs": [],
   "source": [
    "names=np.load('name.npy')\n",
    "# names\n",
    "mapping = {}\n",
    "i = 0\n",
    "for n in names:\n",
    "    mapping[i] = n\n",
    "    i+=1"
   ]
  },
  {
   "cell_type": "code",
   "execution_count": 5,
   "metadata": {
    "colab": {
     "base_uri": "https://localhost:8080/",
     "height": 253
    },
    "colab_type": "code",
    "id": "zrHHR88JEjoR",
    "outputId": "76b2a30a-d3d3-44d2-c8bc-c3060ac2f317"
   },
   "outputs": [],
   "source": [
    "X = np.load('new_data.npy')"
   ]
  },
  {
   "cell_type": "code",
   "execution_count": 6,
   "metadata": {},
   "outputs": [],
   "source": [
    "y = np.load('labels.npy')"
   ]
  },
  {
   "cell_type": "code",
   "execution_count": 7,
   "metadata": {},
   "outputs": [],
   "source": [
    "Z = np.c_[X,y]\n",
    "np.random.shuffle(Z)\n",
    "X = Z[:,:-1]\n",
    "y = Z[:,-1]\n",
    "y = y.astype(int)\n",
    "# print(X.shape)\n",
    "# print(y.shape)"
   ]
  },
  {
   "cell_type": "code",
   "execution_count": 8,
   "metadata": {},
   "outputs": [],
   "source": [
    "def identity_block(X, f, filters, stage, block):\n",
    "    \"\"\"\n",
    "    实现图3的恒等块\n",
    "\n",
    "    参数：\n",
    "        X - 输入的tensor类型的数据，维度为( m, 1001， 1)\n",
    "        f - 整数，指定主路径中间的CONV窗口的维度\n",
    "        filters - 整数列表，定义了主路径每层的卷积层的过滤器数量\n",
    "        stage - 整数，根据每层的位置来命名每一层，与block参数一起使用。\n",
    "        block - 字符串，据每层的位置来命名每一层，与stage参数一起使用。\n",
    "\n",
    "    返回：\n",
    "        X - 恒等块的输出，tensor类型，维度为(1001，1)\n",
    "\n",
    "    \"\"\"\n",
    "\n",
    "    #定义命名规则\n",
    "    conv_name_base = \"res\" + str(stage) + block + \"_branch\"\n",
    "    bn_name_base   = \"bn\"  + str(stage) + block + \"_branch\"\n",
    "\n",
    "    #获取过滤器\n",
    "    F1, F2, F3 = filters\n",
    "\n",
    "    #保存输入数据，将会用于为主路径添加捷径\n",
    "    X_shortcut = X\n",
    "\n",
    "    #主路径的第一部分\n",
    "    ##卷积层\n",
    "    X = Conv1D(filters=F1, kernel_size=1, strides=1 ,padding=\"valid\",\n",
    "               name=conv_name_base+\"2a\", kernel_initializer=glorot_uniform(seed=0))(X)\n",
    "    ##归一化\n",
    "    X = BatchNormalization(name=bn_name_base+\"2a\")(X)\n",
    "    ##使用ReLU激活函数\n",
    "    X = Activation(\"relu\")(X)\n",
    "\n",
    "    #主路径的第二部分\n",
    "    ##卷积层\n",
    "    X = Conv1D(filters=F2, kernel_size=f,strides=1, padding=\"same\",\n",
    "               name=conv_name_base+\"2b\", kernel_initializer=glorot_uniform(seed=0))(X)\n",
    "    ##归一化\n",
    "    X = BatchNormalization(name=bn_name_base+\"2b\")(X)\n",
    "    ##使用ReLU激活函数\n",
    "    X = Activation(\"relu\")(X)\n",
    "\n",
    "\n",
    "    #主路径的第三部分\n",
    "    ##卷积层\n",
    "    X = Conv1D(filters=F3, kernel_size=1, strides=1, padding=\"valid\",\n",
    "               name=conv_name_base+\"2c\", kernel_initializer=glorot_uniform(seed=0))(X)\n",
    "    ##归一化\n",
    "    X = BatchNormalization(name=bn_name_base+\"2c\")(X)\n",
    "    ##没有ReLU激活函数\n",
    "\n",
    "    #最后一步：\n",
    "    ##将捷径与输入加在一起\n",
    "    X = Add()([X,X_shortcut])\n",
    "    ##使用ReLU激活函数\n",
    "    X = Activation(\"relu\")(X)\n",
    "\n",
    "    return X\n",
    "\n",
    "def convolutional_block(X, f, filters, stage, block, s=2):\n",
    "    #定义命名规则\n",
    "    conv_name_base = \"res\" + str(stage) + block + \"_branch\"\n",
    "    bn_name_base   = \"bn\"  + str(stage) + block + \"_branch\"\n",
    "\n",
    "    #获取过滤器数量\n",
    "    F1, F2, F3 = filters\n",
    "\n",
    "    #保存输入数据\n",
    "    X_shortcut = X\n",
    "    \n",
    "    #主路径\n",
    "    ##主路径第一部分\n",
    "    X = Conv1D(filters=F1, kernel_size=1, strides=s, padding=\"valid\",\n",
    "               name=conv_name_base+\"2a\", kernel_initializer=glorot_uniform(seed=0))(X)\n",
    "    X = BatchNormalization(name=bn_name_base+\"2a\")(X)\n",
    "    X = Activation(\"relu\")(X)\n",
    "\n",
    "    ##主路径第二部分\n",
    "    X = Conv1D(filters=F2, kernel_size=f, strides=1, padding=\"same\",\n",
    "               name=conv_name_base+\"2b\", kernel_initializer=glorot_uniform(seed=0))(X)\n",
    "    X = BatchNormalization(name=bn_name_base+\"2b\")(X)\n",
    "    X = Activation(\"relu\")(X)\n",
    "\n",
    "    ##主路径第三部分\n",
    "    X = Conv1D(filters=F3, kernel_size=1, strides=1, padding=\"valid\",\n",
    "               name=conv_name_base+\"2c\", kernel_initializer=glorot_uniform(seed=0))(X)\n",
    "    X = BatchNormalization(name=bn_name_base+\"2c\")(X)\n",
    "\n",
    "    #捷径\n",
    "    X_shortcut = Conv1D(filters=F3, kernel_size=1, strides=s, padding=\"valid\",\n",
    "               name=conv_name_base+\"1\", kernel_initializer=glorot_uniform(seed=0))(X_shortcut)\n",
    "    X_shortcut = BatchNormalization(name=bn_name_base+\"1\")(X_shortcut)\n",
    "\n",
    "    #最后一步\n",
    "    X = Add()([X,X_shortcut])\n",
    "    X = Activation(\"relu\")(X)\n",
    "\n",
    "    return X\n",
    "\n",
    "# Construct ResNet50\n",
    "def ResNet50(input_shape=(2251,1),classes=186):\n",
    "    #定义tensor类型的输入数据\n",
    "    X_input = Input(input_shape)\n",
    "\n",
    "    #0填充\n",
    "    X = keras.layers.convolutional.ZeroPadding1D(3)(X_input)\n",
    "\n",
    "    #stage1\n",
    "    X = Conv1D(filters=64, kernel_size=7, strides=2, name=\"conv1\",\n",
    "               kernel_initializer=glorot_uniform(seed=0))(X)\n",
    "    X = BatchNormalization(name=\"bn_conv1\")(X)\n",
    "    X = Activation(\"relu\")(X)\n",
    "    X = MaxPooling1D(pool_size=3, strides=2)(X)\n",
    "\n",
    "    #stage2\n",
    "    X = convolutional_block(X, f=3, filters=[64,64,256], stage=2, block=\"a\", s=1)\n",
    "    X = identity_block(X, f=3, filters=[64,64,256], stage=2, block=\"b\")\n",
    "    X = identity_block(X, f=3, filters=[64,64,256], stage=2, block=\"c\")\n",
    "\n",
    "    #stage3\n",
    "    X = convolutional_block(X, f=3, filters=[128,128,512], stage=3, block=\"a\", s=2)\n",
    "    X = identity_block(X, f=3, filters=[128,128,512], stage=3, block=\"b\")\n",
    "    X = identity_block(X, f=3, filters=[128,128,512], stage=3, block=\"c\")\n",
    "    X = identity_block(X, f=3, filters=[128,128,512], stage=3, block=\"d\")\n",
    "\n",
    "    #stage4\n",
    "    X = convolutional_block(X, f=3, filters=[256,256,1024], stage=4, block=\"a\", s=2)\n",
    "    X = identity_block(X, f=3, filters=[256,256,1024], stage=4, block=\"b\")\n",
    "    X = identity_block(X, f=3, filters=[256,256,1024], stage=4, block=\"c\")\n",
    "    X = identity_block(X, f=3, filters=[256,256,1024], stage=4, block=\"d\")\n",
    "    X = identity_block(X, f=3, filters=[256,256,1024], stage=4, block=\"e\")\n",
    "    X = identity_block(X, f=3, filters=[256,256,1024], stage=4, block=\"f\")\n",
    "\n",
    "    #stage5\n",
    "    X = convolutional_block(X, f=3, filters=[512,512,2048], stage=5, block=\"a\", s=2)\n",
    "    X = identity_block(X, f=3, filters=[512,512,2048], stage=5, block=\"b\")\n",
    "    X = identity_block(X, f=3, filters=[512,512,2048], stage=5, block=\"c\")\n",
    "\n",
    "    #均值池化层\n",
    "    X = AveragePooling1D(pool_size=2,padding=\"same\")(X)\n",
    "\n",
    "    #输出层\n",
    "    X = Flatten()(X)\n",
    "    X = Dense(classes, activation=\"softmax\", name=\"fc\"+str(classes),\n",
    "              kernel_initializer=glorot_uniform(seed=0))(X)\n",
    "\n",
    "\n",
    "    #创建模型\n",
    "    cnn_model = Model(inputs=X_input, outputs=X, name=\"ResNet50\")\n",
    "\n",
    "    return cnn_model\n"
   ]
  },
  {
   "cell_type": "code",
   "execution_count": 9,
   "metadata": {},
   "outputs": [
    {
     "name": "stdout",
     "output_type": "stream",
     "text": [
      "WARNING:tensorflow:From /home/yanghaoyue/anaconda3/lib/python3.7/site-packages/tensorflow/python/framework/op_def_library.py:263: colocate_with (from tensorflow.python.framework.ops) is deprecated and will be removed in a future version.\n",
      "Instructions for updating:\n",
      "Colocations handled automatically by placer.\n"
     ]
    }
   ],
   "source": [
    "cnn_model = ResNet50(input_shape=(2251,1),classes=186)\n",
    "cnn_model.compile(optimizer=\"adam\", loss=\"categorical_crossentropy\", metrics=[\"accuracy\"])"
   ]
  },
  {
   "cell_type": "code",
   "execution_count": 10,
   "metadata": {},
   "outputs": [],
   "source": [
    "def convert_to_one_hot(y, C):\n",
    "    return np.eye(C)[y.reshape(-1)]\n",
    "\n",
    "one_hot_y = convert_to_one_hot(y,186)"
   ]
  },
  {
   "cell_type": "code",
   "execution_count": 11,
   "metadata": {},
   "outputs": [
    {
     "data": {
      "text/plain": [
       "(7254, 186)"
      ]
     },
     "execution_count": 11,
     "metadata": {},
     "output_type": "execute_result"
    }
   ],
   "source": [
    "one_hot_y.shape"
   ]
  },
  {
   "cell_type": "code",
   "execution_count": null,
   "metadata": {
    "colab": {
     "base_uri": "https://localhost:8080/",
     "height": 3434
    },
    "colab_type": "code",
    "id": "I08pCxcSE4M_",
    "outputId": "dc7350fe-36a2-4446-a29c-13087fe521f1"
   },
   "outputs": [
    {
     "name": "stdout",
     "output_type": "stream",
     "text": [
      "WARNING:tensorflow:From /home/yanghaoyue/anaconda3/lib/python3.7/site-packages/tensorflow/python/ops/math_ops.py:3066: to_int32 (from tensorflow.python.ops.math_ops) is deprecated and will be removed in a future version.\n",
      "Instructions for updating:\n",
      "Use tf.cast instead.\n",
      "Epoch 1/100\n",
      "3392/7254 [=============>................] - ETA: 39s - loss: 14.9294 - acc: 0.0590"
     ]
    }
   ],
   "source": [
    "# Fitting CNN model\n",
    "cnn_model.fit(X.reshape(7254, 2251, 1), one_hot_y, batch_size = 64, epochs = 100, verbose = 1)\n"
   ]
  },
  {
   "cell_type": "code",
   "execution_count": 12,
   "metadata": {
    "colab": {},
    "colab_type": "code",
    "id": "dY5UBMiEE7OW"
   },
   "outputs": [],
   "source": [
    "# Save model\n",
    "cnn_model.save(\"Lenet_v1.h5\")"
   ]
  },
  {
   "cell_type": "code",
   "execution_count": 5,
   "metadata": {},
   "outputs": [
    {
     "name": "stdout",
     "output_type": "stream",
     "text": [
      "WARNING:tensorflow:From /home/yanghaoyue/anaconda3/lib/python3.7/site-packages/tensorflow/python/framework/op_def_library.py:263: colocate_with (from tensorflow.python.framework.ops) is deprecated and will be removed in a future version.\n",
      "Instructions for updating:\n",
      "Colocations handled automatically by placer.\n",
      "WARNING:tensorflow:From /home/yanghaoyue/anaconda3/lib/python3.7/site-packages/keras/backend/tensorflow_backend.py:3445: calling dropout (from tensorflow.python.ops.nn_ops) with keep_prob is deprecated and will be removed in a future version.\n",
      "Instructions for updating:\n",
      "Please use `rate` instead of `keep_prob`. Rate should be set to `rate = 1 - keep_prob`.\n",
      "WARNING:tensorflow:From /home/yanghaoyue/anaconda3/lib/python3.7/site-packages/tensorflow/python/ops/math_ops.py:3066: to_int32 (from tensorflow.python.ops.math_ops) is deprecated and will be removed in a future version.\n",
      "Instructions for updating:\n",
      "Use tf.cast instead.\n"
     ]
    }
   ],
   "source": [
    "from keras.models import load_model\n",
    " \n",
    "cnn_model= load_model('Lenet_v1.h5')"
   ]
  },
  {
   "cell_type": "code",
   "execution_count": 14,
   "metadata": {},
   "outputs": [
    {
     "data": {
      "text/plain": [
       "(14, 2251)"
      ]
     },
     "execution_count": 14,
     "metadata": {},
     "output_type": "execute_result"
    }
   ],
   "source": [
    "Test=np.load('mix_test.npy')\n",
    "Test.shape"
   ]
  },
  {
   "cell_type": "code",
   "execution_count": 15,
   "metadata": {},
   "outputs": [
    {
     "name": "stdout",
     "output_type": "stream",
     "text": [
      "(14, 186)\n",
      "['ZIF-65' 'ZIF-65' 'XAYMUF' 'ZIF-65' 'AENCESE10' 'ZIF-7' 'ZIF-75' 'ZIF-75'\n",
      " 'ZIF-75' 'ZIF-12' 'ZIF-75' 'AFEHUO' 'ZIF-75' 'ZIF-5']\n"
     ]
    }
   ],
   "source": [
    "# scaler = MinMaxScaler()\n",
    "# Test = pd.DataFrame(Test)\n",
    "# X_test = scaler.transform(Test.iloc[:,:])\n",
    "# X_test = X[0:14,:]\n",
    "X_test = Test\n",
    "pred = cnn_model.predict(X_test.reshape(14, 2251, 1))\n",
    "print(pred.shape)\n",
    "out = [np.argmax(p) for p in pred]\n",
    "out = np.array(out)\n",
    "predicted = np.vectorize(mapping.get)(out)\n",
    "print(predicted)"
   ]
  },
  {
   "cell_type": "code",
   "execution_count": 16,
   "metadata": {},
   "outputs": [
    {
     "name": "stdout",
     "output_type": "stream",
     "text": [
      "['ZIF-65', 'ZIF-64', 'SAJRAW10', 'BAHGUN04', 'ENCDBZ01', 'ZIF-12', 'CIDNIM', 'ETCUCY10', 'WIWQOI', 'ZIF-14', 'JOSNAG', 'ZIF-5', 'DUT-12']\n",
      "['ZIF-65', 'ZIF-64', 'ENCDBZ01', 'SAJRAW10', 'ETCUCY10', 'REGJIW02', 'BAHGUN04', 'ZIF-12', 'ZIF-5', 'MINVUA01', 'CIDNIM', 'WABVIF', 'ZIF-14']\n",
      "['XAYMUF', 'ZIF-2', 'DUT-10', 'MINVUA01', 'DUT-12', 'JOKXOW', 'PUTYAE', 'GORQAF', 'EDIKEH', 'LATCIS', 'JOKYOX10', 'MIHBAG', 'IDIWOH05']\n",
      "['ZIF-65', 'ZIF-64', 'ENCDBZ01', 'ZIF-5', 'ETCUCY10', 'SAJRAW10', 'REGJIW02', 'BAHGUN04', 'MINVUA01', 'WABVIF', 'ZIF-12', 'Eu', 'QEFNAQ']\n",
      "['AENCESE10', 'ZIF-75', 'MIHBAG', 'ZIF-7', 'TENQOS', 'ZIF-9', 'RAFRUL', 'WABWAY', 'KEGZOL01', 'ZIF-90', 'TILWAM', 'QAYTOZ', 'MIMVEJ']\n",
      "['ZIF-7', 'ZIF-75', 'ZIF-9', 'KEGZOL01', 'AENCESE10', 'WABWAY', 'MIHBAG', 'ZIF-90', 'KEXFIC10', 'WILRIS', 'TILWAM', 'ZIF-72', 'QAYTOZ']\n",
      "['ZIF-75', 'ZIF-7', 'ZIF-9', 'AENCESE10', 'ZIF-90', 'KEGZOL01', 'WABWAY', 'MIHBAG', 'JOKXUC', 'WILRIS', 'UGUTOF', 'ZIF-12', 'ZIWTII']\n",
      "['ZIF-75', 'CIDNIM', 'ZIF-65', 'ZIF-12', 'AFEHUO', 'KEGZOL01', 'ZIF-64', 'UGUTOF', 'JOKYEN', 'ZIF-68', 'XAYMUF', 'QOJVAM', 'WABVIF02']\n",
      "['ZIF-75', 'AFEHUO', 'CIDNIM', 'ZIF-68', 'JOKYEN', 'QOJKAB', 'PIZJEN', 'QOJVAM', 'ZIF-2', 'KEGZOL01', 'MIMVEJ', 'ZIF-7', 'GORQAF']\n",
      "['ZIF-12', 'CIDNIM', 'ZIF-10', 'AFEHUO', 'PIZJEN', 'KEGZOL01', 'XAYMUF', 'QOJKAB', 'CUIMDZ01', 'JOKYAJ10', 'YEFPAA', 'UGUTOF', 'WILRIS']\n",
      "['ZIF-75', 'AFEHUO', 'ZIF-68', 'CIDNIM', 'QOJKAB', 'PIZJEN', 'JOKYEN', 'KEGZOL01', 'UGUTOF', 'RONZID', 'GORQAF', 'ZIF-2', 'XOTHAP']\n",
      "['AFEHUO', 'ZIF-65', 'ZIF-75', 'LUYNAU', 'CIDNIM', 'JOKYEN', 'ZIF-12', 'QOJKAB', 'BAHGUN04', 'ZIF-73', 'KEGZOL01', 'WABVIF02', 'ZIF-4']\n",
      "['ZIF-75', 'AFEHUO', 'ZIF-68', 'XOTHAP', 'ZIF-65', 'LAMFEK', 'LUYNAU', 'ZIWTII', 'ZIF-67', 'QOJKAB', 'CIDNIM', 'PIZJEN', 'BAHGUN04']\n",
      "['ZIF-5', 'ENCDBZ01', 'ZIF-65', 'ETCUCY10', 'REGJIW02', 'WABVIF', 'QEFNAQ', 'ZIF-64', 'SAJRAW10', 'Eu', 'JOKYAJ10', 'ZIF-14', 'CUIMDZ01']\n"
     ]
    }
   ],
   "source": [
    "preds = []\n",
    "for p in pred:\n",
    "  P = []\n",
    "  for i in np.argsort(p)[::-1][0:13]:\n",
    "    P.append(mapping[i])\n",
    "  preds.append(P)\n",
    "for p in preds:\n",
    "  print(p)"
   ]
  },
  {
   "cell_type": "code",
   "execution_count": null,
   "metadata": {},
   "outputs": [],
   "source": []
  },
  {
   "cell_type": "code",
   "execution_count": 0,
   "metadata": {
    "colab": {
     "base_uri": "https://localhost:8080/",
     "height": 253
    },
    "colab_type": "code",
    "id": "GaX9o9X3FFO_",
    "outputId": "9a5befab-b08c-4f59-8cc6-b75d1c3f2d28"
   },
   "outputs": [
    {
     "data": {
      "text/html": [
       "<div>\n",
       "<style scoped>\n",
       "    .dataframe tbody tr th:only-of-type {\n",
       "        vertical-align: middle;\n",
       "    }\n",
       "\n",
       "    .dataframe tbody tr th {\n",
       "        vertical-align: top;\n",
       "    }\n",
       "\n",
       "    .dataframe thead th {\n",
       "        text-align: right;\n",
       "    }\n",
       "</style>\n",
       "<table border=\"1\" class=\"dataframe\">\n",
       "  <thead>\n",
       "    <tr style=\"text-align: right;\">\n",
       "      <th></th>\n",
       "      <th>grid_0.0</th>\n",
       "      <th>grid_0.001</th>\n",
       "      <th>grid_0.002</th>\n",
       "      <th>grid_0.003</th>\n",
       "      <th>grid_0.004</th>\n",
       "      <th>grid_0.005</th>\n",
       "      <th>grid_0.006</th>\n",
       "      <th>grid_0.007</th>\n",
       "      <th>grid_0.008</th>\n",
       "      <th>grid_0.009000000000000001</th>\n",
       "      <th>...</th>\n",
       "      <th>grid_0.992</th>\n",
       "      <th>grid_0.993</th>\n",
       "      <th>grid_0.994</th>\n",
       "      <th>grid_0.995</th>\n",
       "      <th>grid_0.996</th>\n",
       "      <th>grid_0.997</th>\n",
       "      <th>grid_0.998</th>\n",
       "      <th>grid_0.999</th>\n",
       "      <th>grid_1.0</th>\n",
       "      <th>label</th>\n",
       "    </tr>\n",
       "  </thead>\n",
       "  <tbody>\n",
       "    <tr>\n",
       "      <th>0</th>\n",
       "      <td>0.033514</td>\n",
       "      <td>0.020624</td>\n",
       "      <td>0.027069</td>\n",
       "      <td>0.023330</td>\n",
       "      <td>0.000000</td>\n",
       "      <td>0.046661</td>\n",
       "      <td>0.039185</td>\n",
       "      <td>0.053880</td>\n",
       "      <td>0.034029</td>\n",
       "      <td>0.057747</td>\n",
       "      <td>...</td>\n",
       "      <td>0.034544</td>\n",
       "      <td>0.065352</td>\n",
       "      <td>0.048982</td>\n",
       "      <td>0.055169</td>\n",
       "      <td>0.043825</td>\n",
       "      <td>0.048208</td>\n",
       "      <td>0.050271</td>\n",
       "      <td>0.037638</td>\n",
       "      <td>0.054138</td>\n",
       "      <td>ZIF-67</td>\n",
       "    </tr>\n",
       "    <tr>\n",
       "      <th>1</th>\n",
       "      <td>0.034760</td>\n",
       "      <td>0.042744</td>\n",
       "      <td>0.025364</td>\n",
       "      <td>0.007046</td>\n",
       "      <td>0.096761</td>\n",
       "      <td>0.002820</td>\n",
       "      <td>0.030059</td>\n",
       "      <td>0.021604</td>\n",
       "      <td>0.025364</td>\n",
       "      <td>0.033349</td>\n",
       "      <td>...</td>\n",
       "      <td>0.568339</td>\n",
       "      <td>0.564113</td>\n",
       "      <td>0.563644</td>\n",
       "      <td>0.537812</td>\n",
       "      <td>0.566462</td>\n",
       "      <td>0.549084</td>\n",
       "      <td>0.538280</td>\n",
       "      <td>0.569748</td>\n",
       "      <td>0.620950</td>\n",
       "      <td>ZIF-67</td>\n",
       "    </tr>\n",
       "    <tr>\n",
       "      <th>2</th>\n",
       "      <td>0.032539</td>\n",
       "      <td>0.046020</td>\n",
       "      <td>0.042301</td>\n",
       "      <td>0.044392</td>\n",
       "      <td>0.039976</td>\n",
       "      <td>0.062521</td>\n",
       "      <td>0.064148</td>\n",
       "      <td>0.049273</td>\n",
       "      <td>0.067402</td>\n",
       "      <td>0.057640</td>\n",
       "      <td>...</td>\n",
       "      <td>0.038581</td>\n",
       "      <td>0.042765</td>\n",
       "      <td>0.022313</td>\n",
       "      <td>0.022429</td>\n",
       "      <td>0.041836</td>\n",
       "      <td>0.031144</td>\n",
       "      <td>0.028820</td>\n",
       "      <td>0.036722</td>\n",
       "      <td>0.043695</td>\n",
       "      <td>ZIF-67</td>\n",
       "    </tr>\n",
       "    <tr>\n",
       "      <th>3</th>\n",
       "      <td>0.029431</td>\n",
       "      <td>0.080294</td>\n",
       "      <td>0.040947</td>\n",
       "      <td>0.061420</td>\n",
       "      <td>0.055022</td>\n",
       "      <td>0.084453</td>\n",
       "      <td>0.068458</td>\n",
       "      <td>0.102047</td>\n",
       "      <td>0.063980</td>\n",
       "      <td>0.064299</td>\n",
       "      <td>...</td>\n",
       "      <td>0.066539</td>\n",
       "      <td>0.047345</td>\n",
       "      <td>0.050544</td>\n",
       "      <td>0.031030</td>\n",
       "      <td>0.039667</td>\n",
       "      <td>0.059501</td>\n",
       "      <td>0.039667</td>\n",
       "      <td>0.045106</td>\n",
       "      <td>0.047345</td>\n",
       "      <td>ZIF-67</td>\n",
       "    </tr>\n",
       "    <tr>\n",
       "      <th>4</th>\n",
       "      <td>0.038178</td>\n",
       "      <td>0.038881</td>\n",
       "      <td>0.037756</td>\n",
       "      <td>0.039795</td>\n",
       "      <td>0.033115</td>\n",
       "      <td>0.037334</td>\n",
       "      <td>0.038178</td>\n",
       "      <td>0.034873</td>\n",
       "      <td>0.033397</td>\n",
       "      <td>0.039303</td>\n",
       "      <td>...</td>\n",
       "      <td>0.013148</td>\n",
       "      <td>0.009843</td>\n",
       "      <td>0.012304</td>\n",
       "      <td>0.013007</td>\n",
       "      <td>0.015116</td>\n",
       "      <td>0.010617</td>\n",
       "      <td>0.010898</td>\n",
       "      <td>0.008156</td>\n",
       "      <td>0.011742</td>\n",
       "      <td>ZIF-8</td>\n",
       "    </tr>\n",
       "  </tbody>\n",
       "</table>\n",
       "<p>5 rows × 1002 columns</p>\n",
       "</div>"
      ],
      "text/plain": [
       "   grid_0.0  grid_0.001  grid_0.002  grid_0.003  grid_0.004  grid_0.005  \\\n",
       "0  0.033514    0.020624    0.027069    0.023330    0.000000    0.046661   \n",
       "1  0.034760    0.042744    0.025364    0.007046    0.096761    0.002820   \n",
       "2  0.032539    0.046020    0.042301    0.044392    0.039976    0.062521   \n",
       "3  0.029431    0.080294    0.040947    0.061420    0.055022    0.084453   \n",
       "4  0.038178    0.038881    0.037756    0.039795    0.033115    0.037334   \n",
       "\n",
       "   grid_0.006  grid_0.007  grid_0.008  grid_0.009000000000000001   ...    \\\n",
       "0    0.039185    0.053880    0.034029                   0.057747   ...     \n",
       "1    0.030059    0.021604    0.025364                   0.033349   ...     \n",
       "2    0.064148    0.049273    0.067402                   0.057640   ...     \n",
       "3    0.068458    0.102047    0.063980                   0.064299   ...     \n",
       "4    0.038178    0.034873    0.033397                   0.039303   ...     \n",
       "\n",
       "   grid_0.992  grid_0.993  grid_0.994  grid_0.995  grid_0.996  grid_0.997  \\\n",
       "0    0.034544    0.065352    0.048982    0.055169    0.043825    0.048208   \n",
       "1    0.568339    0.564113    0.563644    0.537812    0.566462    0.549084   \n",
       "2    0.038581    0.042765    0.022313    0.022429    0.041836    0.031144   \n",
       "3    0.066539    0.047345    0.050544    0.031030    0.039667    0.059501   \n",
       "4    0.013148    0.009843    0.012304    0.013007    0.015116    0.010617   \n",
       "\n",
       "   grid_0.998  grid_0.999  grid_1.0   label  \n",
       "0    0.050271    0.037638  0.054138  ZIF-67  \n",
       "1    0.538280    0.569748  0.620950  ZIF-67  \n",
       "2    0.028820    0.036722  0.043695  ZIF-67  \n",
       "3    0.039667    0.045106  0.047345  ZIF-67  \n",
       "4    0.010898    0.008156  0.011742   ZIF-8  \n",
       "\n",
       "[5 rows x 1002 columns]"
      ]
     },
     "execution_count": 20,
     "metadata": {
      "tags": []
     },
     "output_type": "execute_result"
    }
   ],
   "source": [
    "# Load and test on the experimental dat07148a\n",
    "with open(ls+'test__None_.pickle', 'rb') as f:\n",
    "    Test = pickle.load(f)\n",
    "\n",
    "Test.head()"
   ]
  },
  {
   "cell_type": "code",
   "execution_count": 0,
   "metadata": {
    "colab": {
     "base_uri": "https://localhost:8080/",
     "height": 34
    },
    "colab_type": "code",
    "id": "ARphaxG2FN6h",
    "outputId": "f0fceccc-aa44-42e0-e825-8d3eb37b00bd"
   },
   "outputs": [
    {
     "data": {
      "text/plain": [
       "(14, 1002)"
      ]
     },
     "execution_count": 21,
     "metadata": {
      "tags": []
     },
     "output_type": "execute_result"
    }
   ],
   "source": [
    "Test.shape"
   ]
  },
  {
   "cell_type": "code",
   "execution_count": 0,
   "metadata": {
    "colab": {
     "base_uri": "https://localhost:8080/",
     "height": 51
    },
    "colab_type": "code",
    "id": "GDSIB-7iFQ-5",
    "outputId": "1ae0b8bd-5b2b-426e-8380-04d73c335c89"
   },
   "outputs": [
    {
     "name": "stdout",
     "output_type": "stream",
     "text": [
      "['ZIF-65' 'AFIXES' 'ZIF-65' 'ZIF-65' 'ZIF-65' 'ZIF-65' 'ZIF-65' 'ZIF-65'\n",
      " 'ZIF-12' 'ZIF-65' 'ZIF-90' 'ZIF-90' 'ZIF-12' 'ZIF-12']\n"
     ]
    }
   ],
   "source": [
    "X_test = scaler.transform(Test.iloc[:,:-1])\n",
    "pred = cnn_model.predict(X_test.reshape(14, 1001, 1))\n",
    "out = [np.argmax(p) for p in pred]\n",
    "out = np.array(out)\n",
    "predicted = np.vectorize(mapping.get)(out)\n",
    "print(predicted)"
   ]
  },
  {
   "cell_type": "code",
   "execution_count": 0,
   "metadata": {
    "colab": {},
    "colab_type": "code",
    "id": "tSy5CQ_BlVHf"
   },
   "outputs": [],
   "source": [
    "preds = []\n",
    "for p in pred:\n",
    "  P = []\n",
    "  for i in np.argsort(p)[::-1][0:3]:\n",
    "    P.append(mapping[i])\n",
    "  preds.append(P)"
   ]
  },
  {
   "cell_type": "code",
   "execution_count": 0,
   "metadata": {
    "colab": {
     "base_uri": "https://localhost:8080/",
     "height": 255
    },
    "colab_type": "code",
    "id": "HNxq5dXRjLq5",
    "outputId": "153b21bc-da81-46da-e940-499ea1523e34"
   },
   "outputs": [
    {
     "name": "stdout",
     "output_type": "stream",
     "text": [
      "['ZIF-65', 'ZIF-90', 'ZIF-8']\n",
      "['AFIXES', 'GORQAF', 'DUT-23']\n",
      "['ZIF-65', 'ZIF-90', 'TENQOS']\n",
      "['ZIF-65', 'ZIF-90', 'ZIF-8']\n",
      "['ZIF-65', 'ZIF-90', 'TENQOS']\n",
      "['ZIF-65', 'ZIF-90', 'LITHUR']\n",
      "['ZIF-65', 'ZIF-90', 'TENQOS']\n",
      "['ZIF-65', 'ZIF-90', 'ZIF-8']\n",
      "['ZIF-12', 'ZIF-71', 'ZIF-90']\n",
      "['ZIF-65', 'ZIF-90', 'LITHUR']\n",
      "['ZIF-90', 'ZIF-65', 'TENQOS']\n",
      "['ZIF-90', 'ZIF-65', 'TENQOS']\n",
      "['ZIF-12', 'ZIF-71', 'ZIF-90']\n",
      "['ZIF-12', 'ZIF-71', 'ZIF-90']\n"
     ]
    }
   ],
   "source": [
    "for p in preds:\n",
    "  print(p)"
   ]
  },
  {
   "cell_type": "code",
   "execution_count": 0,
   "metadata": {
    "colab": {
     "base_uri": "https://localhost:8080/",
     "height": 272
    },
    "colab_type": "code",
    "id": "2y8FMLgZULkU",
    "outputId": "b1af888d-8544-4085-fbff-4c9d824fde33"
   },
   "outputs": [
    {
     "data": {
      "text/plain": [
       "0     ZIF-67\n",
       "1     ZIF-67\n",
       "2     ZIF-67\n",
       "3     ZIF-67\n",
       "4      ZIF-8\n",
       "5      ZIF-8\n",
       "6      ZIF-8\n",
       "7     ZIF-90\n",
       "8     ZIF-71\n",
       "9      ZIF-8\n",
       "10    ZIF-90\n",
       "11    ZIF-90\n",
       "12    ZIF-71\n",
       "13    ZIF-71\n",
       "Name: label, dtype: object"
      ]
     },
     "execution_count": 33,
     "metadata": {
      "tags": []
     },
     "output_type": "execute_result"
    }
   ],
   "source": [
    "Test.label"
   ]
  },
  {
   "cell_type": "code",
   "execution_count": 0,
   "metadata": {
    "colab": {},
    "colab_type": "code",
    "id": "36MXutNfUOpf"
   },
   "outputs": [],
   "source": []
  }
 ],
 "metadata": {
  "accelerator": "GPU",
  "colab": {
   "collapsed_sections": [],
   "name": "CNN_MOF.ipynb",
   "provenance": [],
   "version": "0.3.2"
  },
  "kernelspec": {
   "display_name": "Python 3",
   "language": "python",
   "name": "python3"
  },
  "language_info": {
   "codemirror_mode": {
    "name": "ipython",
    "version": 3
   },
   "file_extension": ".py",
   "mimetype": "text/x-python",
   "name": "python",
   "nbconvert_exporter": "python",
   "pygments_lexer": "ipython3",
   "version": "3.7.3"
  }
 },
 "nbformat": 4,
 "nbformat_minor": 1
}
