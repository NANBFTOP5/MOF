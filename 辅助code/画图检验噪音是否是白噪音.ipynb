{
 "cells": [
  {
   "cell_type": "code",
   "execution_count": 1,
   "metadata": {},
   "outputs": [],
   "source": [
    "import numpy as np # linear algebra\n",
    "import pandas as pd # data processing, CSV file I/O (e.g. pd.read_csv)\n",
    "import pickle\n",
    "\n",
    "import random\n",
    "\n",
    "import os\n",
    "import warnings\n",
    "import matplotlib.pyplot as plt\n",
    "warnings.filterwarnings('ignore')\n",
    "\n",
    "os.environ['PYTHONHASHSEED'] = '0'"
   ]
  },
  {
   "cell_type": "code",
   "execution_count": 2,
   "metadata": {},
   "outputs": [],
   "source": [
    "test_file=\"T_origin.pickle\"\n",
    "tmp = np.load(test_file)\n",
    "data_14 = tmp.values"
   ]
  },
  {
   "cell_type": "markdown",
   "metadata": {},
   "source": [
    "先检验时域"
   ]
  },
  {
   "cell_type": "code",
   "execution_count": 12,
   "metadata": {},
   "outputs": [],
   "source": [
    "    test = data_14[13]\n",
    "    num_large = 400\n",
    "\n",
    "    data_zif90_1 = test[:2251]\n",
    "    noise = []\n",
    "\n",
    "    h_the = np.partition(data_zif90_1, -num_large)[-num_large]\n",
    "    for number in data_zif90_1:\n",
    "        if number <= h_the:\n",
    "            noise.append(number)"
   ]
  },
  {
   "cell_type": "code",
   "execution_count": 31,
   "metadata": {},
   "outputs": [
    {
     "data": {
      "text/plain": [
       "(array([ 21.,  61., 109., 188., 283., 225., 198., 162., 118., 103.,  74.,\n",
       "         62.,  43.,  43.,  38.,  21.,  28.,  25.,  25.,  30.]),\n",
       " array([136.667, 164.167, 191.667, 219.167, 246.667, 274.167, 301.667,\n",
       "        329.167, 356.667, 384.167, 411.667, 439.167, 466.667, 494.167,\n",
       "        521.667, 549.167, 576.667, 604.167, 631.667, 659.167, 686.667]),\n",
       " <a list of 20 Patch objects>)"
      ]
     },
     "execution_count": 31,
     "metadata": {},
     "output_type": "execute_result"
    },
    {
     "data": {
      "image/png": "[encoded data removed]",
      "text/plain": [
       "<Figure size 432x288 with 1 Axes>"
      ]
     },
     "metadata": {
      "needs_background": "light"
     },
     "output_type": "display_data"
    }
   ],
   "source": [
    "plt.hist(noise,20)"
   ]
  },
  {
   "cell_type": "code",
   "execution_count": 34,
   "metadata": {},
   "outputs": [
    {
     "data": {
      "text/plain": [
       "(array([  9.,  34.,  77., 190., 170., 191., 183., 120.,  95.,  91., 112.,\n",
       "        108.,  97.,  94.,  66.,  36.,  59.,  40.,  37.,  43.]),\n",
       " array([143.333 , 171.9997, 200.6664, 229.3331, 257.9998, 286.6665,\n",
       "        315.3332, 343.9999, 372.6666, 401.3333, 430.    , 458.6667,\n",
       "        487.3334, 516.0001, 544.6668, 573.3335, 602.0002, 630.6669,\n",
       "        659.3336, 688.0003, 716.667 ]),\n",
       " <a list of 20 Patch objects>)"
      ]
     },
     "execution_count": 34,
     "metadata": {},
     "output_type": "execute_result"
    },
    {
     "data": {
      "image/png": "[encoded data removed]",
      "text/plain": [
       "<Figure size 432x288 with 1 Axes>"
      ]
     },
     "metadata": {
      "needs_background": "light"
     },
     "output_type": "display_data"
    }
   ],
   "source": [
    "    test = data_14[12]\n",
    "    num_large = 400\n",
    "\n",
    "    data_zif90 = test[:2251]\n",
    "    noise = []\n",
    "\n",
    "    h_the = np.partition(data_zif90, -num_large)[-num_large]\n",
    "    for number in data_zif90:\n",
    "        if number <= h_the:\n",
    "            noise.append(number)\n",
    "    plt.hist(noise,20)"
   ]
  },
  {
   "cell_type": "markdown",
   "metadata": {},
   "source": [
    "一下检验转成频域后的noise是否符合高斯分布"
   ]
  },
  {
   "cell_type": "code",
   "execution_count": 36,
   "metadata": {},
   "outputs": [
    {
     "name": "stdout",
     "output_type": "stream",
     "text": [
      "['original', 'no_peak', 'only_peak']\n"
     ]
    },
    {
     "data": {
      "image/png": "[encoded data removed]",
      "text/plain": [
       "<Figure size 432x288 with 1 Axes>"
      ]
     },
     "metadata": {
      "needs_background": "light"
     },
     "output_type": "display_data"
    }
   ],
   "source": [
    "\ttest_file=\"T_origin.pickle\"\n",
    "\ttmp = np.load(test_file)\n",
    "\tdata_14 = tmp.values\n",
    "\n",
    "\ttest = data_14[13]\n",
    "\tnum_large = 400\n",
    "\n",
    "\n",
    "\tdata_zif90 = test[:2251]\n",
    "\tdata_zif90 -= np.median(data_zif90)\n",
    "\tdata_zif90[data_zif90<0] = 0\n",
    "\t########################替换peak为mean\n",
    "\th_the = np.partition(data_zif90, -num_large)[-num_large]\n",
    "\tcopy_no_peak = np.copy(data_zif90)\n",
    "\n",
    "\tcopy_no_peak[data_zif90 > h_the] = np.median(data_zif90)\n",
    "\n",
    "\t########################替换noise为0\n",
    "\tcopy_only_peak = np.copy(data_zif90)\n",
    "\tcopy_only_peak[data_zif90 < h_the] = 0\n",
    "\n",
    "\tnames= ['original', 'no_peak', 'only_peak']\n",
    "\tprint(names)\n",
    "\n",
    "\n",
    "\tfft_len = 2304\n",
    "\teffect = int(fft_len / 2)\n",
    "\n",
    "\tdata = np.zeros((len(names), fft_len))\n",
    "\n",
    "\tdata[0, 20:2251+20] = data_zif90\n",
    "\tdata[1, 20:2251+20] = copy_no_peak\n",
    "\tdata[2, 20:2251+20] = copy_only_peak\n",
    "\n",
    "\tmagnitd = np.zeros((len(names), effect+1))\n",
    "\n",
    "\tfor i in range(len(names)):\n",
    "\t\tdata[i] /= np.max(np.abs(data[i]))\n",
    "\n",
    "\t\ttmp_complex = (np.fft.fft(data[i]))[:int(fft_len/2+1)]\n",
    "\t\tmagnitd[i] = np.log(np.abs(tmp_complex) + 0.000001)\n",
    "\t\tplt.hist(magnitd[i],50)\n",
    "   \n",
    "# \t\tplt.clf()\n",
    "# \t\tfigname = str(i) + '.eps'\n",
    "\t\t#plt.plot(magnitd[i],     'r', label='freq')\n",
    "# \t\tplt.plot(data[i],     'r', label='freq')\n",
    "\n",
    "# \t\tplt.title(str(i) + names[i])\n",
    "# \t\tplt.legend(bbox_to_anchor=(0.2, 1.08, 1., .102), loc=1)\n",
    "# \t\tplt.savefig(figname)\n",
    "# \t\tplt.close(0)"
   ]
  },
  {
   "cell_type": "code",
   "execution_count": 42,
   "metadata": {},
   "outputs": [
    {
     "data": {
      "text/plain": [
       "(array([  3.,   4.,   5.,  11.,  19.,  36.,  68., 111., 194., 254., 209.,\n",
       "        108.,  54.,  44.,  23.,   8.,   1.,   0.,   0.,   1.]),\n",
       " array([-1.67170305, -1.31460865, -0.95751426, -0.60041986, -0.24332546,\n",
       "         0.11376893,  0.47086333,  0.82795773,  1.18505213,  1.54214652,\n",
       "         1.89924092,  2.25633532,  2.61342971,  2.97052411,  3.32761851,\n",
       "         3.68471291,  4.0418073 ,  4.3989017 ,  4.7559961 ,  5.11309049,\n",
       "         5.47018489]),\n",
       " <a list of 20 Patch objects>)"
      ]
     },
     "execution_count": 42,
     "metadata": {},
     "output_type": "execute_result"
    },
    {
     "data": {
      "image/png": "[encoded data removed]",
      "text/plain": [
       "<Figure size 432x288 with 1 Axes>"
      ]
     },
     "metadata": {
      "needs_background": "light"
     },
     "output_type": "display_data"
    }
   ],
   "source": [
    "\tplt.hist(magnitd[1],20)\n"
   ]
  },
  {
   "cell_type": "code",
   "execution_count": 26,
   "metadata": {},
   "outputs": [
    {
     "data": {
      "text/plain": [
       "(array([  2.,   0.,   0.,   0.,   3.,   0.,   2.,   6.,   5.,   4.,  19.,\n",
       "         14.,  17.,  22.,  35.,  39.,  69.,  82.,  88.,  96., 103., 115.,\n",
       "        102.,  85.,  71.,  33.,  15.,   6.,   3.,   5.,   2.,   6.,   1.,\n",
       "          8.,   2.,   7.,   6.,   4.,   5.,   5.,   7.,  10.,   4.,  14.,\n",
       "          9.,   9.,   9.,   3.,   0.,   1.]),\n",
       " array([-4.20438852, -4.04753611, -3.8906837 , -3.73383129, -3.57697887,\n",
       "        -3.42012646, -3.26327405, -3.10642164, -2.94956923, -2.79271682,\n",
       "        -2.63586441, -2.47901199, -2.32215958, -2.16530717, -2.00845476,\n",
       "        -1.85160235, -1.69474994, -1.53789752, -1.38104511, -1.2241927 ,\n",
       "        -1.06734029, -0.91048788, -0.75363547, -0.59678306, -0.43993064,\n",
       "        -0.28307823, -0.12622582,  0.03062659,  0.187479  ,  0.34433141,\n",
       "         0.50118382,  0.65803624,  0.81488865,  0.97174106,  1.12859347,\n",
       "         1.28544588,  1.44229829,  1.5991507 ,  1.75600312,  1.91285553,\n",
       "         2.06970794,  2.22656035,  2.38341276,  2.54026517,  2.69711758,\n",
       "         2.85397   ,  3.01082241,  3.16767482,  3.32452723,  3.48137964,\n",
       "         3.63823205]),\n",
       " <a list of 50 Patch objects>)"
      ]
     },
     "execution_count": 26,
     "metadata": {},
     "output_type": "execute_result"
    },
    {
     "data": {
      "image/png": "[encoded data removed]",
      "text/plain": [
       "<Figure size 432x288 with 1 Axes>"
      ]
     },
     "metadata": {
      "needs_background": "light"
     },
     "output_type": "display_data"
    }
   ],
   "source": [
    "\tplt.hist(magnitd[2],50) "
   ]
  },
  {
   "cell_type": "code",
   "execution_count": null,
   "metadata": {},
   "outputs": [],
   "source": []
  }
 ],
 "metadata": {
  "kernelspec": {
   "display_name": "Python 3",
   "language": "python",
   "name": "python3"
  },
  "language_info": {
   "codemirror_mode": {
    "name": "ipython",
    "version": 3
   },
   "file_extension": ".py",
   "mimetype": "text/x-python",
   "name": "python",
   "nbconvert_exporter": "python",
   "pygments_lexer": "ipython3",
   "version": "3.6.8"
  }
 },
 "nbformat": 4,
 "nbformat_minor": 2
}
